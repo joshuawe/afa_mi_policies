{
 "cells": [
  {
   "cell_type": "markdown",
   "id": "8c30e44e-52d6-4634-b522-c267d9d25c18",
   "metadata": {},
   "source": [
    "# (1) Train predicator (classifier) for AFA \n",
    "The AFA problem contains the training of a classifier that is able to predict well based on any acquired subset of features. \n",
    "In this notebook we train and save such a classifier "
   ]
  },
  {
   "cell_type": "code",
   "execution_count": 6,
   "id": "8ef781ed-4103-4ab3-9f58-0839da5b5655",
   "metadata": {},
   "outputs": [
    {
     "name": "stdout",
     "output_type": "stream",
     "text": [
      "The autoreload extension is already loaded. To reload it, use:\n",
      "  %reload_ext autoreload\n"
     ]
    }
   ],
   "source": [
    "%load_ext autoreload\n",
    "%autoreload 2"
   ]
  },
  {
   "cell_type": "markdown",
   "id": "57977939-d5d3-4f0c-bd02-170beb177566",
   "metadata": {},
   "source": [
    "## Define paths"
   ]
  },
  {
   "cell_type": "markdown",
   "id": "de01ecb4-228b-4953-bca7-390eeeb74aa7",
   "metadata": {},
   "source": [
    "Paths for data"
   ]
  },
  {
   "cell_type": "code",
   "execution_count": 11,
   "id": "d48c5748-725f-4cc6-80b9-908f1b32664d",
   "metadata": {},
   "outputs": [],
   "source": [
    "from afa.configurations.utils_ts import specify_default_paths_ts\n",
    "# which dataset to work on \n",
    "dataset_name   = \"miiv_test\"\n",
    "\n",
    "# name for of missingness scenario \n",
    "miss_scenario  = 'MCAR_1_from_miiv'\n",
    "\n",
    "# data root directory\n",
    "data_root = '/home2/joshua.wendland/Documents/afa_mi_policies/data/'\n",
    "\n",
    "# automatically specify some path locations (change paths manually if needed) \n",
    "paths = specify_default_paths_ts(dataset_name = dataset_name , miss_scenario = miss_scenario, data_root=data_root)"
   ]
  },
  {
   "cell_type": "markdown",
   "id": "d86f309b-441c-4c0b-a6d8-89837df5a91f",
   "metadata": {},
   "source": [
    "Paths for model"
   ]
  },
  {
   "cell_type": "code",
   "execution_count": 3,
   "id": "f28e2e44-576f-4371-9ab8-001a0ab989e9",
   "metadata": {},
   "outputs": [],
   "source": [
    "# name for predictor \n",
    "predictor_model_name  = 'TCN'\n",
    "\n",
    "# new (where to save the model) \n",
    "predictor_model_dir = paths['data_dir'] + 'predictor_models' + '/' + predictor_model_name + '/'"
   ]
  },
  {
   "cell_type": "markdown",
   "id": "0c26bb79-a599-4ec2-8714-395774f29e86",
   "metadata": {},
   "source": [
    "## Load dataset with missingness \n",
    "At first, we want to load the dataset \n",
    "\n",
    "Includes loading: \n",
    "- superfeature mapping\n",
    "- problem\n",
    "- afa_problem \n",
    "- missingness_model"
   ]
  },
  {
   "cell_type": "code",
   "execution_count": 8,
   "id": "e389e952-73f7-4961-aaf3-7da80d5ebc9a",
   "metadata": {},
   "outputs": [],
   "source": [
    "from afa.data_modelling.datasets.data_loader.data_loader_ts import DataLoader_ts"
   ]
  },
  {
   "cell_type": "code",
   "execution_count": 12,
   "id": "42cd08c0-44c4-4f01-88d7-33ccd11bc28a",
   "metadata": {},
   "outputs": [
    {
     "name": "stderr",
     "output_type": "stream",
     "text": [
      "Padding sequences: 100%|██████████| 100/100 [00:00<00:00, 2435.04it/s]\n",
      "Padding sequences: 100%|██████████| 100/100 [00:00<00:00, 2603.40it/s]\n",
      "Padding sequences: 100%|██████████| 100/100 [00:00<00:00, 1869.65it/s]\n"
     ]
    }
   ],
   "source": [
    "data_loader = DataLoader_ts(     data_file                  = paths['data_file'],\n",
    "                                 temporal_data_file         = paths['temporal_data_file'],\n",
    "                                 superfeature_mapping_file  = paths['superfeature_mapping_file'],\n",
    "                                 problem_file               = paths['problem_file'],\n",
    "                                 afa_problem_files          = paths['afa_problem_files'], \n",
    "                                 miss_model_files           = paths['miss_model_files'], \n",
    "                                 folds_file                 = paths['folds_file'] )\n",
    "dataset = data_loader.load() "
   ]
  },
  {
   "cell_type": "markdown",
   "id": "3539523a-b1e7-4b8f-b010-3082ae3817ff",
   "metadata": {},
   "source": [
    "## Create afa dataset with missingness \n",
    "To train an AFA predictor, we need to induce artificial missingness (such that the predictor is robust to the missingness pattern). \n",
    "Here, we use a simple model to create missingness randomly (MCAR)."
   ]
  },
  {
   "cell_type": "code",
   "execution_count": 13,
   "id": "f443fefb-ebed-4e35-bd9a-3b10988dc31a",
   "metadata": {},
   "outputs": [],
   "source": [
    "from afa.afa_datasets.utils_ts import create_MCAR_afa_dataset_ts"
   ]
  },
  {
   "cell_type": "code",
   "execution_count": 33,
   "id": "b8f3bc2c-8c2c-407b-9d28-b8779a262a7e",
   "metadata": {},
   "outputs": [
    {
     "name": "stdout",
     "output_type": "stream",
     "text": [
      "Change base_model to stationary_constant\n",
      "Change base_model to stationary_constant\n",
      "Change base_model to stationary_constant\n",
      "Change base_model to stationary_constant\n",
      "Change base_model to stationary_constant\n",
      "Change base_model to stationary_constant\n",
      "Set weight for constant stationary model ...\n",
      "Set weight for constant stationary model ...\n",
      "Set weight for constant stationary model ...\n",
      "Set weight for constant stationary model ...\n",
      "Set weight for constant stationary model ...\n",
      "Set weight for constant stationary model ...\n"
     ]
    }
   ],
   "source": [
    "afa_dataset = create_MCAR_afa_dataset_ts( dataset, MCAR_ratio = 0.9, n_samples = 5)"
   ]
  },
  {
   "cell_type": "markdown",
   "id": "7c25e9b6-f18b-47fb-9240-58efb84201ca",
   "metadata": {},
   "source": [
    "## Train Predictor "
   ]
  },
  {
   "cell_type": "markdown",
   "id": "ea987f31-febe-4053-9b9e-10dca7a72cfd",
   "metadata": {},
   "source": [
    "### Initialize predictor "
   ]
  },
  {
   "cell_type": "code",
   "execution_count": 17,
   "id": "39e3df59-098e-4ccb-a5ee-9ba6e9f0c29b",
   "metadata": {},
   "outputs": [],
   "source": [
    "from afa.afa_models.afa_predictors.afa_predictor_ts import AFAPredictor_ts"
   ]
  },
  {
   "cell_type": "code",
   "execution_count": 34,
   "id": "c4921f92-6e4c-49df-803a-682423b8e0bf",
   "metadata": {
    "tags": []
   },
   "outputs": [],
   "source": [
    "predictor_model_params = {\n",
    "    'name' : predictor_model_name, \n",
    "    'directory': predictor_model_dir,\n",
    "    'base_model_params' : {   'model_type': 'impute_then_regress',\n",
    "                              'imputer_params' : \n",
    "                                       {   \n",
    "                                      'model_type': 'simple_imputer',\n",
    "                                      'mode' : 'imputation'\n",
    "                                      },\n",
    "                              'predictor_params' : \n",
    "                                       {   \n",
    "                                      'model_type': 'ann',\n",
    "                                      'mode' : 'classification',\n",
    "                                      'units':              1,\n",
    "                                      'layers': 1,\n",
    "                                      'learning_rate': 0.01,\n",
    "                                      'batch_size' :128,\n",
    "                                      'epochs': 100 \n",
    "                                      }\n",
    "                          }\n",
    "    }\n",
    "\n",
    "# predictor_model_params = {\n",
    "#     'name' : predictor_model_name, \n",
    "#     'directory': predictor_model_dir,\n",
    "#     'base_model_params' : {   \n",
    "#         'model_type': 'TCN',  \n",
    "#         'seed': 54,                     # seed for reproduceability\n",
    "#         'lr': 0.01,                     # initial learning rate for lr-scheduler\n",
    "#         'time excluded': True,          # for logging purposes, if time is included as a feature\n",
    "#         'num_inputs': 48,                # The number of features that are used as input\n",
    "#         'num_layers': 2,                # The number of temporal conv. layers\n",
    "#         'channels_per_layer': 8,        # The number of channels per temp. conv. layer\n",
    "#         'kernel_size': 3,               # Num time steps for kernel window\n",
    "#         'max_epochs': 20,              # Max. epochs for training\n",
    "#         'batch_size': 2000,             # Number of samples per batch\n",
    "#         'dropout': 0.3,                 # Dropout for all temp. conv. layers\n",
    "#         'patience': 60,                 # Num epochs as patience for early stopping, default 50.\n",
    "#         'weight_decay': 0,              # Weight decay for L2 regularization of Adam optmizer\n",
    "#         'wandb_logger': False,           # If weights and biases logger should be used\n",
    "#         #'wandb_project_name': 'Synthetic_2 classifier (AFA)'    # project name if wandb_logger is used\n",
    "#     }\n",
    "# }"
   ]
  },
  {
   "cell_type": "code",
   "execution_count": 35,
   "id": "399aeb50-ea4b-4d63-985d-b241a332e52e",
   "metadata": {},
   "outputs": [
    {
     "name": "stdout",
     "output_type": "stream",
     "text": [
      "Loading already trained weights for SimpleImputer...\n",
      "Loading already trained weights for ann...\n"
     ]
    }
   ],
   "source": [
    "afa_predictor = AFAPredictor_ts(    name            = predictor_model_params['name'], \n",
    "                                    model_params    = predictor_model_params, \n",
    "                                    directory       = predictor_model_params['directory'])   "
   ]
  },
  {
   "cell_type": "code",
   "execution_count": 27,
   "id": "580ab479",
   "metadata": {},
   "outputs": [
    {
     "name": "stdout",
     "output_type": "stream",
     "text": [
      "Does any of the layers have any NAN values for weights?\n",
      "0 tensor(False)\n",
      "1 tensor(False)\n",
      "2 tensor(False)\n",
      "3 tensor(False)\n",
      "4 tensor(False)\n",
      "5 tensor(False)\n",
      "6 tensor(False)\n",
      "7 tensor(False)\n",
      "8 tensor(False)\n",
      "9 tensor(False)\n",
      "10 tensor(False)\n",
      "11 tensor(False)\n",
      "12 tensor(False)\n",
      "13 tensor(False)\n",
      "14 tensor(False)\n",
      "15 tensor(False)\n",
      "fhgsdf\n"
     ]
    }
   ],
   "source": [
    "print('Does any of the layers have any NAN values for weights?')\n",
    "for i,p in enumerate(afa_predictor.base_model.model.parameters()):\n",
    "    print(i, p.isnan().any())\n",
    "print('fhgsdf')"
   ]
  },
  {
   "cell_type": "code",
   "execution_count": 36,
   "id": "2b521049-ef7e-4b80-8a50-015475834a14",
   "metadata": {
    "tags": []
   },
   "outputs": [
    {
     "name": "stderr",
     "output_type": "stream",
     "text": [
      "Convert superR to R: 100%|██████████| 6/6 [00:00<00:00, 10292.77it/s]"
     ]
    },
    {
     "name": "stdout",
     "output_type": "stream",
     "text": [
      "Fit simple_imputer model\n",
      "Finished fitting simple_imputer model\n",
      "Fit ann model\n",
      "WARNING:tensorflow:`period` argument is deprecated. Please use `save_freq` to specify the frequency in number of batches seen.\n",
      "Epoch 1/100\n"
     ]
    },
    {
     "name": "stderr",
     "output_type": "stream",
     "text": [
      "\n"
     ]
    },
    {
     "name": "stdout",
     "output_type": "stream",
     "text": [
      "34/34 [==============================] - 0s 3ms/step - loss: nan - binary_accuracy: 0.4215 - val_loss: nan - val_binary_accuracy: 0.5354\n",
      "Epoch 2/100\n",
      "34/34 [==============================] - 0s 1ms/step - loss: nan - binary_accuracy: 0.4215 - val_loss: nan - val_binary_accuracy: 0.5354\n",
      "Epoch 3/100\n",
      "34/34 [==============================] - 0s 1ms/step - loss: nan - binary_accuracy: 0.4215 - val_loss: nan - val_binary_accuracy: 0.5354\n",
      "Epoch 4/100\n",
      "34/34 [==============================] - 0s 931us/step - loss: nan - binary_accuracy: 0.4215 - val_loss: nan - val_binary_accuracy: 0.5354\n",
      "Epoch 5/100\n",
      "34/34 [==============================] - 0s 961us/step - loss: nan - binary_accuracy: 0.4215 - val_loss: nan - val_binary_accuracy: 0.5354\n",
      "Epoch 6/100\n",
      "34/34 [==============================] - 0s 981us/step - loss: nan - binary_accuracy: 0.4215 - val_loss: nan - val_binary_accuracy: 0.5354\n",
      "Epoch 7/100\n",
      "34/34 [==============================] - 0s 929us/step - loss: nan - binary_accuracy: 0.4215 - val_loss: nan - val_binary_accuracy: 0.5354\n",
      "Epoch 8/100\n",
      "34/34 [==============================] - 0s 1ms/step - loss: nan - binary_accuracy: 0.4215 - val_loss: nan - val_binary_accuracy: 0.5354\n",
      "Epoch 9/100\n",
      "34/34 [==============================] - 0s 1ms/step - loss: nan - binary_accuracy: 0.4215 - val_loss: nan - val_binary_accuracy: 0.5354\n",
      "Epoch 10/100\n",
      " 1/34 [..............................] - ETA: 0s - loss: nan - binary_accuracy: 0.4453\n",
      "Epoch 10: saving model to /home2/joshua.wendland/Documents/afa_mi_policies/data/miiv_test/MCAR_1_from_miiv/predictor_models/TCN/cp.ckpt\n",
      "34/34 [==============================] - 0s 5ms/step - loss: nan - binary_accuracy: 0.4215 - val_loss: nan - val_binary_accuracy: 0.5354\n",
      "Epoch 11/100\n",
      "34/34 [==============================] - 0s 1ms/step - loss: nan - binary_accuracy: 0.4215 - val_loss: nan - val_binary_accuracy: 0.5354\n",
      "Epoch 12/100\n",
      "34/34 [==============================] - 0s 983us/step - loss: nan - binary_accuracy: 0.4215 - val_loss: nan - val_binary_accuracy: 0.5354\n",
      "Epoch 13/100\n",
      "34/34 [==============================] - 0s 874us/step - loss: nan - binary_accuracy: 0.4215 - val_loss: nan - val_binary_accuracy: 0.5354\n",
      "Epoch 14/100\n",
      "34/34 [==============================] - 0s 1ms/step - loss: nan - binary_accuracy: 0.4215 - val_loss: nan - val_binary_accuracy: 0.5354\n",
      "Epoch 15/100\n",
      "34/34 [==============================] - 0s 1ms/step - loss: nan - binary_accuracy: 0.4215 - val_loss: nan - val_binary_accuracy: 0.5354\n",
      "Epoch 16/100\n",
      "34/34 [==============================] - 0s 1ms/step - loss: nan - binary_accuracy: 0.4215 - val_loss: nan - val_binary_accuracy: 0.5354\n",
      "Epoch 17/100\n",
      "34/34 [==============================] - 0s 956us/step - loss: nan - binary_accuracy: 0.4215 - val_loss: nan - val_binary_accuracy: 0.5354\n",
      "Epoch 18/100\n",
      "34/34 [==============================] - 0s 995us/step - loss: nan - binary_accuracy: 0.4215 - val_loss: nan - val_binary_accuracy: 0.5354\n",
      "Epoch 19/100\n",
      "34/34 [==============================] - 0s 951us/step - loss: nan - binary_accuracy: 0.4215 - val_loss: nan - val_binary_accuracy: 0.5354\n",
      "Epoch 20/100\n",
      " 1/34 [..............................] - ETA: 0s - loss: nan - binary_accuracy: 0.4375\n",
      "Epoch 20: saving model to /home2/joshua.wendland/Documents/afa_mi_policies/data/miiv_test/MCAR_1_from_miiv/predictor_models/TCN/cp.ckpt\n",
      "34/34 [==============================] - 0s 4ms/step - loss: nan - binary_accuracy: 0.4215 - val_loss: nan - val_binary_accuracy: 0.5354\n",
      "Epoch 21/100\n",
      "34/34 [==============================] - 0s 1ms/step - loss: nan - binary_accuracy: 0.4215 - val_loss: nan - val_binary_accuracy: 0.5354\n",
      "Epoch 22/100\n",
      "34/34 [==============================] - 0s 991us/step - loss: nan - binary_accuracy: 0.4215 - val_loss: nan - val_binary_accuracy: 0.5354\n",
      "Epoch 23/100\n",
      "34/34 [==============================] - 0s 965us/step - loss: nan - binary_accuracy: 0.4215 - val_loss: nan - val_binary_accuracy: 0.5354\n",
      "Epoch 24/100\n",
      "34/34 [==============================] - 0s 1ms/step - loss: nan - binary_accuracy: 0.4215 - val_loss: nan - val_binary_accuracy: 0.5354\n",
      "Epoch 25/100\n",
      "34/34 [==============================] - 0s 1ms/step - loss: nan - binary_accuracy: 0.4215 - val_loss: nan - val_binary_accuracy: 0.5354\n",
      "Epoch 26/100\n",
      "34/34 [==============================] - 0s 970us/step - loss: nan - binary_accuracy: 0.4215 - val_loss: nan - val_binary_accuracy: 0.5354\n",
      "Epoch 27/100\n",
      "34/34 [==============================] - 0s 1ms/step - loss: nan - binary_accuracy: 0.4215 - val_loss: nan - val_binary_accuracy: 0.5354\n",
      "Epoch 28/100\n",
      "34/34 [==============================] - 0s 1ms/step - loss: nan - binary_accuracy: 0.4215 - val_loss: nan - val_binary_accuracy: 0.5354\n",
      "Epoch 29/100\n",
      "34/34 [==============================] - 0s 970us/step - loss: nan - binary_accuracy: 0.4215 - val_loss: nan - val_binary_accuracy: 0.5354\n",
      "Epoch 30/100\n",
      " 1/34 [..............................] - ETA: 0s - loss: nan - binary_accuracy: 0.3672\n",
      "Epoch 30: saving model to /home2/joshua.wendland/Documents/afa_mi_policies/data/miiv_test/MCAR_1_from_miiv/predictor_models/TCN/cp.ckpt\n",
      "34/34 [==============================] - 0s 4ms/step - loss: nan - binary_accuracy: 0.4215 - val_loss: nan - val_binary_accuracy: 0.5354\n",
      "Epoch 31/100\n",
      "34/34 [==============================] - 0s 1ms/step - loss: nan - binary_accuracy: 0.4215 - val_loss: nan - val_binary_accuracy: 0.5354\n",
      "Epoch 32/100\n",
      "34/34 [==============================] - 0s 961us/step - loss: nan - binary_accuracy: 0.4215 - val_loss: nan - val_binary_accuracy: 0.5354\n",
      "Epoch 33/100\n",
      "34/34 [==============================] - 0s 947us/step - loss: nan - binary_accuracy: 0.4215 - val_loss: nan - val_binary_accuracy: 0.5354\n",
      "Epoch 34/100\n",
      "34/34 [==============================] - 0s 995us/step - loss: nan - binary_accuracy: 0.4215 - val_loss: nan - val_binary_accuracy: 0.5354\n",
      "Epoch 35/100\n",
      "34/34 [==============================] - 0s 988us/step - loss: nan - binary_accuracy: 0.4215 - val_loss: nan - val_binary_accuracy: 0.5354\n",
      "Epoch 36/100\n",
      "34/34 [==============================] - 0s 1ms/step - loss: nan - binary_accuracy: 0.4215 - val_loss: nan - val_binary_accuracy: 0.5354\n",
      "Epoch 37/100\n",
      "34/34 [==============================] - 0s 973us/step - loss: nan - binary_accuracy: 0.4215 - val_loss: nan - val_binary_accuracy: 0.5354\n",
      "Epoch 38/100\n",
      "34/34 [==============================] - 0s 985us/step - loss: nan - binary_accuracy: 0.4215 - val_loss: nan - val_binary_accuracy: 0.5354\n",
      "Epoch 39/100\n",
      "34/34 [==============================] - 0s 1ms/step - loss: nan - binary_accuracy: 0.4215 - val_loss: nan - val_binary_accuracy: 0.5354\n",
      "Epoch 40/100\n",
      " 1/34 [..............................] - ETA: 0s - loss: nan - binary_accuracy: 0.4375\n",
      "Epoch 40: saving model to /home2/joshua.wendland/Documents/afa_mi_policies/data/miiv_test/MCAR_1_from_miiv/predictor_models/TCN/cp.ckpt\n",
      "34/34 [==============================] - 0s 3ms/step - loss: nan - binary_accuracy: 0.4215 - val_loss: nan - val_binary_accuracy: 0.5354\n",
      "Epoch 41/100\n",
      "34/34 [==============================] - 0s 1ms/step - loss: nan - binary_accuracy: 0.4215 - val_loss: nan - val_binary_accuracy: 0.5354\n",
      "Epoch 42/100\n",
      "34/34 [==============================] - 0s 1ms/step - loss: nan - binary_accuracy: 0.4215 - val_loss: nan - val_binary_accuracy: 0.5354\n",
      "Epoch 43/100\n",
      "34/34 [==============================] - 0s 970us/step - loss: nan - binary_accuracy: 0.4215 - val_loss: nan - val_binary_accuracy: 0.5354\n",
      "Epoch 44/100\n",
      "34/34 [==============================] - 0s 930us/step - loss: nan - binary_accuracy: 0.4215 - val_loss: nan - val_binary_accuracy: 0.5354\n",
      "Epoch 45/100\n",
      "34/34 [==============================] - 0s 997us/step - loss: nan - binary_accuracy: 0.4215 - val_loss: nan - val_binary_accuracy: 0.5354\n",
      "Epoch 46/100\n",
      "34/34 [==============================] - 0s 975us/step - loss: nan - binary_accuracy: 0.4215 - val_loss: nan - val_binary_accuracy: 0.5354\n",
      "Epoch 47/100\n",
      "34/34 [==============================] - 0s 987us/step - loss: nan - binary_accuracy: 0.4215 - val_loss: nan - val_binary_accuracy: 0.5354\n",
      "Epoch 48/100\n",
      "34/34 [==============================] - 0s 1ms/step - loss: nan - binary_accuracy: 0.4215 - val_loss: nan - val_binary_accuracy: 0.5354\n",
      "Epoch 49/100\n",
      "34/34 [==============================] - 0s 1ms/step - loss: nan - binary_accuracy: 0.4215 - val_loss: nan - val_binary_accuracy: 0.5354\n",
      "Epoch 50/100\n",
      " 1/34 [..............................] - ETA: 0s - loss: nan - binary_accuracy: 0.4141\n",
      "Epoch 50: saving model to /home2/joshua.wendland/Documents/afa_mi_policies/data/miiv_test/MCAR_1_from_miiv/predictor_models/TCN/cp.ckpt\n",
      "34/34 [==============================] - 0s 5ms/step - loss: nan - binary_accuracy: 0.4215 - val_loss: nan - val_binary_accuracy: 0.5354\n",
      "Epoch 51/100\n",
      "34/34 [==============================] - 0s 1ms/step - loss: nan - binary_accuracy: 0.4215 - val_loss: nan - val_binary_accuracy: 0.5354\n",
      "Epoch 52/100\n",
      "34/34 [==============================] - 0s 1ms/step - loss: nan - binary_accuracy: 0.4215 - val_loss: nan - val_binary_accuracy: 0.5354\n",
      "Epoch 53/100\n",
      "34/34 [==============================] - 0s 1ms/step - loss: nan - binary_accuracy: 0.4215 - val_loss: nan - val_binary_accuracy: 0.5354\n",
      "Epoch 54/100\n",
      "34/34 [==============================] - 0s 972us/step - loss: nan - binary_accuracy: 0.4215 - val_loss: nan - val_binary_accuracy: 0.5354\n",
      "Epoch 55/100\n",
      "34/34 [==============================] - 0s 1ms/step - loss: nan - binary_accuracy: 0.4215 - val_loss: nan - val_binary_accuracy: 0.5354\n",
      "Epoch 56/100\n",
      "34/34 [==============================] - 0s 1ms/step - loss: nan - binary_accuracy: 0.4215 - val_loss: nan - val_binary_accuracy: 0.5354\n",
      "Epoch 57/100\n",
      "34/34 [==============================] - 0s 1ms/step - loss: nan - binary_accuracy: 0.4215 - val_loss: nan - val_binary_accuracy: 0.5354\n",
      "Epoch 58/100\n",
      "34/34 [==============================] - 0s 936us/step - loss: nan - binary_accuracy: 0.4215 - val_loss: nan - val_binary_accuracy: 0.5354\n",
      "Epoch 59/100\n",
      "34/34 [==============================] - 0s 919us/step - loss: nan - binary_accuracy: 0.4215 - val_loss: nan - val_binary_accuracy: 0.5354\n",
      "Epoch 60/100\n",
      " 1/34 [..............................] - ETA: 0s - loss: nan - binary_accuracy: 0.4453\n",
      "Epoch 60: saving model to /home2/joshua.wendland/Documents/afa_mi_policies/data/miiv_test/MCAR_1_from_miiv/predictor_models/TCN/cp.ckpt\n",
      "34/34 [==============================] - 0s 5ms/step - loss: nan - binary_accuracy: 0.4215 - val_loss: nan - val_binary_accuracy: 0.5354\n",
      "Epoch 61/100\n",
      "34/34 [==============================] - 0s 953us/step - loss: nan - binary_accuracy: 0.4215 - val_loss: nan - val_binary_accuracy: 0.5354\n",
      "Epoch 62/100\n",
      "34/34 [==============================] - 0s 994us/step - loss: nan - binary_accuracy: 0.4215 - val_loss: nan - val_binary_accuracy: 0.5354\n",
      "Epoch 63/100\n",
      "34/34 [==============================] - 0s 999us/step - loss: nan - binary_accuracy: 0.4215 - val_loss: nan - val_binary_accuracy: 0.5354\n",
      "Epoch 64/100\n",
      "34/34 [==============================] - 0s 1ms/step - loss: nan - binary_accuracy: 0.4215 - val_loss: nan - val_binary_accuracy: 0.5354\n",
      "Epoch 65/100\n",
      "34/34 [==============================] - 0s 918us/step - loss: nan - binary_accuracy: 0.4215 - val_loss: nan - val_binary_accuracy: 0.5354\n",
      "Epoch 66/100\n",
      "34/34 [==============================] - 0s 1ms/step - loss: nan - binary_accuracy: 0.4215 - val_loss: nan - val_binary_accuracy: 0.5354\n",
      "Epoch 67/100\n",
      "34/34 [==============================] - 0s 1ms/step - loss: nan - binary_accuracy: 0.4215 - val_loss: nan - val_binary_accuracy: 0.5354\n",
      "Epoch 68/100\n",
      "34/34 [==============================] - 0s 1ms/step - loss: nan - binary_accuracy: 0.4215 - val_loss: nan - val_binary_accuracy: 0.5354\n",
      "Epoch 69/100\n",
      "34/34 [==============================] - 0s 1ms/step - loss: nan - binary_accuracy: 0.4215 - val_loss: nan - val_binary_accuracy: 0.5354\n",
      "Epoch 70/100\n",
      " 1/34 [..............................] - ETA: 0s - loss: nan - binary_accuracy: 0.3750\n",
      "Epoch 70: saving model to /home2/joshua.wendland/Documents/afa_mi_policies/data/miiv_test/MCAR_1_from_miiv/predictor_models/TCN/cp.ckpt\n",
      "34/34 [==============================] - 0s 4ms/step - loss: nan - binary_accuracy: 0.4215 - val_loss: nan - val_binary_accuracy: 0.5354\n",
      "Epoch 71/100\n",
      "34/34 [==============================] - 0s 1ms/step - loss: nan - binary_accuracy: 0.4215 - val_loss: nan - val_binary_accuracy: 0.5354\n",
      "Epoch 72/100\n",
      "34/34 [==============================] - 0s 993us/step - loss: nan - binary_accuracy: 0.4215 - val_loss: nan - val_binary_accuracy: 0.5354\n",
      "Epoch 73/100\n",
      "34/34 [==============================] - 0s 1ms/step - loss: nan - binary_accuracy: 0.4215 - val_loss: nan - val_binary_accuracy: 0.5354\n",
      "Epoch 74/100\n",
      "34/34 [==============================] - 0s 964us/step - loss: nan - binary_accuracy: 0.4215 - val_loss: nan - val_binary_accuracy: 0.5354\n",
      "Epoch 75/100\n",
      "34/34 [==============================] - 0s 1ms/step - loss: nan - binary_accuracy: 0.4215 - val_loss: nan - val_binary_accuracy: 0.5354\n",
      "Epoch 76/100\n",
      "34/34 [==============================] - 0s 834us/step - loss: nan - binary_accuracy: 0.4215 - val_loss: nan - val_binary_accuracy: 0.5354\n",
      "Epoch 77/100\n",
      "34/34 [==============================] - 0s 962us/step - loss: nan - binary_accuracy: 0.4215 - val_loss: nan - val_binary_accuracy: 0.5354\n",
      "Epoch 78/100\n",
      "34/34 [==============================] - 0s 1ms/step - loss: nan - binary_accuracy: 0.4215 - val_loss: nan - val_binary_accuracy: 0.5354\n",
      "Epoch 79/100\n",
      "34/34 [==============================] - 0s 965us/step - loss: nan - binary_accuracy: 0.4215 - val_loss: nan - val_binary_accuracy: 0.5354\n",
      "Epoch 80/100\n",
      " 1/34 [..............................] - ETA: 0s - loss: nan - binary_accuracy: 0.4922\n",
      "Epoch 80: saving model to /home2/joshua.wendland/Documents/afa_mi_policies/data/miiv_test/MCAR_1_from_miiv/predictor_models/TCN/cp.ckpt\n",
      "34/34 [==============================] - 0s 5ms/step - loss: nan - binary_accuracy: 0.4215 - val_loss: nan - val_binary_accuracy: 0.5354\n",
      "Epoch 81/100\n",
      "34/34 [==============================] - 0s 1ms/step - loss: nan - binary_accuracy: 0.4215 - val_loss: nan - val_binary_accuracy: 0.5354\n",
      "Epoch 82/100\n",
      "34/34 [==============================] - 0s 926us/step - loss: nan - binary_accuracy: 0.4215 - val_loss: nan - val_binary_accuracy: 0.5354\n",
      "Epoch 83/100\n",
      "34/34 [==============================] - 0s 925us/step - loss: nan - binary_accuracy: 0.4215 - val_loss: nan - val_binary_accuracy: 0.5354\n",
      "Epoch 84/100\n",
      "34/34 [==============================] - 0s 948us/step - loss: nan - binary_accuracy: 0.4215 - val_loss: nan - val_binary_accuracy: 0.5354\n",
      "Epoch 85/100\n",
      "34/34 [==============================] - 0s 964us/step - loss: nan - binary_accuracy: 0.4215 - val_loss: nan - val_binary_accuracy: 0.5354\n",
      "Epoch 86/100\n",
      "34/34 [==============================] - 0s 988us/step - loss: nan - binary_accuracy: 0.4215 - val_loss: nan - val_binary_accuracy: 0.5354\n",
      "Epoch 87/100\n",
      "34/34 [==============================] - 0s 935us/step - loss: nan - binary_accuracy: 0.4215 - val_loss: nan - val_binary_accuracy: 0.5354\n",
      "Epoch 88/100\n",
      "34/34 [==============================] - 0s 954us/step - loss: nan - binary_accuracy: 0.4215 - val_loss: nan - val_binary_accuracy: 0.5354\n",
      "Epoch 89/100\n",
      "34/34 [==============================] - 0s 995us/step - loss: nan - binary_accuracy: 0.4215 - val_loss: nan - val_binary_accuracy: 0.5354\n",
      "Epoch 90/100\n",
      " 1/34 [..............................] - ETA: 0s - loss: nan - binary_accuracy: 0.3047\n",
      "Epoch 90: saving model to /home2/joshua.wendland/Documents/afa_mi_policies/data/miiv_test/MCAR_1_from_miiv/predictor_models/TCN/cp.ckpt\n",
      "34/34 [==============================] - 0s 6ms/step - loss: nan - binary_accuracy: 0.4215 - val_loss: nan - val_binary_accuracy: 0.5354\n",
      "Epoch 91/100\n",
      "34/34 [==============================] - 0s 1ms/step - loss: nan - binary_accuracy: 0.4215 - val_loss: nan - val_binary_accuracy: 0.5354\n",
      "Epoch 92/100\n",
      "34/34 [==============================] - 0s 990us/step - loss: nan - binary_accuracy: 0.4215 - val_loss: nan - val_binary_accuracy: 0.5354\n",
      "Epoch 93/100\n",
      "34/34 [==============================] - 0s 907us/step - loss: nan - binary_accuracy: 0.4215 - val_loss: nan - val_binary_accuracy: 0.5354\n",
      "Epoch 94/100\n",
      "34/34 [==============================] - 0s 894us/step - loss: nan - binary_accuracy: 0.4215 - val_loss: nan - val_binary_accuracy: 0.5354\n",
      "Epoch 95/100\n",
      "34/34 [==============================] - 0s 975us/step - loss: nan - binary_accuracy: 0.4215 - val_loss: nan - val_binary_accuracy: 0.5354\n",
      "Epoch 96/100\n",
      "34/34 [==============================] - 0s 921us/step - loss: nan - binary_accuracy: 0.4215 - val_loss: nan - val_binary_accuracy: 0.5354\n",
      "Epoch 97/100\n",
      "34/34 [==============================] - 0s 918us/step - loss: nan - binary_accuracy: 0.4215 - val_loss: nan - val_binary_accuracy: 0.5354\n",
      "Epoch 98/100\n",
      "34/34 [==============================] - 0s 982us/step - loss: nan - binary_accuracy: 0.4215 - val_loss: nan - val_binary_accuracy: 0.5354\n",
      "Epoch 99/100\n",
      "34/34 [==============================] - 0s 931us/step - loss: nan - binary_accuracy: 0.4215 - val_loss: nan - val_binary_accuracy: 0.5354\n",
      "Epoch 100/100\n",
      " 1/34 [..............................] - ETA: 0s - loss: nan - binary_accuracy: 0.3828\n",
      "Epoch 100: saving model to /home2/joshua.wendland/Documents/afa_mi_policies/data/miiv_test/MCAR_1_from_miiv/predictor_models/TCN/cp.ckpt\n",
      "34/34 [==============================] - 0s 3ms/step - loss: nan - binary_accuracy: 0.4215 - val_loss: nan - val_binary_accuracy: 0.5354\n",
      "Finished fitting ann model\n"
     ]
    },
    {
     "name": "stderr",
     "output_type": "stream",
     "text": [
      "Convert superR to R: 100%|██████████| 6/6 [00:00<00:00, 8997.43it/s]"
     ]
    },
    {
     "name": "stdout",
     "output_type": "stream",
     "text": [
      "150/150 [==============================] - 0s 343us/step\n",
      "Model accuracy: 99.3%\n",
      "Model accuracy: 99.3%\n",
      "Error while plotting ROC curve.\n",
      " Input contains NaN.\n"
     ]
    },
    {
     "name": "stderr",
     "output_type": "stream",
     "text": [
      "\n"
     ]
    },
    {
     "data": {
      "image/png": "[encoded data removed]",
      "text/plain": [
       "<Figure size 400x500 with 1 Axes>"
      ]
     },
     "metadata": {},
     "output_type": "display_data"
    },
    {
     "data": {
      "image/png": "[encoded data removed]",
      "text/plain": [
       "<Figure size 800x400 with 2 Axes>"
      ]
     },
     "metadata": {},
     "output_type": "display_data"
    },
    {
     "data": {
      "image/png": "[encoded data removed]",
      "text/plain": [
       "<Figure size 400x400 with 2 Axes>"
      ]
     },
     "metadata": {},
     "output_type": "display_data"
    }
   ],
   "source": [
    "afa_predictor.fit(afa_dataset, \n",
    "                  fold = 0, \n",
    "                  train_split = 'train', \n",
    "                  valid_split = 'val', \n",
    "                  fit_again = True)"
   ]
  },
  {
   "cell_type": "code",
   "execution_count": 37,
   "id": "9df65e1c-7a7b-472f-9234-8e4e0b075e5b",
   "metadata": {},
   "outputs": [
    {
     "name": "stderr",
     "output_type": "stream",
     "text": [
      "Convert superR to R: 100%|██████████| 6/6 [00:00<00:00, 6253.93it/s]"
     ]
    },
    {
     "name": "stdout",
     "output_type": "stream",
     "text": [
      " 38/150 [======>.......................] - ETA: 0s"
     ]
    },
    {
     "name": "stderr",
     "output_type": "stream",
     "text": [
      "\n"
     ]
    },
    {
     "name": "stdout",
     "output_type": "stream",
     "text": [
      "150/150 [==============================] - 0s 1ms/step\n"
     ]
    }
   ],
   "source": [
    "label_pred = afa_predictor.predict( afa_dataset, fold = 0, split = 'val', n_samples = 1 )"
   ]
  },
  {
   "cell_type": "markdown",
   "id": "5b54ad5d-82f9-492d-b2ff-f91e4047aee3",
   "metadata": {},
   "source": [
    "### Write report"
   ]
  },
  {
   "cell_type": "code",
   "execution_count": 38,
   "id": "5d7bfd91-a0d0-45c7-b95a-182c528d3541",
   "metadata": {},
   "outputs": [
    {
     "ename": "AttributeError",
     "evalue": "'NoneType' object has no attribute 'savefig'",
     "output_type": "error",
     "traceback": [
      "\u001b[0;31m---------------------------------------------------------------------------\u001b[0m",
      "\u001b[0;31mAttributeError\u001b[0m                            Traceback (most recent call last)",
      "Cell \u001b[0;32mIn[38], line 2\u001b[0m\n\u001b[1;32m      1\u001b[0m explanation_file \u001b[39m=\u001b[39m afa_predictor\u001b[39m.\u001b[39mdirectory \u001b[39m+\u001b[39m \u001b[39m'\u001b[39m\u001b[39mmodel_report.md\u001b[39m\u001b[39m'\u001b[39m  \u001b[39m# +  'reports/' + 'model_report' \u001b[39;00m\n\u001b[0;32m----> 2\u001b[0m afa_predictor\u001b[39m.\u001b[39;49mexplain(file\u001b[39m=\u001b[39;49m explanation_file, \u001b[39mformat\u001b[39;49m \u001b[39m=\u001b[39;49m \u001b[39m'\u001b[39;49m\u001b[39mmarkdown\u001b[39;49m\u001b[39m'\u001b[39;49m)\n",
      "File \u001b[0;32m~/Documents/afa_ts/afa/data_modelling/reporting/explainable.py:56\u001b[0m, in \u001b[0;36mExplainable.explain\u001b[0;34m(self, stream, file, format)\u001b[0m\n\u001b[1;32m     54\u001b[0m buffer\u001b[39m.\u001b[39mwrite(\u001b[39mr\u001b[39m\u001b[39m\"\u001b[39m\u001b[39m\\\u001b[39m\u001b[39musepackage\u001b[39m\u001b[39m{\u001b[39m\u001b[39m\"\u001b[39m\u001b[39m+\u001b[39m \u001b[39m'\u001b[39m\u001b[39mlongtable\u001b[39m\u001b[39m'\u001b[39m \u001b[39m+\u001b[39m\u001b[39m'\u001b[39m\u001b[39m}\u001b[39m\u001b[39m'\u001b[39m)\n\u001b[1;32m     55\u001b[0m \u001b[39m# Write the LaTeX output to the buffer\u001b[39;00m\n\u001b[0;32m---> 56\u001b[0m \u001b[39mself\u001b[39;49m\u001b[39m.\u001b[39;49m_write_latex(buffer, file)\n\u001b[1;32m     57\u001b[0m \u001b[39m# Convert the LaTeX output to the specified format using Pandoc\u001b[39;00m\n\u001b[1;32m     58\u001b[0m \u001b[39mif\u001b[39;00m \u001b[39mformat\u001b[39m \u001b[39m!=\u001b[39m \u001b[39m\"\u001b[39m\u001b[39mlatex\u001b[39m\u001b[39m\"\u001b[39m:\n",
      "File \u001b[0;32m~/Documents/afa_ts/afa/afa_models/afa_predictors/afa_predictor.py:152\u001b[0m, in \u001b[0;36mAFAPredictor._write_latex\u001b[0;34m(self, stream, file)\u001b[0m\n\u001b[1;32m    150\u001b[0m fig_name \u001b[39m=\u001b[39m \u001b[39m'\u001b[39m\u001b[39mAFA predictor training\u001b[39m\u001b[39m'\u001b[39m\n\u001b[1;32m    151\u001b[0m caption \u001b[39m=\u001b[39m \u001b[39m\"\u001b[39m\u001b[39mGoodness of fit for afa predictor\u001b[39m\u001b[39m\"\u001b[39m\n\u001b[0;32m--> 152\u001b[0m \u001b[39mself\u001b[39;49m\u001b[39m.\u001b[39;49mwrite_fig_latex( stream, figure , file, fig_name , caption , \u001b[39mformat\u001b[39;49m \u001b[39m=\u001b[39;49m \u001b[39m'\u001b[39;49m\u001b[39m.png\u001b[39;49m\u001b[39m'\u001b[39;49m)\n",
      "File \u001b[0;32m~/Documents/afa_ts/afa/data_modelling/reporting/explainable.py:224\u001b[0m, in \u001b[0;36mExplainable.write_fig_latex\u001b[0;34m(self, stream, figure, file, fig_name, caption, format)\u001b[0m\n\u001b[1;32m    221\u001b[0m     img_file \u001b[39m=\u001b[39m  fig_folder \u001b[39m+\u001b[39m file_name_end \u001b[39m+\u001b[39m \u001b[39m'\u001b[39m\u001b[39m_\u001b[39m\u001b[39m'\u001b[39m \u001b[39m+\u001b[39m fig_name \u001b[39m+\u001b[39m \u001b[39mformat\u001b[39m \n\u001b[1;32m    223\u001b[0m     \u001b[39m# save fig\u001b[39;00m\n\u001b[0;32m--> 224\u001b[0m     figure\u001b[39m.\u001b[39;49msavefig( directory \u001b[39m+\u001b[39m img_file  , dpi \u001b[39m=\u001b[39m \u001b[39m300\u001b[39m)\n\u001b[1;32m    226\u001b[0m     stream\u001b[39m.\u001b[39mwrite(\n\u001b[1;32m    227\u001b[0m         \u001b[39mr\u001b[39m\u001b[39m\"\u001b[39m\u001b[39m\\\u001b[39m\u001b[39mbegin\u001b[39m\u001b[39m{figure}\u001b[39;00m\u001b[39m\"\u001b[39m \u001b[39m+\u001b[39m \\\n\u001b[1;32m    228\u001b[0m         \u001b[39m\"\u001b[39m\u001b[39m\\\u001b[39m\u001b[39mcentering\u001b[39m\u001b[39m\"\u001b[39m \u001b[39m+\u001b[39m \\\n\u001b[0;32m   (...)\u001b[0m\n\u001b[1;32m    232\u001b[0m         \u001b[39mr\u001b[39m\u001b[39m\"\u001b[39m\u001b[39m\\\u001b[39m\u001b[39mend\u001b[39m\u001b[39m{figure}\u001b[39;00m\u001b[39m\"\u001b[39m \n\u001b[1;32m    233\u001b[0m     )\n\u001b[1;32m    234\u001b[0m     \u001b[39m# stream.write(r'<img src=\"{}\" style=\"zoom:90%;\" /> \\n'.format(img_file ))\u001b[39;00m\n\u001b[1;32m    235\u001b[0m \n\u001b[1;32m    236\u001b[0m \u001b[39melse\u001b[39;00m: \n",
      "\u001b[0;31mAttributeError\u001b[0m: 'NoneType' object has no attribute 'savefig'"
     ]
    }
   ],
   "source": [
    "explanation_file = afa_predictor.directory + 'model_report.md'  # +  'reports/' + 'model_report' \n",
    "afa_predictor.explain(file= explanation_file, format = 'markdown')"
   ]
  },
  {
   "cell_type": "code",
   "execution_count": null,
   "id": "f649d771-b660-4218-9327-2166d2b3417f",
   "metadata": {},
   "outputs": [],
   "source": []
  }
 ],
 "metadata": {
  "kernelspec": {
   "display_name": "afa_env",
   "language": "python",
   "name": "afa_env"
  },
  "language_info": {
   "codemirror_mode": {
    "name": "ipython",
    "version": 3
   },
   "file_extension": ".py",
   "mimetype": "text/x-python",
   "name": "python",
   "nbconvert_exporter": "python",
   "pygments_lexer": "ipython3",
   "version": "3.8.10"
  }
 },
 "nbformat": 4,
 "nbformat_minor": 5
}
