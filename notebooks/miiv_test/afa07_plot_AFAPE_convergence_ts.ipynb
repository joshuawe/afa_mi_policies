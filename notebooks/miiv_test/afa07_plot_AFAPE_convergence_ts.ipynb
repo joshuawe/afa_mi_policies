{
 "cells": [
  {
   "cell_type": "markdown",
   "id": "45f4a932-fe58-4c41-b076-38e047fad36e",
   "metadata": {},
   "source": [
    "# Plot AFAPE results (convergence plot) \n",
    "Plot the results for one agent, but as a function of the number of datapoints (convergence plot) "
   ]
  },
  {
   "cell_type": "code",
   "execution_count": 1,
   "id": "c94650b6-85e7-471f-8330-fdf9b63661a2",
   "metadata": {},
   "outputs": [],
   "source": [
    "%load_ext autoreload\n",
    "%autoreload 2"
   ]
  },
  {
   "cell_type": "markdown",
   "id": "08362dfa-cf4e-422d-9023-ad7ecb7ecacc",
   "metadata": {},
   "source": [
    "## Define paths"
   ]
  },
  {
   "cell_type": "code",
   "execution_count": 2,
   "id": "7713e2c6-761b-434a-a61f-e41e593028cf",
   "metadata": {},
   "outputs": [],
   "source": [
    "# which dataset to work on \n",
    "dataset_name   = \"synthetic_1\"\n",
    "\n",
    "# name for of missingness scenario \n",
    "miss_scenario  = 'MCAR_1'\n",
    "\n",
    "# name for agent \n",
    "agent_name  = 'DQN'\n",
    "\n",
    "# included estimators\n",
    "included_estimator_types =  ['blocking', 'J']"
   ]
  },
  {
   "cell_type": "code",
   "execution_count": 3,
   "id": "8eb5607e-6445-4dbf-897e-8640af4492dc",
   "metadata": {},
   "outputs": [],
   "source": [
    "# other specifications \n",
    "data_dir       = \"../../../data/ts/\" + dataset_name + \"/\" + miss_scenario + \"/\" \n",
    "agent_dir = data_dir + 'afa_agents' + '/' + agent_name + '/'\n",
    "\n",
    "# find all bootstrap results files\n",
    "agent_bootstrap_files = {}\n",
    "for included_estimator_type in included_estimator_types:\n",
    "    agent_bootstrap_files[included_estimator_type] = agent_dir + included_estimator_type + '_' + 'J_bootstraps_convergence.hkl'"
   ]
  },
  {
   "cell_type": "markdown",
   "id": "e87f0f89-b14e-4879-aadd-e63aadf7e4f4",
   "metadata": {},
   "source": [
    "## Write a Report"
   ]
  },
  {
   "cell_type": "code",
   "execution_count": 4,
   "id": "e5f184b7-d004-4535-9f76-e8043f28e460",
   "metadata": {},
   "outputs": [],
   "source": [
    "from afa.afa_models.afa_estimators.afa_convergence_report import AFAConvergenceReport"
   ]
  },
  {
   "cell_type": "code",
   "execution_count": 7,
   "id": "f976013a-d589-4c3c-8e1e-fb39df34a093",
   "metadata": {},
   "outputs": [
    {
     "name": "stdout",
     "output_type": "stream",
     "text": [
      "> \u001b[0;32m/mnt/c/Users/henrik.vonkleist/Nextcloud/PhD/Code/Active Feature Acquisition/afa_ts/afa/afa_models/afa_estimators/afa_convergence_report.py\u001b[0m(41)\u001b[0;36m__init__\u001b[0;34m()\u001b[0m\n",
      "\u001b[0;32m     39 \u001b[0;31m\u001b[0;34m\u001b[0m\u001b[0m\n",
      "\u001b[0m\u001b[0;32m     40 \u001b[0;31m            \u001b[0;31m# merge\u001b[0m\u001b[0;34m\u001b[0m\u001b[0;34m\u001b[0m\u001b[0m\n",
      "\u001b[0m\u001b[0;32m---> 41 \u001b[0;31m            \u001b[0mself\u001b[0m\u001b[0;34m.\u001b[0m\u001b[0mJ_bootstraps\u001b[0m \u001b[0;34m=\u001b[0m \u001b[0;34m{\u001b[0m\u001b[0;34m**\u001b[0m\u001b[0mself\u001b[0m\u001b[0;34m.\u001b[0m\u001b[0mJ_bootstraps\u001b[0m\u001b[0;34m,\u001b[0m \u001b[0;34m**\u001b[0m\u001b[0mJ_bootstraps_added\u001b[0m\u001b[0;34m}\u001b[0m\u001b[0;34m\u001b[0m\u001b[0;34m\u001b[0m\u001b[0m\n",
      "\u001b[0m\u001b[0;32m     42 \u001b[0;31m\u001b[0;34m\u001b[0m\u001b[0m\n",
      "\u001b[0m\u001b[0;32m     43 \u001b[0;31m        \u001b[0mself\u001b[0m\u001b[0;34m.\u001b[0m\u001b[0mconvergence_steps\u001b[0m \u001b[0;34m=\u001b[0m \u001b[0mconvergence_steps\u001b[0m\u001b[0;34m\u001b[0m\u001b[0;34m\u001b[0m\u001b[0m\n",
      "\u001b[0m\n"
     ]
    },
    {
     "name": "stdout",
     "output_type": "stream",
     "text": [
      "ipdb>  bootstrap_file \n"
     ]
    },
    {
     "name": "stdout",
     "output_type": "stream",
     "text": [
      "'../../../data/ts/synthetic_1/MCAR_1/afa_agents/DQN/blocking_J_bootstraps_convergence.hkl'\n"
     ]
    },
    {
     "name": "stdout",
     "output_type": "stream",
     "text": [
      "ipdb>  convergence_steps\n"
     ]
    },
    {
     "name": "stdout",
     "output_type": "stream",
     "text": [
      "array([10, 11, 12, 13, 14, 16, 17, 19, 20, 22, 24, 27, 29, 32, 35])\n"
     ]
    },
    {
     "name": "stdout",
     "output_type": "stream",
     "text": [
      "ipdb>  exit\n"
     ]
    }
   ],
   "source": [
    "afa_convergence_report = AFAConvergenceReport(  agent_bootstrap_files = agent_bootstrap_files, \n",
    "                                                agent_name                 = agent_name, \n",
    "                                                dataset_name               = dataset_name, \n",
    "                                                miss_scenario              = miss_scenario) \n",
    "\n",
    "explanation_file = agent_dir  + 'afape_convergence_report.md'  # +  'reports/' + 'model_report' \n",
    "afa_convergence_report.explain(file= explanation_file, format = 'markdown')"
   ]
  },
  {
   "cell_type": "code",
   "execution_count": 11,
   "id": "98c2dbdc-5f83-45ac-803d-75ad70191b05",
   "metadata": {},
   "outputs": [
    {
     "ename": "ValueError",
     "evalue": "'a' cannot be empty unless no samples are taken",
     "output_type": "error",
     "traceback": [
      "\u001b[0;31m---------------------------------------------------------------------------\u001b[0m",
      "\u001b[0;31mValueError\u001b[0m                                Traceback (most recent call last)",
      "Input \u001b[0;32mIn [11]\u001b[0m, in \u001b[0;36m<cell line: 21>\u001b[0;34m()\u001b[0m\n\u001b[1;32m     18\u001b[0m         unique_unique_ids\u001b[38;5;241m.\u001b[39mappend(i)\n\u001b[1;32m     20\u001b[0m \u001b[38;5;66;03m# Sample n_max unique_unique_ids with replacement\u001b[39;00m\n\u001b[0;32m---> 21\u001b[0m unique_unique_ids_bootstrap \u001b[38;5;241m=\u001b[39m \u001b[43mnp\u001b[49m\u001b[38;5;241;43m.\u001b[39;49m\u001b[43mrandom\u001b[49m\u001b[38;5;241;43m.\u001b[39;49m\u001b[43mchoice\u001b[49m\u001b[43m(\u001b[49m\u001b[43munique_unique_ids\u001b[49m\u001b[43m,\u001b[49m\u001b[43m \u001b[49m\u001b[43msize\u001b[49m\u001b[38;5;241;43m=\u001b[39;49m\u001b[43mn_max\u001b[49m\u001b[43m,\u001b[49m\u001b[43m \u001b[49m\u001b[43mreplace\u001b[49m\u001b[38;5;241;43m=\u001b[39;49m\u001b[38;5;28;43;01mTrue\u001b[39;49;00m\u001b[43m)\u001b[49m\n\u001b[1;32m     23\u001b[0m \u001b[38;5;66;03m# Find corresponding elements in a for bootstrapped ids\u001b[39;00m\n\u001b[1;32m     24\u001b[0m bootstrapped_elements \u001b[38;5;241m=\u001b[39m []\n",
      "File \u001b[0;32mmtrand.pyx:915\u001b[0m, in \u001b[0;36mnumpy.random.mtrand.RandomState.choice\u001b[0;34m()\u001b[0m\n",
      "\u001b[0;31mValueError\u001b[0m: 'a' cannot be empty unless no samples are taken"
     ]
    }
   ],
   "source": [
    "import numpy as np\n",
    "\n",
    "# Given arrays\n",
    "data_ids = np.array([0, 1, 2, 0, 1, 2])\n",
    "mi_ids = np.array([0, 1, 0, 0, 1, 0])\n",
    "n_max = 3\n",
    "\n",
    "# Get unique ids that differ in original ids\n",
    "unique_afa_ids = np.unique(data_ids)\n",
    "unique_ids_orig = np.unique(a, return_index=True)[1]\n",
    "unique_ids = unique_ids[np.argsort(unique_ids_orig)]\n",
    "\n",
    "# Get unique_unique_ids that differ in both original ids and mi_ids\n",
    "unique_unique_ids = []\n",
    "for i in unique_ids:\n",
    "    mi_values = mi_ids[a == i]\n",
    "    if len(np.unique(mi_values)) > 1:\n",
    "        unique_unique_ids.append(i)\n",
    "\n",
    "# Sample n_max unique_unique_ids with replacement\n",
    "unique_unique_ids_bootstrap = np.random.choice(unique_unique_ids, size=n_max, replace=True)\n",
    "\n",
    "# Find corresponding elements in a for bootstrapped ids\n",
    "bootstrapped_elements = []\n",
    "for i in unique_unique_ids_bootstrap:\n",
    "    bootstrapped_elements.extend(np.where(a == i)[0])\n",
    "\n",
    "print(bootstrapped_elements)"
   ]
  },
  {
   "cell_type": "code",
   "execution_count": 14,
   "id": "2a7f1a3e-7f3e-4d58-9274-b9b704ca98cb",
   "metadata": {},
   "outputs": [
    {
     "data": {
      "text/plain": [
       "array([0, 1, 2])"
      ]
     },
     "execution_count": 14,
     "metadata": {},
     "output_type": "execute_result"
    }
   ],
   "source": [
    "unique_ids_orig"
   ]
  },
  {
   "cell_type": "code",
   "execution_count": null,
   "id": "d1f3f5ec-819f-4887-8d49-0c3c511a847f",
   "metadata": {},
   "outputs": [],
   "source": []
  },
  {
   "cell_type": "code",
   "execution_count": 13,
   "id": "6b1b3174-77b3-44e7-a414-345bbd1f96c4",
   "metadata": {},
   "outputs": [
    {
     "data": {
      "text/plain": [
       "[]"
      ]
     },
     "execution_count": 13,
     "metadata": {},
     "output_type": "execute_result"
    }
   ],
   "source": [
    "unique_unique_ids\n"
   ]
  },
  {
   "cell_type": "code",
   "execution_count": null,
   "id": "769f842d-54f3-46d6-a4ae-dbd34e69a058",
   "metadata": {},
   "outputs": [],
   "source": []
  }
 ],
 "metadata": {
  "kernelspec": {
   "display_name": "afa_env",
   "language": "python",
   "name": "afa_env"
  },
  "language_info": {
   "codemirror_mode": {
    "name": "ipython",
    "version": 3
   },
   "file_extension": ".py",
   "mimetype": "text/x-python",
   "name": "python",
   "nbconvert_exporter": "python",
   "pygments_lexer": "ipython3",
   "version": "3.10.8"
  }
 },
 "nbformat": 4,
 "nbformat_minor": 5
}
