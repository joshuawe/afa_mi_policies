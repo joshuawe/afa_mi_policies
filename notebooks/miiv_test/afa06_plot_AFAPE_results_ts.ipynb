{
 "cells": [
  {
   "cell_type": "markdown",
   "id": "45f4a932-fe58-4c41-b076-38e047fad36e",
   "metadata": {},
   "source": [
    "# Plot AFAPE Results\n",
    "Plot the results for different agents "
   ]
  },
  {
   "cell_type": "code",
   "execution_count": 1,
   "id": "5e8f4066-9aef-46b0-a6cb-041b73a474d3",
   "metadata": {},
   "outputs": [],
   "source": [
    "%load_ext autoreload\n",
    "%autoreload 2"
   ]
  },
  {
   "cell_type": "markdown",
   "id": "08362dfa-cf4e-422d-9023-ad7ecb7ecacc",
   "metadata": {},
   "source": [
    "## Define paths"
   ]
  },
  {
   "cell_type": "code",
   "execution_count": 3,
   "id": "7713e2c6-761b-434a-a61f-e41e593028cf",
   "metadata": {},
   "outputs": [],
   "source": [
    "# which dataset to work on \n",
    "dataset_name   = \"synthetic_4_2\"\n",
    "\n",
    "# name for of missingness scenario \n",
    "miss_scenario  = 'MCAR_1'\n",
    "\n",
    "# name for agents\n",
    "agent_names  = ['Random 0% with TCN', 'Random 10% with TCN', 'Random 50% with TCN', 'Random 100% with TCN']\n",
    "n_agents = len(agent_names) \n",
    "\n",
    "# name for mi datasets\n",
    "mi_model_name = 'gaussian_process'\n",
    "\n",
    "# included estimators\n",
    "included_estimator_types =  ['blocking', 'ground_truth', mi_model_name ]\n",
    "included_estimator_types =  ['blocking', 'ground_truth', 'gaussian_process']"
   ]
  },
  {
   "cell_type": "code",
   "execution_count": 4,
   "id": "8eb5607e-6445-4dbf-897e-8640af4492dc",
   "metadata": {},
   "outputs": [],
   "source": [
    "# other specifications \n",
    "data_dir       = \"../../../data/ts/\" + dataset_name + \"/\" + miss_scenario + \"/\" \n",
    "agent_dirs     = [data_dir + 'afa_agents' + '/' + agent_name + '/' for agent_name in agent_names]\n",
    "\n",
    "# find all bootstrap results files\n",
    "agent_bootstrap_files_list = []\n",
    "for agent_i in range(n_agents):\n",
    "    agent_bootstrap_files = {}\n",
    "    for included_estimator_type in included_estimator_types:\n",
    "        agent_bootstrap_files[included_estimator_type] = agent_dirs[agent_i] + included_estimator_type + '_' + 'J_bootstraps.hkl'\n",
    "    agent_bootstrap_files_list.append(agent_bootstrap_files)"
   ]
  },
  {
   "cell_type": "markdown",
   "id": "2ae60149-a7b9-46c9-b7a9-130c2c867992",
   "metadata": {},
   "source": [
    "## Write a Report"
   ]
  },
  {
   "cell_type": "code",
   "execution_count": 5,
   "id": "b4a54338-b521-4ff8-ad00-de2209bed4de",
   "metadata": {},
   "outputs": [],
   "source": [
    "from afa.afa_models.afa_estimators.afa_report import AFAReport"
   ]
  },
  {
   "cell_type": "code",
   "execution_count": 7,
   "id": "0bcab426-7ee3-456d-9fe5-9b6e64ccb7c1",
   "metadata": {},
   "outputs": [
    {
     "data": {
      "text/plain": [
       "[{'blocking': '../../../data/ts/synthetic_1/MCAR_1/afa_agents/DQN/blocking_J_bootstraps.hkl',\n",
       "  'ground_truth': '../../../data/ts/synthetic_1/MCAR_1/afa_agents/DQN/ground_truth_J_bootstraps.hkl',\n",
       "  'mi_simple': '../../../data/ts/synthetic_1/MCAR_1/afa_agents/DQN/mi_simple_J_bootstraps.hkl'}]"
      ]
     },
     "execution_count": 7,
     "metadata": {},
     "output_type": "execute_result"
    }
   ],
   "source": [
    "agent_bootstrap_files_list"
   ]
  },
  {
   "cell_type": "code",
   "execution_count": 9,
   "id": "64a6559b-ae7c-443e-bca9-171929afd653",
   "metadata": {},
   "outputs": [
    {
     "name": "stdout",
     "output_type": "stream",
     "text": [
      "Agent:  Random 0% with TCN\n",
      "\\begin{longtable}{lrrr}\n",
      "\\hline\n",
      " Estimator     &   Estimate &   Error &   Error (\\%) \\\\\n",
      "\\hline\n",
      "\\endhead\n",
      " Blocking      &     13.812 &   0.345 &      0.0256 \\\\\n",
      " CC            &      8.333 &   5.134 &      0.3812 \\\\\n",
      " IPW\\_miss      &      6.588 &   6.879 &      0.5108 \\\\\n",
      " IPW\\_miss\\_gt   &      7.313 &   6.154 &      0.457  \\\\\n",
      " IPW           &     12.235 &   1.232 &      0.0915 \\\\\n",
      " IPW,gt        &     12.27  &   1.197 &      0.0888 \\\\\n",
      " IPW,gt,not\\_pd &     10.819 &   2.648 &      0.1966 \\\\\n",
      " DM            &      0.29  &  13.176 &      0.9784 \\\\\n",
      " DR            &     11.959 &   1.508 &      0.112  \\\\\n",
      " Ground\\_truth  &     13.467 &   0     &      0      \\\\\n",
      " mi\\_simple     &     13.75  &   0.283 &      0.021  \\\\\n",
      "\\hline\n",
      "\\end{longtable}\n",
      "Agent:  Random 10% with TCN\n",
      "\\begin{longtable}{lrrr}\n",
      "\\hline\n",
      " Estimator        &   Estimate &   Error &   Error (\\%) \\\\\n",
      "\\hline\n",
      "\\endhead\n",
      " Blocking         &      6.787 &   5.102 &      3.0285 \\\\\n",
      " CC               &    nan     & nan     &    nan      \\\\\n",
      " Ground\\_truth     &      1.685 &   0     &      0      \\\\\n",
      " gaussian\\_process &      7.309 &   5.624 &      3.3384 \\\\\n",
      "\\hline\n",
      "\\end{longtable}\n",
      "Agent:  Random 50% with TCN\n",
      "\\begin{longtable}{lrrr}\n",
      "\\hline\n",
      " Estimator        &   Estimate &   Error &   Error (\\%) \\\\\n",
      "\\hline\n",
      "\\endhead\n",
      " Blocking         &      7.68  &   2.985 &      0.636  \\\\\n",
      " CC               &    nan     & nan     &    nan      \\\\\n",
      " Ground\\_truth     &      4.694 &   0     &      0      \\\\\n",
      " gaussian\\_process &     10.317 &   5.623 &      1.1979 \\\\\n",
      "\\hline\n",
      "\\end{longtable}\n",
      "Agent:  Random 100% with TCN\n",
      "\\begin{longtable}{lrrr}\n",
      "\\hline\n",
      " Estimator        &   Estimate &   Error &   Error (\\%) \\\\\n",
      "\\hline\n",
      "\\endhead\n",
      " Blocking         &      8.823 &   0.385 &      0.0456 \\\\\n",
      " CC               &    nan     & nan     &    nan      \\\\\n",
      " Ground\\_truth     &      8.438 &   0     &      0      \\\\\n",
      " gaussian\\_process &     14.063 &   5.626 &      0.6667 \\\\\n",
      "\\hline\n",
      "\\end{longtable}\n",
      "[Errno 2] No such file or directory: 'pandoc'\n",
      "Error, but instead of markdown format, saving the latex format into the file \"../../../data/ts/synthetic_4_0/MCAR_1/afape_report.md\" . \n",
      "Content of file:\n",
      "\n",
      "\\usepackage{longtable}\\section{AFAPE}\n",
      "\\paragraph{AFA bootstrapping estimates}\n",
      "\\begin{figure}\\centering\\includegraphics[width=0.5 \\textwidth]{img/afape_report.afape_results.png}\\caption{AFAPE for dataset synthetic_4_0 and missingness scenario MCAR_1}\\label{fig:img/afape_report.afape_results.png}\\end{figure}\n"
     ]
    },
    {
     "data": {
      "image/png": "[encoded data removed]",
      "text/plain": [
       "<Figure size 700x600 with 1 Axes>"
      ]
     },
     "metadata": {},
     "output_type": "display_data"
    }
   ],
   "source": [
    "afa_report = AFAReport( agent_bootstrap_files_list = agent_bootstrap_files_list, \n",
    "                        agent_names                = agent_names, \n",
    "                        dataset_name               = dataset_name, \n",
    "                        miss_scenario              = miss_scenario) \n",
    "\n",
    "explanation_file = data_dir + 'afape_report.md'  # +  'reports/' + 'model_report' \n",
    "afa_report.explain(file= explanation_file, format = 'markdown')"
   ]
  },
  {
   "cell_type": "code",
   "execution_count": null,
   "id": "6617b5ba-0c01-4656-8b5e-01c6600fa1a1",
   "metadata": {},
   "outputs": [],
   "source": []
  },
  {
   "cell_type": "code",
   "execution_count": null,
   "id": "a50a0092-db03-4e44-819e-61ba24adfe5b",
   "metadata": {},
   "outputs": [],
   "source": []
  },
  {
   "cell_type": "code",
   "execution_count": null,
   "id": "b422928a-ddef-4efa-883e-0dfa0d50dbd3",
   "metadata": {},
   "outputs": [],
   "source": []
  },
  {
   "cell_type": "code",
   "execution_count": null,
   "id": "7507a142-5184-4e81-955a-bce663cdbf53",
   "metadata": {},
   "outputs": [],
   "source": []
  }
 ],
 "metadata": {
  "kernelspec": {
   "display_name": "afa_env",
   "language": "python",
   "name": "afa_env"
  },
  "language_info": {
   "codemirror_mode": {
    "name": "ipython",
    "version": 3
   },
   "file_extension": ".py",
   "mimetype": "text/x-python",
   "name": "python",
   "nbconvert_exporter": "python",
   "pygments_lexer": "ipython3",
   "version": "3.8.10"
  }
 },
 "nbformat": 4,
 "nbformat_minor": 5
}
