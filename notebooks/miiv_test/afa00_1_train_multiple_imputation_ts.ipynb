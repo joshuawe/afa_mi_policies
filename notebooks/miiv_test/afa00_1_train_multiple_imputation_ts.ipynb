{
 "cells": [
  {
   "cell_type": "markdown",
   "id": "447effeb-1650-4f29-93ad-09b100417273",
   "metadata": {},
   "source": [
    "# (0.1) Train multiple-imputation (MI) models\n",
    "One option to resolve missingness for AFA is to use Multiple Imputation. \n",
    "This notebook trains MI models and saves the multiple imputed datasets. "
   ]
  },
  {
   "cell_type": "code",
   "execution_count": 1,
   "id": "73390d53-00db-403b-b474-735a5febcf69",
   "metadata": {},
   "outputs": [],
   "source": [
    "%load_ext autoreload\n",
    "%autoreload 2\n"
   ]
  },
  {
   "cell_type": "markdown",
   "id": "1bc2d091-d5fb-4212-b7fd-f94cfb57f50e",
   "metadata": {},
   "source": [
    "## Define paths"
   ]
  },
  {
   "cell_type": "code",
   "execution_count": 41,
   "id": "b60b58e3-6056-41fe-b9a2-dd7e2d28bac5",
   "metadata": {},
   "outputs": [],
   "source": [
    "from afa.configurations.utils_ts import specify_default_paths_ts\n",
    "# which dataset to work on \n",
    "dataset_name   = \"miiv_test\"\n",
    "\n",
    "# name for of missingness scenario \n",
    "miss_scenario  = 'MCAR_1'\n",
    "\n",
    "# automatically specify some path locations (change paths manually if needed) \n",
    "data_root = '/home2/joshua.wendland/Documents/afa_mi_policies/data/'\n",
    "paths = specify_default_paths_ts(dataset_name = dataset_name , miss_scenario = miss_scenario, data_root=data_root) \n",
    "\n",
    "# name for ps_model \n",
    "mi_model_name  = 'Gaussian_Process'\n",
    "\n",
    "# new (where to save the model) \n",
    "mi_model_dir = paths['data_dir']  + 'mi_models' + '/' + mi_model_name + '/'\n"
   ]
  },
  {
   "cell_type": "markdown",
   "id": "e49defcd-c9c2-466e-b156-63275bb006c8",
   "metadata": {},
   "source": [
    "### Define model specifications"
   ]
  },
  {
   "cell_type": "code",
   "execution_count": 42,
   "id": "1dd5657c-ee90-4f83-921a-557ce99c03e2",
   "metadata": {},
   "outputs": [],
   "source": [
    "mi_model_params = {\n",
    "    'name' : mi_model_name, \n",
    "    'directory' : mi_model_dir,\n",
    "    'base_model_params' : {   'model_type': 'simple_imputer' }\n",
    "    }"
   ]
  },
  {
   "cell_type": "code",
   "execution_count": 49,
   "id": "20fdab49-d8eb-4b4e-8cc1-436b9eb35f9e",
   "metadata": {},
   "outputs": [],
   "source": [
    "device = 'auto'  # 'cuda' or 'cpu'\n",
    "\n",
    "# Config for dataset preparation (torch.DataSet class)\n",
    "dataset_params = {\n",
    "    'missingness_value': 'nan',             # Values given to missing values: int, float or 'nan'\n",
    "    'missingness_rate': (0.3),              # The artificially created missingness for training (MCAR)\n",
    "    'device': device  # 'cuda' or 'cpu'     # Device to train on\n",
    "}\n",
    "\n",
    "# Config for dataloader (torch.DataLoader class)\n",
    "dataloader_params = {\n",
    "    'batch_size': 5,                      # Number of samples per batch\n",
    "    'shuffle': False,                       # Shuffle samples in batch?\n",
    "    # 'prefetch_factor': 1, # increase for speed up, experimental\n",
    "    'num_workers': 0,     # set higher for faster throughput, experimental\n",
    "    'drop_last': True                       # Drop last batch, if it has a different batch size\n",
    "}\n",
    "\n",
    "# Config for trainer (pytorch_lightning.Trainer class)\n",
    "trainer_params = {\n",
    "    'max_epochs': 10,                      # number of epochs to train\n",
    "    #'auto_lr_find': False,                  # Find best starting lr, experimental\n",
    "    'fast_dev_run': False,                  # Fast dev run to test set up before commencing training\n",
    "    'accelerator': device,                  # device to train on, should be the same as for dataset_params\n",
    "    'devices': 1,                           # Number of devices to train on, leave it at one\n",
    "    'profiler': None,                       # Pytorch profiler, 'simple', 'advanced', None\n",
    "    'num_sanity_val_steps': 0,              # Number of sanity validation steps, for debugging\n",
    "    'wandb_logger': False,                   # Wether to use wandb logger, else Tensorboard is used\n",
    "    #'wandb_project_name': 'GPImputer Synthetic 2'   # Project name, in case wandb logging is used\n",
    "}\n",
    "\n",
    "# Config for gp_model (GPImputer class)\n",
    "gp_params = {\n",
    "    'model_type': 'gaussian_process',       # IMPORTANT: for BaseModelImputer_ts to choose the correct class\n",
    "    'dataset_params' : dataset_params,\n",
    "    'dataloader_params' : dataloader_params,\n",
    "    'trainer_params' : trainer_params,\n",
    "    'num_tasks': 49,  # number of tasks == number of features\n",
    "    'num_kernels': 10,\n",
    "    'data_mode': 'no_simulation',   # 'no_simulation' or 'simulation', with simulation a ground truth is expected to passed as well, ground truth = values for data that is missing in train dataloader, experimental -> leave it as no_simulation\n",
    "    'ckpt_path': None #'best_model-v_recon_loss_target=1.10-epoch=142.ckpt',  # path to checkpoint of trained model, full path or relative to model directory    \n",
    "}\n",
    "    \n",
    "# Config for mi_model from AFA module (MultipleImputationModel_ts class)\n",
    "mi_model_params = {\n",
    "    'name' : mi_model_name, \n",
    "    'directory' : mi_model_dir,\n",
    "    'base_model_params' : gp_params\n",
    "}\n"
   ]
  },
  {
   "cell_type": "markdown",
   "id": "5a64631a-d0c5-437d-82f9-2427a44f2b27",
   "metadata": {},
   "source": [
    "## Load dataset with missingness \n",
    "At first, we want to load the dataset \n",
    "\n",
    "Includes loading: \n",
    "- superfeature mapping\n",
    "- problem\n",
    "- afa_problem \n",
    "- missingness_model"
   ]
  },
  {
   "cell_type": "code",
   "execution_count": 44,
   "id": "1a59d767-871f-4f22-b635-f2af3e832341",
   "metadata": {},
   "outputs": [],
   "source": [
    "from afa.data_modelling.datasets.data_loader.data_loader_ts import DataLoader_ts"
   ]
  },
  {
   "cell_type": "code",
   "execution_count": 47,
   "id": "c7807d31-a689-4abd-a656-7c4f1f147506",
   "metadata": {},
   "outputs": [
    {
     "name": "stderr",
     "output_type": "stream",
     "text": [
      "Padding sequences: 100%|██████████| 100/100 [00:00<00:00, 1135.00it/s]\n",
      "Padding sequences: 100%|██████████| 100/100 [00:00<00:00, 1210.26it/s]\n",
      "Padding sequences: 100%|██████████| 100/100 [00:00<00:00, 953.94it/s]\n"
     ]
    }
   ],
   "source": [
    "data_loader = DataLoader_ts(     data_file                  = paths['data_file'],\n",
    "                                 temporal_data_file         = paths['temporal_data_file'],\n",
    "                                 superfeature_mapping_file  = paths['superfeature_mapping_file'],\n",
    "                                 problem_file               = paths['problem_file'],\n",
    "                                 afa_problem_files          = paths['afa_problem_files'], \n",
    "                                 miss_model_files           = paths['miss_model_files'], \n",
    "                                 folds_file                 = paths['folds_file'] )\n",
    "dataset = data_loader.load() "
   ]
  },
  {
   "cell_type": "markdown",
   "id": "e2ffd0f4-07fd-4e6d-a2cb-74ea1eea2c58",
   "metadata": {},
   "source": [
    "## Define MI model"
   ]
  },
  {
   "cell_type": "code",
   "execution_count": 50,
   "id": "912572d6-2218-419e-b752-b7eadbb18a00",
   "metadata": {},
   "outputs": [
    {
     "name": "stderr",
     "output_type": "stream",
     "text": [
      "Global seed set to 42\n"
     ]
    },
    {
     "name": "stdout",
     "output_type": "stream",
     "text": [
      "{'batch_size': 128,\n",
      " 'ckpt_path': None,\n",
      " 'data_missingness': 0.6,\n",
      " 'data_mode': 'no_simulation',\n",
      " 'dataloader_params': {'batch_size': 5,\n",
      "                       'drop_last': True,\n",
      "                       'num_workers': 0,\n",
      "                       'shuffle': False},\n",
      " 'dataset_name': 'toydataset_50000',\n",
      " 'dataset_params': {'device': 'auto',\n",
      "                    'missingness_rate': 0.3,\n",
      "                    'missingness_value': 'nan'},\n",
      " 'directory': '/home2/joshua.wendland/Documents/afa_mi_policies/data/miiv_test/MCAR_1/mi_models/Gaussian_Process/',\n",
      " 'lr': 0.01,\n",
      " 'model_type': 'gaussian_process',\n",
      " 'model_weights_save_path': './model_weights',\n",
      " 'num_epochs': 10,\n",
      " 'num_kernels': 10,\n",
      " 'num_tasks': 49,\n",
      " 'rank': 4,\n",
      " 'sample_tp': 0.4,\n",
      " 'sample_tp_interval': [0.3, 0.8],\n",
      " 'task_names': ['Noise', 'Trend', 'Seasonality', 'Trend + Seasonality'],\n",
      " 'trainer_params': {'accelerator': 'auto',\n",
      "                    'devices': 1,\n",
      "                    'fast_dev_run': False,\n",
      "                    'max_epochs': 10,\n",
      "                    'num_sanity_val_steps': 0,\n",
      "                    'profiler': None,\n",
      "                    'wandb_logger': False}}\n",
      "No previously trained model found.\n"
     ]
    },
    {
     "name": "stderr",
     "output_type": "stream",
     "text": [
      "GPU available: True (cuda), used: True\n",
      "TPU available: False, using: 0 TPU cores\n",
      "IPU available: False, using: 0 IPUs\n",
      "HPU available: False, using: 0 HPUs\n"
     ]
    }
   ],
   "source": [
    "from afa.data_modelling.missingness.multiple_imputation.multiple_imputation_model_ts import MultipleImputationModel_ts\n",
    "\n",
    "mi_model = MultipleImputationModel_ts(  name                         = mi_model_params['name'], \n",
    "                                        m_graph                      = dataset.miss_model.m_graph, \n",
    "                                        superfeature_mapping         = dataset.superfeature_mapping,\n",
    "                                        target_superfeature_names    = dataset.afa_problem.target_superfeature_names,\n",
    "                                        model_params                 = mi_model_params,\n",
    "                                        directory                    = mi_model_params['directory'])\n"
   ]
  },
  {
   "cell_type": "markdown",
   "id": "f7eaaaf5-3403-46c3-8bf9-7dffd270853b",
   "metadata": {},
   "source": [
    "## Train MI model "
   ]
  },
  {
   "cell_type": "code",
   "execution_count": 51,
   "id": "3cee7ae1-f3e9-4375-9551-ce7921214634",
   "metadata": {},
   "outputs": [
    {
     "name": "stderr",
     "output_type": "stream",
     "text": [
      "Missing logger folder: /home2/joshua.wendland/Documents/afa_mi_policies/data/miiv_test/MCAR_1/mi_models/Gaussian_Process/lightning_logs\n",
      "LOCAL_RANK: 0 - CUDA_VISIBLE_DEVICES: [0]\n",
      "\n",
      "  | Name     | Type                       | Params\n",
      "--------------------------------------------------------\n",
      "0 | mae_loss | L1Loss                     | 0     \n",
      "1 | mgp      | HadamardGP                 | 2.6 K \n",
      "2 | mll      | ExactMarginalLogLikelihood | 2.6 K \n",
      "--------------------------------------------------------\n",
      "2.6 K     Trainable params\n",
      "0         Non-trainable params\n",
      "2.6 K     Total params\n",
      "0.010     Total estimated model params size (MB)\n"
     ]
    },
    {
     "data": {
      "application/vnd.jupyter.widget-view+json": {
       "model_id": "d293c5eab88d42dfb92cf8758fd98648",
       "version_major": 2,
       "version_minor": 0
      },
      "text/plain": [
       "Training: 0it [00:00, ?it/s]"
      ]
     },
     "metadata": {},
     "output_type": "display_data"
    },
    {
     "data": {
      "application/vnd.jupyter.widget-view+json": {
       "model_id": "1950a52e8f8f4b2185527dda7e7d2052",
       "version_major": 2,
       "version_minor": 0
      },
      "text/plain": [
       "Validation: 0it [00:00, ?it/s]"
      ]
     },
     "metadata": {},
     "output_type": "display_data"
    },
    {
     "name": "stderr",
     "output_type": "stream",
     "text": [
      "Metric v_recon_loss_target improved. New best score: 1.444\n"
     ]
    },
    {
     "data": {
      "application/vnd.jupyter.widget-view+json": {
       "model_id": "2757c74d54e44672be6cc905d77c5235",
       "version_major": 2,
       "version_minor": 0
      },
      "text/plain": [
       "Validation: 0it [00:00, ?it/s]"
      ]
     },
     "metadata": {},
     "output_type": "display_data"
    },
    {
     "name": "stderr",
     "output_type": "stream",
     "text": [
      "Metric v_recon_loss_target improved by 0.021 >= min_delta = 0.0001. New best score: 1.423\n"
     ]
    },
    {
     "data": {
      "application/vnd.jupyter.widget-view+json": {
       "model_id": "94099cd20a8d400a93c2b9d40629c93b",
       "version_major": 2,
       "version_minor": 0
      },
      "text/plain": [
       "Validation: 0it [00:00, ?it/s]"
      ]
     },
     "metadata": {},
     "output_type": "display_data"
    },
    {
     "name": "stderr",
     "output_type": "stream",
     "text": [
      "Metric v_recon_loss_target improved by 0.027 >= min_delta = 0.0001. New best score: 1.396\n"
     ]
    },
    {
     "data": {
      "application/vnd.jupyter.widget-view+json": {
       "model_id": "1de2f3398c44405daf5bd501fc9b9f74",
       "version_major": 2,
       "version_minor": 0
      },
      "text/plain": [
       "Validation: 0it [00:00, ?it/s]"
      ]
     },
     "metadata": {},
     "output_type": "display_data"
    },
    {
     "name": "stderr",
     "output_type": "stream",
     "text": [
      "Metric v_recon_loss_target improved by 0.026 >= min_delta = 0.0001. New best score: 1.370\n"
     ]
    },
    {
     "data": {
      "application/vnd.jupyter.widget-view+json": {
       "model_id": "2dcfef3bf45247219ea0cd36216fe59b",
       "version_major": 2,
       "version_minor": 0
      },
      "text/plain": [
       "Validation: 0it [00:00, ?it/s]"
      ]
     },
     "metadata": {},
     "output_type": "display_data"
    },
    {
     "data": {
      "application/vnd.jupyter.widget-view+json": {
       "model_id": "7b20173445c94c3e9a77b4c2551baafc",
       "version_major": 2,
       "version_minor": 0
      },
      "text/plain": [
       "Validation: 0it [00:00, ?it/s]"
      ]
     },
     "metadata": {},
     "output_type": "display_data"
    },
    {
     "name": "stderr",
     "output_type": "stream",
     "text": [
      "Metric v_recon_loss_target improved by 0.014 >= min_delta = 0.0001. New best score: 1.356\n"
     ]
    },
    {
     "data": {
      "application/vnd.jupyter.widget-view+json": {
       "model_id": "3b4da74d34ee487e972f9c178454ccae",
       "version_major": 2,
       "version_minor": 0
      },
      "text/plain": [
       "Validation: 0it [00:00, ?it/s]"
      ]
     },
     "metadata": {},
     "output_type": "display_data"
    },
    {
     "data": {
      "application/vnd.jupyter.widget-view+json": {
       "model_id": "53fdb73d403d43bc9b6830bf127dec66",
       "version_major": 2,
       "version_minor": 0
      },
      "text/plain": [
       "Validation: 0it [00:00, ?it/s]"
      ]
     },
     "metadata": {},
     "output_type": "display_data"
    },
    {
     "name": "stderr",
     "output_type": "stream",
     "text": [
      "Metric v_recon_loss_target improved by 0.047 >= min_delta = 0.0001. New best score: 1.310\n"
     ]
    },
    {
     "data": {
      "application/vnd.jupyter.widget-view+json": {
       "model_id": "a4e4b5d7c8524a40a559ade59cccb901",
       "version_major": 2,
       "version_minor": 0
      },
      "text/plain": [
       "Validation: 0it [00:00, ?it/s]"
      ]
     },
     "metadata": {},
     "output_type": "display_data"
    },
    {
     "name": "stderr",
     "output_type": "stream",
     "text": [
      "Metric v_recon_loss_target improved by 0.038 >= min_delta = 0.0001. New best score: 1.272\n"
     ]
    },
    {
     "data": {
      "application/vnd.jupyter.widget-view+json": {
       "model_id": "22a177b1c34d4c59ae12392db598ab0d",
       "version_major": 2,
       "version_minor": 0
      },
      "text/plain": [
       "Validation: 0it [00:00, ?it/s]"
      ]
     },
     "metadata": {},
     "output_type": "display_data"
    },
    {
     "name": "stderr",
     "output_type": "stream",
     "text": [
      "`Trainer.fit` stopped: `max_epochs=10` reached.\n"
     ]
    },
    {
     "name": "stdout",
     "output_type": "stream",
     "text": [
      "Fit finished.\n",
      "{'batch_size': 128,\n",
      " 'ckpt_path': None,\n",
      " 'data_missingness': 0.6,\n",
      " 'data_mode': 'no_simulation',\n",
      " 'dataloader_params': {'batch_size': 5,\n",
      "                       'drop_last': True,\n",
      "                       'num_workers': 0,\n",
      "                       'shuffle': False},\n",
      " 'dataset_name': 'toydataset_50000',\n",
      " 'dataset_params': {'device': 'auto',\n",
      "                    'missingness_rate': 0.0,\n",
      "                    'missingness_value': 'nan'},\n",
      " 'directory': '/home2/joshua.wendland/Documents/afa_mi_policies/data/miiv_test/MCAR_1/mi_models/Gaussian_Process/',\n",
      " 'lr': 0.01,\n",
      " 'model_type': 'gaussian_process',\n",
      " 'model_weights_save_path': './model_weights',\n",
      " 'num_epochs': 10,\n",
      " 'num_kernels': 10,\n",
      " 'num_tasks': 49,\n",
      " 'rank': 4,\n",
      " 'sample_tp': 0.4,\n",
      " 'sample_tp_interval': [0.3, 0.8],\n",
      " 'task_names': ['Noise', 'Trend', 'Seasonality', 'Trend + Seasonality'],\n",
      " 'trainer_params': {'accelerator': 'auto',\n",
      "                    'devices': 1,\n",
      "                    'fast_dev_run': False,\n",
      "                    'max_epochs': 10,\n",
      "                    'num_sanity_val_steps': 0,\n",
      "                    'profiler': None,\n",
      "                    'wandb_logger': False}}\n",
      "Performance plot currently not implemented\n"
     ]
    }
   ],
   "source": [
    "mi_model.fit(dataset, fold = 0, train_split = 'train', valid_split = 'val', fit_again = True)"
   ]
  },
  {
   "cell_type": "markdown",
   "id": "547a323f-b345-4a74-90aa-5ea170b0451e",
   "metadata": {},
   "source": [
    "## Create multiple imputed dataset"
   ]
  },
  {
   "cell_type": "code",
   "execution_count": 32,
   "id": "c2fc5fbc-6787-45f6-8832-0e7a9cebad9b",
   "metadata": {},
   "outputs": [],
   "source": [
    "from afa.data_modelling.missingness.multiple_imputation.multiple_imputed_dataset_ts import MultipleImputedDataset_ts"
   ]
  },
  {
   "cell_type": "code",
   "execution_count": 52,
   "id": "6afc7a63-5409-4327-b48e-829d285411c5",
   "metadata": {},
   "outputs": [
    {
     "data": {
      "application/vnd.jupyter.widget-view+json": {
       "model_id": "5bc0436f249940f08d680fe46acf2ab9",
       "version_major": 2,
       "version_minor": 0
      },
      "text/plain": [
       "Batch sampling:   0%|          | 0/100 [00:00<?, ?it/s]"
      ]
     },
     "metadata": {},
     "output_type": "display_data"
    }
   ],
   "source": [
    "mi_results = mi_model.predict(dataset, n_samples = 5)\n",
    "\n",
    "# create an mi_dataset out of the generated imputations\n",
    "mi_dataset = MultipleImputedDataset_ts(  dataset = dataset, model = mi_model, results = mi_results) "
   ]
  },
  {
   "cell_type": "markdown",
   "id": "50c90c49-db33-426f-81c0-d53e70986225",
   "metadata": {},
   "source": [
    "## Evaluate imputation model on ground truth dataset"
   ]
  },
  {
   "cell_type": "code",
   "execution_count": null,
   "id": "1b7c58a8-7b09-4174-8e78-1c3be89a5c8e",
   "metadata": {},
   "outputs": [],
   "source": [
    "# TO DO"
   ]
  },
  {
   "cell_type": "markdown",
   "id": "2f8c9f03-5639-4f5f-baef-36cbea96789b",
   "metadata": {},
   "source": [
    "## Save MI dataset"
   ]
  },
  {
   "cell_type": "code",
   "execution_count": 55,
   "id": "37204a6c-b06f-4ff0-8559-f6977ecf1cd2",
   "metadata": {},
   "outputs": [],
   "source": [
    "mi_dataset.save( model_dir = mi_model_dir) "
   ]
  },
  {
   "cell_type": "code",
   "execution_count": null,
   "id": "30cb32c7-1f0b-4f16-9fd4-987260ffed06",
   "metadata": {},
   "outputs": [],
   "source": []
  },
  {
   "cell_type": "code",
   "execution_count": null,
   "id": "b1ef49f9-dbde-4665-9ad8-c3eec083b86a",
   "metadata": {},
   "outputs": [],
   "source": []
  }
 ],
 "metadata": {
  "kernelspec": {
   "display_name": "afa_env",
   "language": "python",
   "name": "afa_env"
  },
  "language_info": {
   "codemirror_mode": {
    "name": "ipython",
    "version": 3
   },
   "file_extension": ".py",
   "mimetype": "text/x-python",
   "name": "python",
   "nbconvert_exporter": "python",
   "pygments_lexer": "ipython3",
   "version": "3.8.10"
  }
 },
 "nbformat": 4,
 "nbformat_minor": 5
}
