{
 "cells": [
  {
   "cell_type": "markdown",
   "id": "2b042bd6-b878-4c25-9564-0bb1cc59cc74",
   "metadata": {},
   "source": [
    "# (2) Train AFA agent\n",
    "The AFA problem contains the training of an AFA agent that can recommends which features to acquire. \n",
    "In this notebook we train and save such an AFA agent."
   ]
  },
  {
   "cell_type": "code",
   "execution_count": 1,
   "id": "d9b0575b-9c52-42a7-8a1d-4898c24a26c6",
   "metadata": {},
   "outputs": [],
   "source": [
    "%load_ext autoreload\n",
    "%autoreload 2"
   ]
  },
  {
   "cell_type": "markdown",
   "id": "93e750ac-9a3c-431c-8c52-61050ddd3c6e",
   "metadata": {},
   "source": [
    "## Define paths"
   ]
  },
  {
   "cell_type": "markdown",
   "id": "94be4084-a54f-43c1-8f3b-617a7c2a10c6",
   "metadata": {},
   "source": [
    "Paths for data"
   ]
  },
  {
   "cell_type": "code",
   "execution_count": 2,
   "id": "ada6d072-bc28-40bb-baf4-9889074de048",
   "metadata": {},
   "outputs": [],
   "source": [
    "from afa.configurations.utils_ts import specify_default_paths_ts\n",
    "# which dataset to work on \n",
    "dataset_name   = \"miiv_test\"\n",
    "\n",
    "# name for of missingness scenario \n",
    "miss_scenario  = 'MCAR_1'\n",
    "\n",
    "# automatically specify some path locations (change paths manually if needed) \n",
    "data_root = '/home2/joshua.wendland/Documents/afa_mi_policies/data/'\n",
    "paths = specify_default_paths_ts(dataset_name = dataset_name , miss_scenario = miss_scenario, data_root=data_root)"
   ]
  },
  {
   "cell_type": "markdown",
   "id": "ab34e8a8-794c-48ee-967b-c598e59d9e00",
   "metadata": {},
   "source": [
    "Paths for model"
   ]
  },
  {
   "cell_type": "code",
   "execution_count": 3,
   "id": "6e6d182c-34b5-4f57-8951-c09a86e2c3c3",
   "metadata": {},
   "outputs": [],
   "source": [
    "# name for agent (and predictor) \n",
    "agent_name            = 'DQN'\n",
    "predictor_model_name  = 'logistic_regression'\n",
    "predictor_model_name  = 'TCN'\n",
    "\n",
    "# new (where to save the model) \n",
    "agent_dir           = paths['data_dir']  + 'afa_agents' + '/' + agent_name + '/'\n",
    "predictor_model_dir = paths['data_dir']  + 'predictor_models' + '/' + predictor_model_name + '/'"
   ]
  },
  {
   "cell_type": "markdown",
   "id": "ea7902ec-4ce7-48f7-83f4-b4a29b727e16",
   "metadata": {},
   "source": [
    "## Load dataset with missingness \n",
    "At first, we want to load the dataset \n",
    "\n",
    "Includes loading: \n",
    "- superfeature mapping\n",
    "- problem\n",
    "- afa_problem \n",
    "- missingness_model"
   ]
  },
  {
   "cell_type": "code",
   "execution_count": 4,
   "id": "758ec48b-0350-40fa-9561-7773fbdf6ebc",
   "metadata": {},
   "outputs": [
    {
     "name": "stderr",
     "output_type": "stream",
     "text": [
      "2023-08-23 13:24:10.617082: I tensorflow/core/platform/cpu_feature_guard.cc:193] This TensorFlow binary is optimized with oneAPI Deep Neural Network Library (oneDNN) to use the following CPU instructions in performance-critical operations:  AVX2 FMA\n",
      "To enable them in other operations, rebuild TensorFlow with the appropriate compiler flags.\n",
      "2023-08-23 13:24:11.090100: W tensorflow/compiler/xla/stream_executor/platform/default/dso_loader.cc:64] Could not load dynamic library 'libcudart.so.11.0'; dlerror: libcudart.so.11.0: cannot open shared object file: No such file or directory\n",
      "2023-08-23 13:24:11.090114: I tensorflow/compiler/xla/stream_executor/cuda/cudart_stub.cc:29] Ignore above cudart dlerror if you do not have a GPU set up on your machine.\n",
      "2023-08-23 13:24:17.285431: W tensorflow/compiler/xla/stream_executor/platform/default/dso_loader.cc:64] Could not load dynamic library 'libnvinfer.so.7'; dlerror: libnvinfer.so.7: cannot open shared object file: No such file or directory\n",
      "2023-08-23 13:24:17.285898: W tensorflow/compiler/xla/stream_executor/platform/default/dso_loader.cc:64] Could not load dynamic library 'libnvinfer_plugin.so.7'; dlerror: libnvinfer_plugin.so.7: cannot open shared object file: No such file or directory\n",
      "2023-08-23 13:24:17.285904: W tensorflow/compiler/tf2tensorrt/utils/py_utils.cc:38] TF-TRT Warning: Cannot dlopen some TensorRT libraries. If you would like to use Nvidia GPU with TensorRT, please make sure the missing libraries mentioned above are installed properly.\n"
     ]
    }
   ],
   "source": [
    "from afa.data_modelling.datasets.data_loader.data_loader_ts import DataLoader_ts"
   ]
  },
  {
   "cell_type": "code",
   "execution_count": 5,
   "id": "0a400fb9-2940-40a2-9934-1693dcc77224",
   "metadata": {},
   "outputs": [
    {
     "name": "stderr",
     "output_type": "stream",
     "text": [
      "Padding sequences: 100%|██████████| 100/100 [00:00<00:00, 1726.17it/s]\n",
      "Padding sequences: 100%|██████████| 100/100 [00:00<00:00, 1975.46it/s]\n",
      "Padding sequences: 100%|██████████| 100/100 [00:00<00:00, 1879.81it/s]\n"
     ]
    }
   ],
   "source": [
    "data_loader = DataLoader_ts(     data_file                  = paths['data_file'],\n",
    "                                 temporal_data_file         = paths['temporal_data_file'],\n",
    "                                 superfeature_mapping_file  = paths['superfeature_mapping_file'],\n",
    "                                 problem_file               = paths['problem_file'],\n",
    "                                 afa_problem_files          = paths['afa_problem_files'], \n",
    "                                 folds_file                 = paths['folds_file'] )\n",
    "dataset = data_loader.load() "
   ]
  },
  {
   "cell_type": "code",
   "execution_count": 6,
   "id": "a5409476-fa22-4ca2-83ec-8f40464e2881",
   "metadata": {
    "tags": []
   },
   "outputs": [],
   "source": [
    "# define predictor (has to be pretrained) \n",
    "predictor_model_params = {\n",
    "    'name' : predictor_model_name, \n",
    "    'directory': predictor_model_dir,\n",
    "    'base_model_params' : {   \n",
    "        'model_type': 'impute_then_regress',\n",
    "        'imputer_params' : {\n",
    "              'model_type': 'simple_imputer',\n",
    "              'mode' : 'imputation', \n",
    "            },\n",
    "        'predictor_params' : {\n",
    "              'model_type': 'LogisticRegression',\n",
    "              'mode' : 'classification'\n",
    "          }\n",
    "    }\n",
    "}\n",
    "\n",
    "predictor_model_params = {\n",
    "    'name' : predictor_model_name, \n",
    "    'directory': predictor_model_dir,\n",
    "    'base_model_params' : { \n",
    "        'model_type': 'TCN',\n",
    "        'mode': 'classification',   \n",
    "        'seed': 54,                     # seed for reproduceability\n",
    "        'lr': 0.01,                     # initial learning rate for lr-scheduler\n",
    "        'time excluded': True,          # for logging purposes, if time is included as a feature\n",
    "        'num_inputs': 48,                # The number of features that are used as input\n",
    "        'num_layers': 2,                # The number of temporal conv. layers\n",
    "        'channels_per_layer': 8,        # The number of channels per temp. conv. layer\n",
    "        'kernel_size': 3,               # Num time steps for kernel window\n",
    "        'max_epochs': 20,              # Max. epochs for training\n",
    "        'batch_size': 2000,             # Number of samples per batch\n",
    "        'dropout': 0.3,                 # Dropout for all temp. conv. layers\n",
    "        'patience': 60,                 # Num epochs as patience for early stopping, default 50.\n",
    "        'weight_decay': 0,              # Weight decay for L2 regularization of Adam optmizer\n",
    "        'wandb_logger': False,           # If weights and biases logger should be used\n",
    "        #'wandb_project_name': 'Synthetic_2 classifier (AFA)'    # project name if wandb_logger is used\n",
    "        \n",
    "    }\n",
    "}"
   ]
  },
  {
   "cell_type": "code",
   "execution_count": 7,
   "id": "70b1c263-2372-45df-ad09-a5a1edf75d37",
   "metadata": {},
   "outputs": [],
   "source": [
    "# define agent\n",
    "agent_model_params =  {                       \n",
    "                    'num_iterations'              : 100,\n",
    "                    'initial_collect_steps'       : 50,\n",
    "                    'collect_steps_per_iteration' : 1, \n",
    "                    'replay_buffer_max_length'    : 100000 ,\n",
    "                    'batch_size'                  : 64,\n",
    "                    'learning_rate'               : 1e-3,\n",
    "                    'train_steps_per_iteration'   : 1, \n",
    "                    'log_interval'                : 200,\n",
    "                    'num_eval_episodes'           : 50,\n",
    "                    'eval_interval'               : 500, \n",
    "                    'verbose'                     : False\n",
    "                      }               "
   ]
  },
  {
   "cell_type": "code",
   "execution_count": 8,
   "id": "9171b8c9-4939-4516-b5bf-e3deebf775a7",
   "metadata": {},
   "outputs": [],
   "source": [
    "# define afa_agent\n",
    "afa_agent_params = {\n",
    "    'name' : agent_name,\n",
    "    'agent_type' : 'dqn_agent',\n",
    "    'directory' : agent_dir, \n",
    "    'predictor_params' : predictor_model_params, \n",
    "    'agent_params' : agent_model_params\n",
    "}"
   ]
  },
  {
   "cell_type": "markdown",
   "id": "9b1b7cf2-1e7a-4656-bf88-fbfe74cdcc40",
   "metadata": {},
   "source": [
    "## Initialize Agent "
   ]
  },
  {
   "cell_type": "code",
   "execution_count": 9,
   "id": "fbfe0755-dd54-4d7f-97db-8f158b03ec28",
   "metadata": {},
   "outputs": [],
   "source": [
    "from afa.afa_models.afa_agents.utils_ts import define_afa_agent_ts"
   ]
  },
  {
   "cell_type": "code",
   "execution_count": 10,
   "id": "2cb1ef8d-c27e-4222-a961-14298cc11389",
   "metadata": {},
   "outputs": [
    {
     "name": "stdout",
     "output_type": "stream",
     "text": [
      "Instantiating the TCN_Lightning model...\n",
      "Conv1d layer initialized with Kaiming Uniform.\n",
      "MLP part input size:  8\n",
      "Value recognized as pad value: -1\n",
      "Debug: Using Tensorboard logger.\n",
      "{'batch_size': 2000,\n",
      " 'channels_per_layer': 8,\n",
      " 'directory': '/home2/joshua.wendland/Documents/afa_mi_policies/data/miiv_test/MCAR_1/predictor_models/TCN/',\n",
      " 'dropout': 0.3,\n",
      " 'kernel_size': 3,\n",
      " 'lr': 0.01,\n",
      " 'max_epochs': 20,\n",
      " 'mode': 'classification',\n",
      " 'model_type': 'TCN',\n",
      " 'num_inputs': 48,\n",
      " 'num_layers': 2,\n",
      " 'patience': 60,\n",
      " 'seed': 54,\n",
      " 'time excluded': True,\n",
      " 'wandb_logger': False,\n",
      " 'weight_decay': 0}\n"
     ]
    },
    {
     "name": "stderr",
     "output_type": "stream",
     "text": [
      "GPU available: True (cuda), used: True\n",
      "TPU available: False, using: 0 TPU cores\n",
      "IPU available: False, using: 0 IPUs\n",
      "HPU available: False, using: 0 HPUs\n"
     ]
    },
    {
     "name": "stdout",
     "output_type": "stream",
     "text": [
      "Loaded model from checkpoint: /home2/joshua.wendland/Documents/afa_mi_policies/data/miiv_test/MCAR_1/predictor_models/TCN/model_weights/best_model-val_loss=1.55-epoch=2.ckpt\n"
     ]
    }
   ],
   "source": [
    "afa_agent = define_afa_agent_ts(    name             = afa_agent_params['name'],  \n",
    "                                    agent_type       = afa_agent_params['agent_type'],   \n",
    "                                    afa_agent_params = afa_agent_params ,\n",
    "                                    agent_directory  = afa_agent_params['directory'])"
   ]
  },
  {
   "cell_type": "markdown",
   "id": "8ddb6e3e-5b33-44b1-9c98-30b1d156f88c",
   "metadata": {},
   "source": [
    "## Train agent"
   ]
  },
  {
   "cell_type": "code",
   "execution_count": 11,
   "id": "c3560868",
   "metadata": {},
   "outputs": [
    {
     "name": "stdout",
     "output_type": "stream",
     "text": [
      "gdrf\n"
     ]
    }
   ],
   "source": [
    "print('gdrf')"
   ]
  },
  {
   "cell_type": "code",
   "execution_count": 15,
   "id": "5554ae61-3c83-45a0-a4fb-c9bf7cc35357",
   "metadata": {},
   "outputs": [
    {
     "name": "stdout",
     "output_type": "stream",
     "text": [
      "Start training DQN agent\n"
     ]
    },
    {
     "name": "stderr",
     "output_type": "stream",
     "text": [
      "2023-08-23 13:29:09.324170: W tensorflow/core/framework/op_kernel.cc:1818] UNKNOWN: IndexError: index -2147483648 is out of bounds for axis 1 with size 2\n",
      "Traceback (most recent call last):\n",
      "\n",
      "  File \"/home2/joshua.wendland/Documents/afa_ts/afa_env/lib/python3.8/site-packages/tensorflow/python/ops/script_ops.py\", line 271, in __call__\n",
      "    ret = func(*args)\n",
      "\n",
      "  File \"/home2/joshua.wendland/Documents/afa_ts/afa_env/lib/python3.8/site-packages/tensorflow/python/autograph/impl/api.py\", line 642, in wrapper\n",
      "    return func(*args, **kwargs)\n",
      "\n",
      "  File \"/home2/joshua.wendland/Documents/afa_ts/afa_env/lib/python3.8/site-packages/tf_agents/environments/tf_py_environment.py\", line 302, in _isolated_step_py\n",
      "    return self._execute(_step_py, *flattened_actions)\n",
      "\n",
      "  File \"/home2/joshua.wendland/Documents/afa_ts/afa_env/lib/python3.8/site-packages/tf_agents/environments/tf_py_environment.py\", line 211, in _execute\n",
      "    return fn(*args, **kwargs)\n",
      "\n",
      "  File \"/home2/joshua.wendland/Documents/afa_ts/afa_env/lib/python3.8/site-packages/tf_agents/environments/tf_py_environment.py\", line 298, in _step_py\n",
      "    self._time_step = self._env.step(packed)\n",
      "\n",
      "  File \"/home2/joshua.wendland/Documents/afa_ts/afa_env/lib/python3.8/site-packages/tf_agents/environments/py_environment.py\", line 232, in step\n",
      "    self._current_time_step = self._step(action)\n",
      "\n",
      "  File \"/home2/joshua.wendland/Documents/afa_ts/afa_env/lib/python3.8/site-packages/tf_agents/environments/batched_py_environment.py\", line 165, in _step\n",
      "    time_steps = self._envs[0].step(actions)\n",
      "\n",
      "  File \"/home2/joshua.wendland/Documents/afa_ts/afa/afa_models/afa_agents/afa_policy_agents/afa_environment/afa_environment.py\", line 51, in step\n",
      "    self._current_time_step = self._step(action)\n",
      "\n",
      "  File \"/home2/joshua.wendland/Documents/afa_ts/afa/afa_models/afa_agents/afa_policy_agents/afa_environment/afa_environment_ts.py\", line 228, in _step\n",
      "    self.dataset.afa_problem.compute_misclassification_cost(\n",
      "\n",
      "  File \"/home2/joshua.wendland/Documents/afa_ts/afa/afa_problem/afa_problem_ts.py\", line 124, in compute_misclassification_cost\n",
      "    cost_mc_flat = super().compute_misclassification_cost(\n",
      "\n",
      "  File \"/home2/joshua.wendland/Documents/afa_ts/afa/afa_problem/afa_problem.py\", line 128, in compute_misclassification_cost\n",
      "    label       = one_hot_encode( label, n_classes )\n",
      "\n",
      "  File \"/home2/joshua.wendland/Documents/afa_ts/afa/data_modelling/utils/model_utils.py\", line 99, in one_hot_encode\n",
      "    x_enc[np.arange(n_datapts),x] = 1\n",
      "\n",
      "IndexError: index -2147483648 is out of bounds for axis 1 with size 2\n",
      "\n",
      "\n"
     ]
    },
    {
     "ename": "UnknownError",
     "evalue": "Graph execution error:\n\nDetected at node 'driver_loop/step/step_py_func' defined at (most recent call last):\n    File \"/usr/lib/python3.8/runpy.py\", line 194, in _run_module_as_main\n      return _run_code(code, main_globals, None,\n    File \"/usr/lib/python3.8/runpy.py\", line 87, in _run_code\n      exec(code, run_globals)\n    File \"/home2/joshua.wendland/Documents/afa_ts/afa_env/lib/python3.8/site-packages/ipykernel_launcher.py\", line 17, in <module>\n      app.launch_new_instance()\n    File \"/home2/joshua.wendland/Documents/afa_ts/afa_env/lib/python3.8/site-packages/traitlets/config/application.py\", line 1043, in launch_instance\n      app.start()\n    File \"/home2/joshua.wendland/Documents/afa_ts/afa_env/lib/python3.8/site-packages/ipykernel/kernelapp.py\", line 725, in start\n      self.io_loop.start()\n    File \"/home2/joshua.wendland/Documents/afa_ts/afa_env/lib/python3.8/site-packages/tornado/platform/asyncio.py\", line 215, in start\n      self.asyncio_loop.run_forever()\n    File \"/usr/lib/python3.8/asyncio/base_events.py\", line 570, in run_forever\n      self._run_once()\n    File \"/usr/lib/python3.8/asyncio/base_events.py\", line 1859, in _run_once\n      handle._run()\n    File \"/usr/lib/python3.8/asyncio/events.py\", line 81, in _run\n      self._context.run(self._callback, *self._args)\n    File \"/home2/joshua.wendland/Documents/afa_ts/afa_env/lib/python3.8/site-packages/ipykernel/kernelbase.py\", line 513, in dispatch_queue\n      await self.process_one()\n    File \"/home2/joshua.wendland/Documents/afa_ts/afa_env/lib/python3.8/site-packages/ipykernel/kernelbase.py\", line 502, in process_one\n      await dispatch(*args)\n    File \"/home2/joshua.wendland/Documents/afa_ts/afa_env/lib/python3.8/site-packages/ipykernel/kernelbase.py\", line 409, in dispatch_shell\n      await result\n    File \"/home2/joshua.wendland/Documents/afa_ts/afa_env/lib/python3.8/site-packages/ipykernel/kernelbase.py\", line 729, in execute_request\n      reply_content = await reply_content\n    File \"/home2/joshua.wendland/Documents/afa_ts/afa_env/lib/python3.8/site-packages/ipykernel/ipkernel.py\", line 422, in do_execute\n      res = shell.run_cell(\n    File \"/home2/joshua.wendland/Documents/afa_ts/afa_env/lib/python3.8/site-packages/ipykernel/zmqshell.py\", line 540, in run_cell\n      return super().run_cell(*args, **kwargs)\n    File \"/home2/joshua.wendland/Documents/afa_ts/afa_env/lib/python3.8/site-packages/IPython/core/interactiveshell.py\", line 2961, in run_cell\n      result = self._run_cell(\n    File \"/home2/joshua.wendland/Documents/afa_ts/afa_env/lib/python3.8/site-packages/IPython/core/interactiveshell.py\", line 3016, in _run_cell\n      result = runner(coro)\n    File \"/home2/joshua.wendland/Documents/afa_ts/afa_env/lib/python3.8/site-packages/IPython/core/async_helpers.py\", line 129, in _pseudo_sync_runner\n      coro.send(None)\n    File \"/home2/joshua.wendland/Documents/afa_ts/afa_env/lib/python3.8/site-packages/IPython/core/interactiveshell.py\", line 3221, in run_cell_async\n      has_raised = await self.run_ast_nodes(code_ast.body, cell_name,\n    File \"/home2/joshua.wendland/Documents/afa_ts/afa_env/lib/python3.8/site-packages/IPython/core/interactiveshell.py\", line 3400, in run_ast_nodes\n      if await self.run_code(code, result, async_=asy):\n    File \"/home2/joshua.wendland/Documents/afa_ts/afa_env/lib/python3.8/site-packages/IPython/core/interactiveshell.py\", line 3460, in run_code\n      exec(code_obj, self.user_global_ns, self.user_ns)\n    File \"/tmp/ipykernel_1296501/1286444676.py\", line 1, in <module>\n      afa_agent.fit(dataset,\n    File \"/home2/joshua.wendland/Documents/afa_ts/afa/afa_models/afa_agents/afa_policy_agents/afa_policy_agent.py\", line 83, in fit\n      self.agent_model.fit(tf_env_train, tf_env_val, py_env, fit_again = fit_again)\n    File \"/home2/joshua.wendland/Documents/afa_ts/afa/afa_models/afa_agents/afa_policy_agents/models/dqn_agent.py\", line 133, in fit\n      self._fit_tf_par(tf_env_train, tf_env_val, py_env)\n    File \"/home2/joshua.wendland/Documents/afa_ts/afa/afa_models/afa_agents/afa_policy_agents/models/dqn_agent.py\", line 461, in _fit_tf_par\n      initial_collect_driver.run()\n    File \"/home2/joshua.wendland/Documents/afa_ts/afa_env/lib/python3.8/site-packages/tf_agents/drivers/dynamic_step_driver.py\", line 182, in run\n      return self._run_fn(\n    File \"/home2/joshua.wendland/Documents/afa_ts/afa_env/lib/python3.8/site-packages/tf_agents/utils/common.py\", line 188, in with_check_resource_vars\n      return fn(*fn_args, **fn_kwargs)\n    File \"/home2/joshua.wendland/Documents/afa_ts/afa_env/lib/python3.8/site-packages/tf_agents/drivers/dynamic_step_driver.py\", line 202, in _run\n      tf.while_loop(\n    File \"/home2/joshua.wendland/Documents/afa_ts/afa_env/lib/python3.8/site-packages/tf_agents/drivers/dynamic_step_driver.py\", line 137, in loop_body\n      next_time_step = self.env.step(action_step.action)\n    File \"/home2/joshua.wendland/Documents/afa_ts/afa_env/lib/python3.8/site-packages/tf_agents/environments/tf_environment.py\", line 241, in step\n      return self._step(action)\n    File \"/home2/joshua.wendland/Documents/afa_ts/afa_env/lib/python3.8/site-packages/tf_agents/environments/tf_py_environment.py\", line 315, in _step\n      outputs = tf.numpy_function(\nNode: 'driver_loop/step/step_py_func'\nIndexError: index -2147483648 is out of bounds for axis 1 with size 2\nTraceback (most recent call last):\n\n  File \"/home2/joshua.wendland/Documents/afa_ts/afa_env/lib/python3.8/site-packages/tensorflow/python/ops/script_ops.py\", line 271, in __call__\n    ret = func(*args)\n\n  File \"/home2/joshua.wendland/Documents/afa_ts/afa_env/lib/python3.8/site-packages/tensorflow/python/autograph/impl/api.py\", line 642, in wrapper\n    return func(*args, **kwargs)\n\n  File \"/home2/joshua.wendland/Documents/afa_ts/afa_env/lib/python3.8/site-packages/tf_agents/environments/tf_py_environment.py\", line 302, in _isolated_step_py\n    return self._execute(_step_py, *flattened_actions)\n\n  File \"/home2/joshua.wendland/Documents/afa_ts/afa_env/lib/python3.8/site-packages/tf_agents/environments/tf_py_environment.py\", line 211, in _execute\n    return fn(*args, **kwargs)\n\n  File \"/home2/joshua.wendland/Documents/afa_ts/afa_env/lib/python3.8/site-packages/tf_agents/environments/tf_py_environment.py\", line 298, in _step_py\n    self._time_step = self._env.step(packed)\n\n  File \"/home2/joshua.wendland/Documents/afa_ts/afa_env/lib/python3.8/site-packages/tf_agents/environments/py_environment.py\", line 232, in step\n    self._current_time_step = self._step(action)\n\n  File \"/home2/joshua.wendland/Documents/afa_ts/afa_env/lib/python3.8/site-packages/tf_agents/environments/batched_py_environment.py\", line 165, in _step\n    time_steps = self._envs[0].step(actions)\n\n  File \"/home2/joshua.wendland/Documents/afa_ts/afa/afa_models/afa_agents/afa_policy_agents/afa_environment/afa_environment.py\", line 51, in step\n    self._current_time_step = self._step(action)\n\n  File \"/home2/joshua.wendland/Documents/afa_ts/afa/afa_models/afa_agents/afa_policy_agents/afa_environment/afa_environment_ts.py\", line 228, in _step\n    self.dataset.afa_problem.compute_misclassification_cost(\n\n  File \"/home2/joshua.wendland/Documents/afa_ts/afa/afa_problem/afa_problem_ts.py\", line 124, in compute_misclassification_cost\n    cost_mc_flat = super().compute_misclassification_cost(\n\n  File \"/home2/joshua.wendland/Documents/afa_ts/afa/afa_problem/afa_problem.py\", line 128, in compute_misclassification_cost\n    label       = one_hot_encode( label, n_classes )\n\n  File \"/home2/joshua.wendland/Documents/afa_ts/afa/data_modelling/utils/model_utils.py\", line 99, in one_hot_encode\n    x_enc[np.arange(n_datapts),x] = 1\n\nIndexError: index -2147483648 is out of bounds for axis 1 with size 2\n\n\n\t [[{{node driver_loop/step/step_py_func}}]] [Op:__inference_run_1952]",
     "output_type": "error",
     "traceback": [
      "\u001b[0;31m---------------------------------------------------------------------------\u001b[0m",
      "\u001b[0;31mUnknownError\u001b[0m                              Traceback (most recent call last)",
      "Cell \u001b[0;32mIn[15], line 1\u001b[0m\n\u001b[0;32m----> 1\u001b[0m afa_agent\u001b[39m.\u001b[39;49mfit(dataset, \n\u001b[1;32m      2\u001b[0m               fold \u001b[39m=\u001b[39;49m \u001b[39m0\u001b[39;49m, train_split \u001b[39m=\u001b[39;49m \u001b[39m\"\u001b[39;49m\u001b[39mtrain\u001b[39;49m\u001b[39m\"\u001b[39;49m, valid_split \u001b[39m=\u001b[39;49m \u001b[39m\"\u001b[39;49m\u001b[39mval\u001b[39;49m\u001b[39m\"\u001b[39;49m , \n\u001b[1;32m      3\u001b[0m               fit_again \u001b[39m=\u001b[39;49m \u001b[39mTrue\u001b[39;49;00m) \n",
      "File \u001b[0;32m~/Documents/afa_ts/afa/afa_models/afa_agents/afa_policy_agents/afa_policy_agent.py:83\u001b[0m, in \u001b[0;36mAFAPolicyAgent.fit\u001b[0;34m(self, dataset, fold, train_split, valid_split, fit_again)\u001b[0m\n\u001b[1;32m     80\u001b[0m tf_env_train, py_env \u001b[39m=\u001b[39m \u001b[39mself\u001b[39m\u001b[39m.\u001b[39m_init_environment(dataset, fold \u001b[39m=\u001b[39m fold, split \u001b[39m=\u001b[39m train_split) \n\u001b[1;32m     81\u001b[0m tf_env_val, _        \u001b[39m=\u001b[39m \u001b[39mself\u001b[39m\u001b[39m.\u001b[39m_init_environment(dataset, fold \u001b[39m=\u001b[39m fold, split \u001b[39m=\u001b[39m valid_split) \n\u001b[0;32m---> 83\u001b[0m \u001b[39mself\u001b[39;49m\u001b[39m.\u001b[39;49magent_model\u001b[39m.\u001b[39;49mfit(tf_env_train, tf_env_val, py_env, fit_again \u001b[39m=\u001b[39;49m fit_again)  \n\u001b[1;32m     85\u001b[0m \u001b[39m# evaluate again on validation set:\u001b[39;00m\n\u001b[1;32m     86\u001b[0m \u001b[39m# to do: validation with plot \u001b[39;00m\n\u001b[1;32m     87\u001b[0m \u001b[39mreturn\u001b[39;00m\n",
      "File \u001b[0;32m~/Documents/afa_ts/afa/afa_models/afa_agents/afa_policy_agents/models/dqn_agent.py:133\u001b[0m, in \u001b[0;36mDQNAgent.fit\u001b[0;34m(self, tf_env_train, tf_env_val, py_env, fit_again)\u001b[0m\n\u001b[1;32m    131\u001b[0m \u001b[39mif\u001b[39;00m \u001b[39mnot\u001b[39;00m \u001b[39mself\u001b[39m\u001b[39m.\u001b[39mtrained \u001b[39mor\u001b[39;00m fit_again:\n\u001b[1;32m    132\u001b[0m     \u001b[39mprint\u001b[39m(\u001b[39m\"\u001b[39m\u001b[39mStart training DQN agent\u001b[39m\u001b[39m\"\u001b[39m)\n\u001b[0;32m--> 133\u001b[0m     \u001b[39mself\u001b[39;49m\u001b[39m.\u001b[39;49m_fit_tf_par(tf_env_train, tf_env_val, py_env)\n\u001b[1;32m    134\u001b[0m \u001b[39melse\u001b[39;00m: \n\u001b[1;32m    135\u001b[0m     \u001b[39mprint\u001b[39m(\u001b[39m\"\u001b[39m\u001b[39mDQN agent is already fitted, don\u001b[39m\u001b[39m'\u001b[39m\u001b[39mt fit again\u001b[39m\u001b[39m\"\u001b[39m)\n",
      "File \u001b[0;32m~/Documents/afa_ts/afa/afa_models/afa_agents/afa_policy_agents/models/dqn_agent.py:461\u001b[0m, in \u001b[0;36mDQNAgent._fit_tf_par\u001b[0;34m(self, tf_env_train, tf_env_valid, py_env, use_tf_functions, summaries_flush_secs, eval_metrics_callback, summary_interval)\u001b[0m\n\u001b[1;32m    457\u001b[0m \u001b[39m# Collect initial replay data.\u001b[39;00m\n\u001b[1;32m    458\u001b[0m logging\u001b[39m.\u001b[39minfo(\n\u001b[1;32m    459\u001b[0m     \u001b[39m'\u001b[39m\u001b[39mInitializing replay buffer by collecting experience for \u001b[39m\u001b[39m%d\u001b[39;00m\u001b[39m steps with \u001b[39m\u001b[39m'\u001b[39m\n\u001b[1;32m    460\u001b[0m     \u001b[39m'\u001b[39m\u001b[39ma random policy.\u001b[39m\u001b[39m'\u001b[39m, \u001b[39mself\u001b[39m\u001b[39m.\u001b[39minitial_collect_steps)\n\u001b[0;32m--> 461\u001b[0m initial_collect_driver\u001b[39m.\u001b[39;49mrun()\n\u001b[1;32m    463\u001b[0m results \u001b[39m=\u001b[39m metric_utils\u001b[39m.\u001b[39meager_compute(\n\u001b[1;32m    464\u001b[0m     eval_metrics,\n\u001b[1;32m    465\u001b[0m     tf_env_valid,\n\u001b[0;32m   (...)\u001b[0m\n\u001b[1;32m    471\u001b[0m     summary_prefix \u001b[39m=\u001b[39m \u001b[39m'\u001b[39m\u001b[39mMetrics\u001b[39m\u001b[39m'\u001b[39m,\n\u001b[1;32m    472\u001b[0m )\n\u001b[1;32m    474\u001b[0m \u001b[39mif\u001b[39;00m eval_metrics_callback \u001b[39mis\u001b[39;00m \u001b[39mnot\u001b[39;00m \u001b[39mNone\u001b[39;00m:\n",
      "File \u001b[0;32m~/Documents/afa_ts/afa_env/lib/python3.8/site-packages/tensorflow/python/util/traceback_utils.py:153\u001b[0m, in \u001b[0;36mfilter_traceback.<locals>.error_handler\u001b[0;34m(*args, **kwargs)\u001b[0m\n\u001b[1;32m    151\u001b[0m \u001b[39mexcept\u001b[39;00m \u001b[39mException\u001b[39;00m \u001b[39mas\u001b[39;00m e:\n\u001b[1;32m    152\u001b[0m   filtered_tb \u001b[39m=\u001b[39m _process_traceback_frames(e\u001b[39m.\u001b[39m__traceback__)\n\u001b[0;32m--> 153\u001b[0m   \u001b[39mraise\u001b[39;00m e\u001b[39m.\u001b[39mwith_traceback(filtered_tb) \u001b[39mfrom\u001b[39;00m \u001b[39mNone\u001b[39m\n\u001b[1;32m    154\u001b[0m \u001b[39mfinally\u001b[39;00m:\n\u001b[1;32m    155\u001b[0m   \u001b[39mdel\u001b[39;00m filtered_tb\n",
      "File \u001b[0;32m~/Documents/afa_ts/afa_env/lib/python3.8/site-packages/tensorflow/python/eager/execute.py:52\u001b[0m, in \u001b[0;36mquick_execute\u001b[0;34m(op_name, num_outputs, inputs, attrs, ctx, name)\u001b[0m\n\u001b[1;32m     50\u001b[0m \u001b[39mtry\u001b[39;00m:\n\u001b[1;32m     51\u001b[0m   ctx\u001b[39m.\u001b[39mensure_initialized()\n\u001b[0;32m---> 52\u001b[0m   tensors \u001b[39m=\u001b[39m pywrap_tfe\u001b[39m.\u001b[39mTFE_Py_Execute(ctx\u001b[39m.\u001b[39m_handle, device_name, op_name,\n\u001b[1;32m     53\u001b[0m                                       inputs, attrs, num_outputs)\n\u001b[1;32m     54\u001b[0m \u001b[39mexcept\u001b[39;00m core\u001b[39m.\u001b[39m_NotOkStatusException \u001b[39mas\u001b[39;00m e:\n\u001b[1;32m     55\u001b[0m   \u001b[39mif\u001b[39;00m name \u001b[39mis\u001b[39;00m \u001b[39mnot\u001b[39;00m \u001b[39mNone\u001b[39;00m:\n",
      "\u001b[0;31mUnknownError\u001b[0m: Graph execution error:\n\nDetected at node 'driver_loop/step/step_py_func' defined at (most recent call last):\n    File \"/usr/lib/python3.8/runpy.py\", line 194, in _run_module_as_main\n      return _run_code(code, main_globals, None,\n    File \"/usr/lib/python3.8/runpy.py\", line 87, in _run_code\n      exec(code, run_globals)\n    File \"/home2/joshua.wendland/Documents/afa_ts/afa_env/lib/python3.8/site-packages/ipykernel_launcher.py\", line 17, in <module>\n      app.launch_new_instance()\n    File \"/home2/joshua.wendland/Documents/afa_ts/afa_env/lib/python3.8/site-packages/traitlets/config/application.py\", line 1043, in launch_instance\n      app.start()\n    File \"/home2/joshua.wendland/Documents/afa_ts/afa_env/lib/python3.8/site-packages/ipykernel/kernelapp.py\", line 725, in start\n      self.io_loop.start()\n    File \"/home2/joshua.wendland/Documents/afa_ts/afa_env/lib/python3.8/site-packages/tornado/platform/asyncio.py\", line 215, in start\n      self.asyncio_loop.run_forever()\n    File \"/usr/lib/python3.8/asyncio/base_events.py\", line 570, in run_forever\n      self._run_once()\n    File \"/usr/lib/python3.8/asyncio/base_events.py\", line 1859, in _run_once\n      handle._run()\n    File \"/usr/lib/python3.8/asyncio/events.py\", line 81, in _run\n      self._context.run(self._callback, *self._args)\n    File \"/home2/joshua.wendland/Documents/afa_ts/afa_env/lib/python3.8/site-packages/ipykernel/kernelbase.py\", line 513, in dispatch_queue\n      await self.process_one()\n    File \"/home2/joshua.wendland/Documents/afa_ts/afa_env/lib/python3.8/site-packages/ipykernel/kernelbase.py\", line 502, in process_one\n      await dispatch(*args)\n    File \"/home2/joshua.wendland/Documents/afa_ts/afa_env/lib/python3.8/site-packages/ipykernel/kernelbase.py\", line 409, in dispatch_shell\n      await result\n    File \"/home2/joshua.wendland/Documents/afa_ts/afa_env/lib/python3.8/site-packages/ipykernel/kernelbase.py\", line 729, in execute_request\n      reply_content = await reply_content\n    File \"/home2/joshua.wendland/Documents/afa_ts/afa_env/lib/python3.8/site-packages/ipykernel/ipkernel.py\", line 422, in do_execute\n      res = shell.run_cell(\n    File \"/home2/joshua.wendland/Documents/afa_ts/afa_env/lib/python3.8/site-packages/ipykernel/zmqshell.py\", line 540, in run_cell\n      return super().run_cell(*args, **kwargs)\n    File \"/home2/joshua.wendland/Documents/afa_ts/afa_env/lib/python3.8/site-packages/IPython/core/interactiveshell.py\", line 2961, in run_cell\n      result = self._run_cell(\n    File \"/home2/joshua.wendland/Documents/afa_ts/afa_env/lib/python3.8/site-packages/IPython/core/interactiveshell.py\", line 3016, in _run_cell\n      result = runner(coro)\n    File \"/home2/joshua.wendland/Documents/afa_ts/afa_env/lib/python3.8/site-packages/IPython/core/async_helpers.py\", line 129, in _pseudo_sync_runner\n      coro.send(None)\n    File \"/home2/joshua.wendland/Documents/afa_ts/afa_env/lib/python3.8/site-packages/IPython/core/interactiveshell.py\", line 3221, in run_cell_async\n      has_raised = await self.run_ast_nodes(code_ast.body, cell_name,\n    File \"/home2/joshua.wendland/Documents/afa_ts/afa_env/lib/python3.8/site-packages/IPython/core/interactiveshell.py\", line 3400, in run_ast_nodes\n      if await self.run_code(code, result, async_=asy):\n    File \"/home2/joshua.wendland/Documents/afa_ts/afa_env/lib/python3.8/site-packages/IPython/core/interactiveshell.py\", line 3460, in run_code\n      exec(code_obj, self.user_global_ns, self.user_ns)\n    File \"/tmp/ipykernel_1296501/1286444676.py\", line 1, in <module>\n      afa_agent.fit(dataset,\n    File \"/home2/joshua.wendland/Documents/afa_ts/afa/afa_models/afa_agents/afa_policy_agents/afa_policy_agent.py\", line 83, in fit\n      self.agent_model.fit(tf_env_train, tf_env_val, py_env, fit_again = fit_again)\n    File \"/home2/joshua.wendland/Documents/afa_ts/afa/afa_models/afa_agents/afa_policy_agents/models/dqn_agent.py\", line 133, in fit\n      self._fit_tf_par(tf_env_train, tf_env_val, py_env)\n    File \"/home2/joshua.wendland/Documents/afa_ts/afa/afa_models/afa_agents/afa_policy_agents/models/dqn_agent.py\", line 461, in _fit_tf_par\n      initial_collect_driver.run()\n    File \"/home2/joshua.wendland/Documents/afa_ts/afa_env/lib/python3.8/site-packages/tf_agents/drivers/dynamic_step_driver.py\", line 182, in run\n      return self._run_fn(\n    File \"/home2/joshua.wendland/Documents/afa_ts/afa_env/lib/python3.8/site-packages/tf_agents/utils/common.py\", line 188, in with_check_resource_vars\n      return fn(*fn_args, **fn_kwargs)\n    File \"/home2/joshua.wendland/Documents/afa_ts/afa_env/lib/python3.8/site-packages/tf_agents/drivers/dynamic_step_driver.py\", line 202, in _run\n      tf.while_loop(\n    File \"/home2/joshua.wendland/Documents/afa_ts/afa_env/lib/python3.8/site-packages/tf_agents/drivers/dynamic_step_driver.py\", line 137, in loop_body\n      next_time_step = self.env.step(action_step.action)\n    File \"/home2/joshua.wendland/Documents/afa_ts/afa_env/lib/python3.8/site-packages/tf_agents/environments/tf_environment.py\", line 241, in step\n      return self._step(action)\n    File \"/home2/joshua.wendland/Documents/afa_ts/afa_env/lib/python3.8/site-packages/tf_agents/environments/tf_py_environment.py\", line 315, in _step\n      outputs = tf.numpy_function(\nNode: 'driver_loop/step/step_py_func'\nIndexError: index -2147483648 is out of bounds for axis 1 with size 2\nTraceback (most recent call last):\n\n  File \"/home2/joshua.wendland/Documents/afa_ts/afa_env/lib/python3.8/site-packages/tensorflow/python/ops/script_ops.py\", line 271, in __call__\n    ret = func(*args)\n\n  File \"/home2/joshua.wendland/Documents/afa_ts/afa_env/lib/python3.8/site-packages/tensorflow/python/autograph/impl/api.py\", line 642, in wrapper\n    return func(*args, **kwargs)\n\n  File \"/home2/joshua.wendland/Documents/afa_ts/afa_env/lib/python3.8/site-packages/tf_agents/environments/tf_py_environment.py\", line 302, in _isolated_step_py\n    return self._execute(_step_py, *flattened_actions)\n\n  File \"/home2/joshua.wendland/Documents/afa_ts/afa_env/lib/python3.8/site-packages/tf_agents/environments/tf_py_environment.py\", line 211, in _execute\n    return fn(*args, **kwargs)\n\n  File \"/home2/joshua.wendland/Documents/afa_ts/afa_env/lib/python3.8/site-packages/tf_agents/environments/tf_py_environment.py\", line 298, in _step_py\n    self._time_step = self._env.step(packed)\n\n  File \"/home2/joshua.wendland/Documents/afa_ts/afa_env/lib/python3.8/site-packages/tf_agents/environments/py_environment.py\", line 232, in step\n    self._current_time_step = self._step(action)\n\n  File \"/home2/joshua.wendland/Documents/afa_ts/afa_env/lib/python3.8/site-packages/tf_agents/environments/batched_py_environment.py\", line 165, in _step\n    time_steps = self._envs[0].step(actions)\n\n  File \"/home2/joshua.wendland/Documents/afa_ts/afa/afa_models/afa_agents/afa_policy_agents/afa_environment/afa_environment.py\", line 51, in step\n    self._current_time_step = self._step(action)\n\n  File \"/home2/joshua.wendland/Documents/afa_ts/afa/afa_models/afa_agents/afa_policy_agents/afa_environment/afa_environment_ts.py\", line 228, in _step\n    self.dataset.afa_problem.compute_misclassification_cost(\n\n  File \"/home2/joshua.wendland/Documents/afa_ts/afa/afa_problem/afa_problem_ts.py\", line 124, in compute_misclassification_cost\n    cost_mc_flat = super().compute_misclassification_cost(\n\n  File \"/home2/joshua.wendland/Documents/afa_ts/afa/afa_problem/afa_problem.py\", line 128, in compute_misclassification_cost\n    label       = one_hot_encode( label, n_classes )\n\n  File \"/home2/joshua.wendland/Documents/afa_ts/afa/data_modelling/utils/model_utils.py\", line 99, in one_hot_encode\n    x_enc[np.arange(n_datapts),x] = 1\n\nIndexError: index -2147483648 is out of bounds for axis 1 with size 2\n\n\n\t [[{{node driver_loop/step/step_py_func}}]] [Op:__inference_run_1952]"
     ]
    }
   ],
   "source": [
    "afa_agent.fit(dataset, \n",
    "              fold = 0, train_split = \"train\", valid_split = \"val\" , \n",
    "              fit_again = True) "
   ]
  },
  {
   "cell_type": "markdown",
   "id": "93e916ab-b7fb-445e-865e-654ebb7e9925",
   "metadata": {},
   "source": [
    "## Plot training "
   ]
  },
  {
   "cell_type": "code",
   "execution_count": 12,
   "id": "2cc7c9b6-9892-4a60-a06e-4de7f644d98c",
   "metadata": {},
   "outputs": [
    {
     "data": {
      "text/html": [
       "\n",
       "      <iframe id=\"tensorboard-frame-8df1d5f2c37ac3ad\" width=\"100%\" height=\"800\" frameborder=\"0\">\n",
       "      </iframe>\n",
       "      <script>\n",
       "        (function() {\n",
       "          const frame = document.getElementById(\"tensorboard-frame-8df1d5f2c37ac3ad\");\n",
       "          const url = new URL(\"/\", window.location);\n",
       "          const port = 3019;\n",
       "          if (port) {\n",
       "            url.port = port;\n",
       "          }\n",
       "          frame.src = url;\n",
       "        })();\n",
       "      </script>\n",
       "    "
      ],
      "text/plain": [
       "<IPython.core.display.HTML object>"
      ]
     },
     "metadata": {},
     "output_type": "display_data"
    }
   ],
   "source": [
    "logdir = afa_agent_params['agent_params']['directory']\n",
    "%load_ext tensorboard\n",
    "%tensorboard --logdir=$logdir --port=3019"
   ]
  },
  {
   "cell_type": "code",
   "execution_count": null,
   "id": "1a47fee7-a0dc-4adb-b30c-155cb8141e86",
   "metadata": {},
   "outputs": [],
   "source": []
  },
  {
   "cell_type": "code",
   "execution_count": null,
   "id": "bdef7f94-20ec-44b8-9277-06aedd7bb002",
   "metadata": {},
   "outputs": [],
   "source": []
  },
  {
   "cell_type": "code",
   "execution_count": null,
   "id": "2580d4f5-24c7-4c32-b126-d78b2008e684",
   "metadata": {},
   "outputs": [],
   "source": []
  }
 ],
 "metadata": {
  "kernelspec": {
   "display_name": "afa_env",
   "language": "python",
   "name": "afa_env"
  },
  "language_info": {
   "codemirror_mode": {
    "name": "ipython",
    "version": 3
   },
   "file_extension": ".py",
   "mimetype": "text/x-python",
   "name": "python",
   "nbconvert_exporter": "python",
   "pygments_lexer": "ipython3",
   "version": "3.8.10"
  }
 },
 "nbformat": 4,
 "nbformat_minor": 5
}
