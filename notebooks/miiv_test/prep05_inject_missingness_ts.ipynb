{
 "cells": [
  {
   "cell_type": "markdown",
   "id": "5a5a8c56",
   "metadata": {
    "tags": []
   },
   "source": [
    "# (5) Inject missingness into the (time-series) dataset\n",
    "Insert missingness into a dataset and save the corresponding ground truth m_graph and missingness model parameters. \n",
    "We use an AFAAgent that is based on a propensity score model to model the desired missingness and sample from it. \n",
    "\n",
    "__Note__: Only suitable for fully observed datasets where we want to test what happens under missingness. If your dataset already has missingness, please run `prep05_define_missingness_assumptions_ts` instead to define what you know about the missing data process. "
   ]
  },
  {
   "cell_type": "code",
   "execution_count": 1,
   "id": "d32b4bc6-29ca-45d8-a7cb-98d42731a2ca",
   "metadata": {},
   "outputs": [],
   "source": [
    "%load_ext autoreload\n",
    "%autoreload 2"
   ]
  },
  {
   "cell_type": "markdown",
   "id": "b0c45829-3457-4106-9d15-74bcd3138663",
   "metadata": {},
   "source": [
    "### Define paths "
   ]
  },
  {
   "cell_type": "code",
   "execution_count": 2,
   "id": "b6e4c50f-5041-438e-878d-cdd68f7dc96d",
   "metadata": {},
   "outputs": [],
   "source": [
    "from afa.configurations.utils_ts import specify_default_paths_ts\n",
    "# which dataset to work on \n",
    "dataset_name   = \"synthetic_1\"\n",
    "\n",
    "# name for of missingness scenario \n",
    "miss_scenario  = 'MAR_1'\n",
    "\n",
    "# original data paths\n",
    "paths_gt = specify_default_paths_ts(dataset_name = dataset_name , \n",
    "                                    miss_scenario = None) \n",
    "\n",
    "# new missing data paths\n",
    "paths_miss = specify_default_paths_ts(dataset_name = dataset_name , \n",
    "                                      miss_scenario = miss_scenario) \n",
    "\n",
    "# save miss model files also in ground truth folder\n",
    "m_graph_adj_gt_file     = paths_miss['data_dir']  + 'm_graphs/'  + 'ground_truth/' + 'm_graph_adjacencies.csv'\n",
    "ps_model_weights_gt_file   = paths_miss['data_dir']  + 'm_graphs/'  + 'ground_truth/' + 'weights.csv'"
   ]
  },
  {
   "cell_type": "markdown",
   "id": "2a7d60d1-30f8-4129-a5c0-59dbbb0b79f7",
   "metadata": {},
   "source": [
    "## Load dataset without missingness \n",
    "At first, we want to load the dataset\n",
    "\n",
    "Includes loading: \n",
    "- superfeature mapping\n",
    "- problem\n",
    "- afa_problem "
   ]
  },
  {
   "cell_type": "code",
   "execution_count": 3,
   "id": "523a5c14-a283-4f52-a764-67449bd0118d",
   "metadata": {},
   "outputs": [
    {
     "name": "stderr",
     "output_type": "stream",
     "text": [
      "2023-08-01 11:32:28.725939: I tensorflow/core/platform/cpu_feature_guard.cc:193] This TensorFlow binary is optimized with oneAPI Deep Neural Network Library (oneDNN) to use the following CPU instructions in performance-critical operations:  AVX2 FMA\n",
      "To enable them in other operations, rebuild TensorFlow with the appropriate compiler flags.\n",
      "2023-08-01 11:32:28.870545: W tensorflow/compiler/xla/stream_executor/platform/default/dso_loader.cc:64] Could not load dynamic library 'libcudart.so.11.0'; dlerror: libcudart.so.11.0: cannot open shared object file: No such file or directory\n",
      "2023-08-01 11:32:28.870567: I tensorflow/compiler/xla/stream_executor/cuda/cudart_stub.cc:29] Ignore above cudart dlerror if you do not have a GPU set up on your machine.\n",
      "2023-08-01 11:32:29.584782: W tensorflow/compiler/xla/stream_executor/platform/default/dso_loader.cc:64] Could not load dynamic library 'libnvinfer.so.7'; dlerror: libnvinfer.so.7: cannot open shared object file: No such file or directory\n",
      "2023-08-01 11:32:29.584894: W tensorflow/compiler/xla/stream_executor/platform/default/dso_loader.cc:64] Could not load dynamic library 'libnvinfer_plugin.so.7'; dlerror: libnvinfer_plugin.so.7: cannot open shared object file: No such file or directory\n",
      "2023-08-01 11:32:29.584904: W tensorflow/compiler/tf2tensorrt/utils/py_utils.cc:38] TF-TRT Warning: Cannot dlopen some TensorRT libraries. If you would like to use Nvidia GPU with TensorRT, please make sure the missing libraries mentioned above are installed properly.\n"
     ]
    }
   ],
   "source": [
    "from afa.data_modelling.datasets.data_loader.data_loader_ts import DataLoader_ts"
   ]
  },
  {
   "cell_type": "code",
   "execution_count": 4,
   "id": "cb15b78a-8bd5-4a1e-a66f-9703ac41e90b",
   "metadata": {},
   "outputs": [
    {
     "name": "stderr",
     "output_type": "stream",
     "text": [
      "Padding sequences: 100%|████████████████████████████████████████████████████████████████████████████████████| 100/100 [00:00<00:00, 2124.49it/s]\n",
      "Padding sequences: 100%|████████████████████████████████████████████████████████████████████████████████████| 100/100 [00:00<00:00, 1840.42it/s]\n",
      "Padding sequences: 100%|████████████████████████████████████████████████████████████████████████████████████| 100/100 [00:00<00:00, 1873.54it/s]\n"
     ]
    }
   ],
   "source": [
    "data_loader = DataLoader_ts(    data_file                  = paths_gt['data_file'],\n",
    "                                temporal_data_file         = paths_gt['temporal_data_file'],\n",
    "                                 superfeature_mapping_file = paths_gt['superfeature_mapping_file'],\n",
    "                                 problem_file              = paths_gt['problem_file'],\n",
    "                                 afa_problem_files         = paths_gt['afa_problem_files'],\n",
    "                                 folds_file                = paths_gt['folds_file'])\n",
    "\n",
    "dataset = data_loader.load() "
   ]
  },
  {
   "cell_type": "markdown",
   "id": "a15a3ac2-c2fd-4cf4-bef9-54fbde4dd53c",
   "metadata": {},
   "source": [
    "## Define agent to induce missingness\n",
    "Here we use an AFAMechanismAgent (which uses PropensityScoreModel). \n",
    "This requires defining:\n",
    "- an m_graph (through an adjacency matrix) \n",
    "- weights for a logistic regression model / constant model that defines the propensity score "
   ]
  },
  {
   "cell_type": "markdown",
   "id": "5a691bc6-d1fe-4e9f-8163-57d1c7f41783",
   "metadata": {},
   "source": [
    "### Define missing data_graph and ps_model weights"
   ]
  },
  {
   "cell_type": "markdown",
   "id": "5e3c89bb-bbd5-4d5f-889f-4851f059a52e",
   "metadata": {},
   "source": [
    "#### Option 1: Create corresponding files directly as .csv file\n",
    "__m-graph__:  \n",
    "Fill a .csv file containing the edges in the m_graph\n",
    "- column_names: name of the superfeature missingness indicators (superR) with format 'R_' + superfeature_name\n",
    "- row_names: name of the features and then name of the superR\n",
    "- entry(i,j) = 1  \n",
    "    if node of index i has an arrow to node of column j \n",
    "    \n",
    "__ps_model_weights__: \n",
    "Fill a .csv file containing the edges in the m_graph\n",
    "- column_names: name of the superfeature missingness indicators (superR) with format 'R_' + superfeature_name\n",
    "- row_names: \n",
    "    - row 1: bias \n",
    "    - other rows: names of the parents \n",
    "        - entry(i,j) = 1  \n",
    "            linear weight of parent on superR"
   ]
  },
  {
   "cell_type": "markdown",
   "id": "bc60d4ae-1fb3-4749-91e6-fe7d78c8cf5d",
   "metadata": {},
   "source": [
    "#### Option 2: Define here and save\n",
    "Define the adjacency matrix of the m_graph and the weights using a pandas df"
   ]
  },
  {
   "cell_type": "code",
   "execution_count": 5,
   "id": "0b69afab-5e31-44a0-b81b-659aa3e14a80",
   "metadata": {},
   "outputs": [
    {
     "data": {
      "text/plain": [
       "{'temporal': ['X0_ts', 'X1_ts', 'X2_ts', 'X3_ts'],\n",
       " 'data': ['X0', 'Y'],\n",
       " 'treatment': None,\n",
       " 'label': ['Y_ts'],\n",
       " 'super_data': ['superX0', 'superY'],\n",
       " 'super_temporal': ['superX0_ts', 'superX1_ts', 'superX2_ts']}"
      ]
     },
     "execution_count": 5,
     "metadata": {},
     "output_type": "execute_result"
    }
   ],
   "source": [
    "dataset.feature_name"
   ]
  },
  {
   "cell_type": "code",
   "execution_count": 6,
   "id": "f585fc3a-06c7-471c-b314-d22bb798b968",
   "metadata": {},
   "outputs": [
    {
     "data": {
      "text/html": [
       "<div>\n",
       "<style scoped>\n",
       "    .dataframe tbody tr th:only-of-type {\n",
       "        vertical-align: middle;\n",
       "    }\n",
       "\n",
       "    .dataframe tbody tr th {\n",
       "        vertical-align: top;\n",
       "    }\n",
       "\n",
       "    .dataframe thead th {\n",
       "        text-align: right;\n",
       "    }\n",
       "</style>\n",
       "<table border=\"1\" class=\"dataframe\">\n",
       "  <thead>\n",
       "    <tr style=\"text-align: right;\">\n",
       "      <th></th>\n",
       "      <th>R_superX1_ts</th>\n",
       "      <th>R_superX2_ts</th>\n",
       "    </tr>\n",
       "  </thead>\n",
       "  <tbody>\n",
       "    <tr>\n",
       "      <th>X0_ts</th>\n",
       "      <td>1</td>\n",
       "      <td>1</td>\n",
       "    </tr>\n",
       "    <tr>\n",
       "      <th>X1_ts</th>\n",
       "      <td>1</td>\n",
       "      <td>1</td>\n",
       "    </tr>\n",
       "    <tr>\n",
       "      <th>X2_ts</th>\n",
       "      <td>1</td>\n",
       "      <td>1</td>\n",
       "    </tr>\n",
       "  </tbody>\n",
       "</table>\n",
       "</div>"
      ],
      "text/plain": [
       "       R_superX1_ts  R_superX2_ts\n",
       "X0_ts             1             1\n",
       "X1_ts             1             1\n",
       "X2_ts             1             1"
      ]
     },
     "execution_count": 6,
     "metadata": {},
     "output_type": "execute_result"
    }
   ],
   "source": [
    "from afa.data_modelling.missingness.missing_data_graph.utils import save_m_graph_adjacency_matrix\n",
    "import pandas as pd\n",
    "# missing data graph\n",
    "# m_graph_adj = pd.DataFrame( [[0, 0], [0, 0]], \n",
    "#                             index=['X0_ts', 'X1_ts' ], \n",
    "#                             columns=['R_superX1_ts', 'R_superX2_ts'])\n",
    "m_graph_adj = pd.DataFrame( [[1, 1], [1, 1], [1, 1]], \n",
    "                            index   = ['X0_ts', 'X1_ts','X2_ts' ], \n",
    "                            columns = ['R_superX1_ts', 'R_superX2_ts'])\n",
    "\n",
    "save_m_graph_adjacency_matrix( m_graph_adj , m_graph_adj_file = m_graph_adj_gt_file  )  \n",
    "m_graph_adj"
   ]
  },
  {
   "cell_type": "code",
   "execution_count": 448,
   "id": "54d1d286-a496-40bf-8eeb-4c7e71ca5587",
   "metadata": {},
   "outputs": [
    {
     "data": {
      "text/html": [
       "<div>\n",
       "<style scoped>\n",
       "    .dataframe tbody tr th:only-of-type {\n",
       "        vertical-align: middle;\n",
       "    }\n",
       "\n",
       "    .dataframe tbody tr th {\n",
       "        vertical-align: top;\n",
       "    }\n",
       "\n",
       "    .dataframe thead th {\n",
       "        text-align: right;\n",
       "    }\n",
       "</style>\n",
       "<table border=\"1\" class=\"dataframe\">\n",
       "  <thead>\n",
       "    <tr style=\"text-align: right;\">\n",
       "      <th></th>\n",
       "      <th>R_superX1_ts</th>\n",
       "      <th>R_superX2_ts</th>\n",
       "    </tr>\n",
       "  </thead>\n",
       "  <tbody>\n",
       "    <tr>\n",
       "      <th>bias</th>\n",
       "      <td>-0.5</td>\n",
       "      <td>-0.5</td>\n",
       "    </tr>\n",
       "    <tr>\n",
       "      <th>X0_ts</th>\n",
       "      <td>-0.5</td>\n",
       "      <td>-0.7</td>\n",
       "    </tr>\n",
       "    <tr>\n",
       "      <th>X1_ts</th>\n",
       "      <td>0.1</td>\n",
       "      <td>-0.1</td>\n",
       "    </tr>\n",
       "    <tr>\n",
       "      <th>X2_ts</th>\n",
       "      <td>0.1</td>\n",
       "      <td>-0.1</td>\n",
       "    </tr>\n",
       "  </tbody>\n",
       "</table>\n",
       "</div>"
      ],
      "text/plain": [
       "       R_superX1_ts  R_superX2_ts\n",
       "bias           -0.5          -0.5\n",
       "X0_ts          -0.5          -0.7\n",
       "X1_ts           0.1          -0.1\n",
       "X2_ts           0.1          -0.1"
      ]
     },
     "execution_count": 448,
     "metadata": {},
     "output_type": "execute_result"
    }
   ],
   "source": [
    "from afa.data_modelling.missingness.propensity_scores.utils import save_logistic_regression_ps_model_weights, load_logistic_regression_ps_model_weights\n",
    "import numpy as np \n",
    "# weights for ps model \n",
    "# weights_df  = pd.DataFrame([[0.9, 0.95],[np.nan, np.nan],[np.nan, np.nan]], \n",
    "#                         index   = ['bias', 'X0_ts',  'X1_ts'], \n",
    "#                         columns = ['R_superX1_ts', 'R_superX2_ts'])\n",
    "# weights_df  = pd.DataFrame([[0.2, 0.3],[0.2, 0.2],[-0.2, -0.2],[-0.2, -0.2]], \n",
    "#                         index   = ['bias', 'X0_ts',  'X1_ts', 'X2_ts'], \n",
    "#                         columns = ['R_superX1_ts', 'R_superX2_ts'])\n",
    "weights_df  = pd.DataFrame([[-0.5, -0.5],[-0.5, -0.7],[0.1, -0.1],[0.1, -0.1]], \n",
    "                        index   = ['bias', 'X0_ts',  'X1_ts', 'X2_ts'], \n",
    "                        columns = ['R_superX1_ts', 'R_superX2_ts'])\n",
    "\n",
    "save_logistic_regression_ps_model_weights(weights_df = weights_df,\n",
    "                                          ps_model_weights_file = ps_model_weights_gt_file) \n",
    "weights_df"
   ]
  },
  {
   "cell_type": "markdown",
   "id": "c68c78cd-6098-4cf3-9718-ca2f8dcd9ae4",
   "metadata": {},
   "source": [
    "#### Option 3 (not recommended): Prepared m_graphs and weights \n",
    "Lastly, for specific datasets, the creation can be automatically stored using hard-coded specifications. "
   ]
  },
  {
   "cell_type": "code",
   "execution_count": 114,
   "id": "27973600-3893-4765-8d33-8a937ea8b771",
   "metadata": {},
   "outputs": [],
   "source": [
    "from afa.configurations.data_settings.define_data_settings_ts import generate_m_graphs_and_weights_ts\n",
    "m_graph_adj, weights_df = generate_m_graphs_and_weights_ts( dataset_name , \n",
    "                                                           miss_scenario ,  \n",
    "                                                           data_dir = paths_miss['data_dir'])"
   ]
  },
  {
   "cell_type": "code",
   "execution_count": 115,
   "id": "83481d77-2bbb-408f-9dce-44a52533203c",
   "metadata": {},
   "outputs": [
    {
     "data": {
      "text/html": [
       "<div>\n",
       "<style scoped>\n",
       "    .dataframe tbody tr th:only-of-type {\n",
       "        vertical-align: middle;\n",
       "    }\n",
       "\n",
       "    .dataframe tbody tr th {\n",
       "        vertical-align: top;\n",
       "    }\n",
       "\n",
       "    .dataframe thead th {\n",
       "        text-align: right;\n",
       "    }\n",
       "</style>\n",
       "<table border=\"1\" class=\"dataframe\">\n",
       "  <thead>\n",
       "    <tr style=\"text-align: right;\">\n",
       "      <th></th>\n",
       "      <th>R_superX1_ts</th>\n",
       "      <th>R_superX2_ts</th>\n",
       "    </tr>\n",
       "  </thead>\n",
       "  <tbody>\n",
       "    <tr>\n",
       "      <th>bias</th>\n",
       "      <td>0.0</td>\n",
       "      <td>0.0</td>\n",
       "    </tr>\n",
       "    <tr>\n",
       "      <th>X0_ts</th>\n",
       "      <td>0.2</td>\n",
       "      <td>0.2</td>\n",
       "    </tr>\n",
       "    <tr>\n",
       "      <th>X1_ts</th>\n",
       "      <td>-0.2</td>\n",
       "      <td>-0.2</td>\n",
       "    </tr>\n",
       "    <tr>\n",
       "      <th>X2_ts</th>\n",
       "      <td>-0.2</td>\n",
       "      <td>-0.2</td>\n",
       "    </tr>\n",
       "  </tbody>\n",
       "</table>\n",
       "</div>"
      ],
      "text/plain": [
       "       R_superX1_ts  R_superX2_ts\n",
       "bias            0.0           0.0\n",
       "X0_ts           0.2           0.2\n",
       "X1_ts          -0.2          -0.2\n",
       "X2_ts          -0.2          -0.2"
      ]
     },
     "execution_count": 115,
     "metadata": {},
     "output_type": "execute_result"
    }
   ],
   "source": [
    "weights_df"
   ]
  },
  {
   "cell_type": "markdown",
   "id": "9c0f323b-913c-4e6e-b9d5-e79736bc67cf",
   "metadata": {},
   "source": [
    "### Initialize a Agent (using PropensityScoreModel)"
   ]
  },
  {
   "cell_type": "code",
   "execution_count": 449,
   "id": "2fe440f7-74b9-490c-babd-cd676fa2166e",
   "metadata": {},
   "outputs": [],
   "source": [
    "from afa.data_modelling.missingness.missing_data_graph.utils import load_m_graph_adjacency_matrix\n",
    "from afa.data_modelling.missingness.missing_data_graph.missing_data_graph_ts import MissingDataGraph_ts\n",
    "from afa.data_modelling.models.temporal_models.joint_models.utils import load_joint_model_weights_ts\n",
    "from afa.data_modelling.missingness.propensity_scores.propensity_score_model_ts import PropensityScoreModel_ts\n",
    "from afa.afa_models.afa_agents.afa_mechanism_agents.afa_mechanism_agent_ts import AFAMechanismAgent_ts"
   ]
  },
  {
   "cell_type": "code",
   "execution_count": 450,
   "id": "fb12b015-fcd4-46c9-a4fa-2798f407b0e7",
   "metadata": {},
   "outputs": [
    {
     "data": {
      "image/png": "[encoded data removed]",
      "text/plain": [
       "<Figure size 432x288 with 1 Axes>"
      ]
     },
     "execution_count": 450,
     "metadata": {},
     "output_type": "execute_result"
    },
    {
     "data": {
      "image/png": "[encoded data removed]",
      "text/plain": [
       "<Figure size 432x288 with 1 Axes>"
      ]
     },
     "metadata": {},
     "output_type": "display_data"
    }
   ],
   "source": [
    "# 1. load m_graph \n",
    "m_graph_adj = load_m_graph_adjacency_matrix( m_graph_adj_file = m_graph_adj_gt_file )\n",
    "m_graph     = MissingDataGraph_ts(   m_graph_adj  = m_graph_adj ) \n",
    "\n",
    "# visualize\n",
    "m_graph.plot() "
   ]
  },
  {
   "cell_type": "code",
   "execution_count": 451,
   "id": "5b4d3c4f-4815-4035-9146-1c2de38ce79a",
   "metadata": {},
   "outputs": [
    {
     "name": "stdout",
     "output_type": "stream",
     "text": [
      "1/1 [==============================] - 0s 363ms/step - loss: 0.6931 - binary_accuracy: 1.0000\n",
      "Set weights for ann ...\n",
      "1/1 [==============================] - 0s 369ms/step - loss: 0.6931 - binary_accuracy: 1.0000\n",
      "Set weights for ann ...\n"
     ]
    }
   ],
   "source": [
    "# 2. load weights\n",
    "weights_df = load_logistic_regression_ps_model_weights( ps_model_weights_file = ps_model_weights_gt_file) \n",
    "\n",
    "# 3. initialize params\n",
    "ps_model_params = {}\n",
    "# ps_model_params['base_model_params'] = {    'model_type': 'stationary_constant',\n",
    "#                                                 'gt_weights': weights_df}\n",
    "ps_model_params['base_model_params'] = {  'model_type' : 'static_time_series_predictor',\n",
    "                                          'mode': 'online',\n",
    "                                          'delay' : 1, \n",
    "                                          'gt_weights': weights_df,\n",
    "                                          'base_model_static_params' : {\n",
    "                                              'model_type': 'ann',\n",
    "                                              'units': 1 ,\n",
    "                                              'layers': 1,\n",
    "                                              'learning_rate': 0.01,\n",
    "                                              'epochs': 100,\n",
    "                                              'checkpoint_dir': '',\n",
    "                                              'mode': 'classification'\n",
    "                                          }}\n",
    "\n",
    "# 4. init ps model\n",
    "ps_model_name = 'ps_model_gt'\n",
    "ps_model = PropensityScoreModel_ts( name            = ps_model_name, \n",
    "                                    m_graph         = m_graph, \n",
    "                                    feature_name    = dataset.feature_name,\n",
    "                                    superfeature_mapping = dataset.superfeature_mapping, \n",
    "                                    target_superfeature_names    = dataset.afa_problem.target_superfeature_names,\n",
    "                                    model_params    = ps_model_params ) "
   ]
  },
  {
   "cell_type": "code",
   "execution_count": 452,
   "id": "17dcc610-2cee-43f8-b534-a56173edfc45",
   "metadata": {},
   "outputs": [],
   "source": [
    "afa_agent = AFAMechanismAgent_ts(  name      = miss_scenario + '_agent',\n",
    "                                       ps_model  = ps_model \n",
    "                                 )"
   ]
  },
  {
   "cell_type": "markdown",
   "id": "b15716ad-4fe6-4677-b3ab-e0fffe5bf9cd",
   "metadata": {},
   "source": [
    "## Create new dataset using the defined agent"
   ]
  },
  {
   "cell_type": "markdown",
   "id": "4958b8ef-bb87-4931-8c70-dabf64f3ce67",
   "metadata": {},
   "source": [
    "Run the agent as an afa agent over the dataset to create an afa_dataset. Then create a new regular dataset out of it"
   ]
  },
  {
   "cell_type": "code",
   "execution_count": 453,
   "id": "f449c645-8db5-47a7-84f3-d76d9f9c9b9e",
   "metadata": {},
   "outputs": [],
   "source": [
    "from afa.afa_datasets.afa_dataset_ts import AFADataset_ts"
   ]
  },
  {
   "cell_type": "code",
   "execution_count": 454,
   "id": "e849ce84-b6fc-4910-a787-da85a732470d",
   "metadata": {},
   "outputs": [
    {
     "name": "stdout",
     "output_type": "stream",
     "text": [
      "4/4 [==============================] - 0s 2ms/step\n",
      "4/4 [==============================] - 0s 2ms/step\n"
     ]
    },
    {
     "name": "stderr",
     "output_type": "stream",
     "text": [
      "Convert superR to R: 100%|██████████████████████████████████████████████████████████████████████████████████████| 2/2 [00:00<00:00, 2938.22it/s]"
     ]
    },
    {
     "name": "stdout",
     "output_type": "stream",
     "text": [
      "7/7 [==============================] - 0s 1ms/step\n",
      "7/7 [==============================] - 0s 1ms/step\n"
     ]
    },
    {
     "name": "stderr",
     "output_type": "stream",
     "text": [
      "\n",
      "Convert superR to R: 100%|██████████████████████████████████████████████████████████████████████████████████████| 2/2 [00:00<00:00, 2773.09it/s]\n"
     ]
    },
    {
     "name": "stdout",
     "output_type": "stream",
     "text": [
      "10/10 [==============================] - 0s 1ms/step\n",
      "10/10 [==============================] - 0s 2ms/step\n"
     ]
    },
    {
     "name": "stderr",
     "output_type": "stream",
     "text": [
      "Convert superR to R: 100%|██████████████████████████████████████████████████████████████████████████████████████| 2/2 [00:00<00:00, 1862.07it/s]\n"
     ]
    },
    {
     "name": "stdout",
     "output_type": "stream",
     "text": [
      "13/13 [==============================] - 0s 2ms/step\n",
      "13/13 [==============================] - 0s 2ms/step\n"
     ]
    },
    {
     "name": "stderr",
     "output_type": "stream",
     "text": [
      "Convert superR to R: 100%|██████████████████████████████████████████████████████████████████████████████████████| 2/2 [00:00<00:00, 1167.03it/s]"
     ]
    },
    {
     "name": "stdout",
     "output_type": "stream",
     "text": [
      "16/16 [==============================] - 0s 1ms/step\n",
      "16/16 [==============================] - 0s 1ms/step\n"
     ]
    },
    {
     "name": "stderr",
     "output_type": "stream",
     "text": [
      "\n"
     ]
    },
    {
     "name": "stdout",
     "output_type": "stream",
     "text": [
      "16/16 [==============================] - 0s 1ms/step\n",
      "16/16 [==============================] - 0s 1ms/step\n"
     ]
    },
    {
     "name": "stderr",
     "output_type": "stream",
     "text": [
      "Convert superR to R: 100%|██████████████████████████████████████████████████████████████████████████████████████| 2/2 [00:00<00:00, 1447.81it/s]\n"
     ]
    }
   ],
   "source": [
    "afa_results = afa_agent.predict(dataset, \n",
    "                                ids = None, \n",
    "                                fold = None, \n",
    "                                split = None,  \n",
    "                                n_samples = 1) \n",
    "\n",
    "# create an afa_dataset out of the generated afa_results\n",
    "afa_dataset = AFADataset_ts(  dataset = dataset, model = afa_agent, results = afa_results) \n",
    "\n",
    "# check retrieving data \n",
    "data = afa_dataset.get_data( fold = None, split = None, n_samples = 1) "
   ]
  },
  {
   "cell_type": "code",
   "execution_count": 455,
   "id": "9e2de03a-0161-49fe-867d-1db012fe196c",
   "metadata": {},
   "outputs": [],
   "source": [
    "#afa_dataset.get_data()['superR']"
   ]
  },
  {
   "cell_type": "code",
   "execution_count": 456,
   "id": "96c59dcf-2443-4d51-9692-eaff3a512910",
   "metadata": {},
   "outputs": [
    {
     "name": "stderr",
     "output_type": "stream",
     "text": [
      "Convert superR to R: 100%|██████████████████████████████████████████████████████████████████████████████████████| 2/2 [00:00<00:00, 6428.05it/s]\n",
      "Inserting missingness into dataframe: 100%|██████████████████████████████████████████████████████████████████| 100/100 [00:00<00:00, 705.05it/s]"
     ]
    },
    {
     "name": "stdout",
     "output_type": "stream",
     "text": [
      "Missingness inserted.\n"
     ]
    },
    {
     "name": "stderr",
     "output_type": "stream",
     "text": [
      "\n"
     ]
    }
   ],
   "source": [
    "dataset_new =  afa_dataset.create_new_dataset()"
   ]
  },
  {
   "cell_type": "code",
   "execution_count": 457,
   "id": "3d73cb7b-35f2-4036-a440-7445923137a1",
   "metadata": {},
   "outputs": [
    {
     "data": {
      "text/plain": [
       "array([[[ 0.61743928,         nan,         nan,         nan],\n",
       "        [-0.33474081, -1.6924591 ,  0.04955291,  0.11848464],\n",
       "        [-1.16441813,         nan,  0.0437944 , -0.44166684],\n",
       "        [ 1.84896   ,  1.15871851,         nan,         nan],\n",
       "        [-1.43519133,         nan,         nan,         nan]],\n",
       "\n",
       "       [[-0.11267769,         nan, -1.14818601, -0.34655639],\n",
       "        [ 0.97614517,         nan,         nan,         nan],\n",
       "        [-0.9194451 ,         nan,  0.51515878,  0.77957249],\n",
       "        [ 1.38451107,  1.24311641,         nan,         nan],\n",
       "        [-0.7392126 , -0.82291527,         nan,         nan]],\n",
       "\n",
       "       [[-0.58332277,         nan,         nan,         nan],\n",
       "        [ 1.08142327, -0.26928017, -1.0755377 , -0.31283029],\n",
       "        [-1.33529314,         nan, -1.84792448, -0.05481668],\n",
       "        [-0.8359606 ,  0.39913469,         nan,         nan],\n",
       "        [ 2.5634141 ,  1.10150895,         nan,         nan]],\n",
       "\n",
       "       ...,\n",
       "\n",
       "       [[ 0.43219104, -2.21907029,         nan,         nan],\n",
       "        [ 0.79279244,         nan,  0.88561737,  0.70925882],\n",
       "        [-1.27716537, -1.34171204, -0.5829575 ,  1.11051765],\n",
       "        [-1.8673245 ,         nan,         nan,         nan],\n",
       "        [ 1.95631814,  0.00367087, -1.30165856, -1.04246736]],\n",
       "\n",
       "       [[-0.82105014,         nan,         nan,         nan],\n",
       "        [ 0.2838713 ,         nan, -1.02355824,  0.30472292],\n",
       "        [-0.17059038,         nan, -2.86548684, -1.04280714],\n",
       "        [-1.4857489 ,         nan, -1.13374074, -1.02308819],\n",
       "        [ 1.53336909, -1.00255216,         nan,         nan]],\n",
       "\n",
       "       [[-1.73812969,         nan, -0.48373887, -0.42452517],\n",
       "        [-0.26183406,         nan,  1.07256648,  0.58341588],\n",
       "        [ 0.44624182,         nan,         nan,         nan],\n",
       "        [-0.90714069, -1.0610848 , -0.01955053,  1.1308588 ],\n",
       "        [-0.12174746,         nan, -0.09281306,  1.27424819]]])"
      ]
     },
     "execution_count": 457,
     "metadata": {},
     "output_type": "execute_result"
    }
   ],
   "source": [
    "dataset_new.temporal_feature"
   ]
  },
  {
   "cell_type": "code",
   "execution_count": 458,
   "id": "557b903c-7570-49f1-94b3-c8f83b6f9c9b",
   "metadata": {},
   "outputs": [
    {
     "data": {
      "text/plain": [
       "0"
      ]
     },
     "execution_count": 458,
     "metadata": {},
     "output_type": "execute_result"
    }
   ],
   "source": [
    "(np.isnan(dataset_new.temporal_feature).sum(axis = 1).sum(axis = 1) == 20).sum()"
   ]
  },
  {
   "cell_type": "markdown",
   "id": "3f070900-2e05-473b-9e11-9593363312c7",
   "metadata": {},
   "source": [
    "## Visualize newly created missingness "
   ]
  },
  {
   "cell_type": "code",
   "execution_count": 459,
   "id": "ba91e063-b841-49e2-ad94-8fa2a3196fc7",
   "metadata": {},
   "outputs": [
    {
     "name": "stderr",
     "output_type": "stream",
     "text": [
      "No artists with labels found to put in legend.  Note that artists whose label start with an underscore are ignored when legend() is called with no argument.\n"
     ]
    },
    {
     "data": {
      "image/png": "[encoded data removed]",
      "text/plain": [
       "<Figure size 864x864 with 8 Axes>"
      ]
     },
     "metadata": {
      "needs_background": "light"
     },
     "output_type": "display_data"
    }
   ],
   "source": [
    "fig = dataset_new.plot_missingness_stats()"
   ]
  },
  {
   "cell_type": "markdown",
   "id": "3aed3069-fb9b-4255-a131-ccb679221c99",
   "metadata": {},
   "source": [
    "## Add the ground truth propensity score to the dataset"
   ]
  },
  {
   "cell_type": "markdown",
   "id": "5846ae35-dd97-456c-a89a-cd1196845ee8",
   "metadata": {},
   "source": [
    "For comparison reasons we might be interested in the ground truth propensity score and add it back to dataset_new "
   ]
  },
  {
   "cell_type": "code",
   "execution_count": 460,
   "id": "976dfca1-c99a-4f38-8352-7baa5a6779e5",
   "metadata": {},
   "outputs": [],
   "source": [
    "from afa.data_modelling.missingness.missingness_model import MissingnessModel"
   ]
  },
  {
   "cell_type": "code",
   "execution_count": 461,
   "id": "769f9505-a10f-43bb-82d9-855890af14fd",
   "metadata": {},
   "outputs": [
    {
     "name": "stdout",
     "output_type": "stream",
     "text": [
      "16/16 [==============================] - 0s 1ms/step\n",
      "16/16 [==============================] - 0s 1ms/step\n",
      "16/16 [==============================] - 0s 1ms/step\n",
      "16/16 [==============================] - 0s 1ms/step\n"
     ]
    }
   ],
   "source": [
    "# compute ps values\n",
    "R_samples, ps_values_1 = ps_model.predict(dataset_new)"
   ]
  },
  {
   "cell_type": "code",
   "execution_count": 462,
   "id": "4c3242aa-6cae-4c4e-90f2-5fa9906b8178",
   "metadata": {},
   "outputs": [
    {
     "name": "stdout",
     "output_type": "stream",
     "text": [
      "Mean of propensity score values: 7.296246676087997e-05\n",
      "Mean of R_samples = 1: 8e-05\n"
     ]
    }
   ],
   "source": [
    "# check consistency \n",
    "ps_values_1_mean =  ps_values_1.prod(axis = 1).mean()\n",
    "print(\"Mean of propensity score values: {}\".format(ps_values_1_mean))\n",
    "R_samples_1_mean = R_samples.prod(axis=1).prod(axis=1).mean()\n",
    "print(\"Mean of R_samples = 1: {}\".format(R_samples_1_mean))"
   ]
  },
  {
   "cell_type": "code",
   "execution_count": 463,
   "id": "63b4f3f3-66a8-4b3d-a6bd-8da3bcae0abe",
   "metadata": {},
   "outputs": [
    {
     "data": {
      "text/plain": [
       "array([5.95115364e-05, 2.02290844e-05, 5.10717065e-05, 7.80787171e-05,\n",
       "       1.00986249e-04, 7.87963033e-05, 1.53884882e-05, 6.78331970e-06,\n",
       "       8.24962724e-05, 6.80839322e-05, 2.26823730e-04, 1.96099959e-05,\n",
       "       3.43573588e-04, 5.79507051e-05, 5.84270522e-05, 1.76470709e-04,\n",
       "       1.17427306e-04, 1.52944130e-05, 8.30944287e-05, 6.01392724e-05,\n",
       "       8.44389963e-05, 8.92405278e-05, 4.79462301e-05, 5.85314184e-05,\n",
       "       5.72826848e-05, 2.06935056e-05, 5.82548549e-05, 3.25510713e-05,\n",
       "       1.56610021e-05, 1.28986385e-04, 3.73517339e-05, 4.40952788e-05,\n",
       "       1.17829981e-04, 2.27907327e-05, 2.86667121e-05, 4.26938684e-05,\n",
       "       5.08978286e-05, 5.85712193e-05, 5.82901344e-05, 1.16805625e-04,\n",
       "       2.10623667e-05, 2.10539136e-04, 1.67318650e-05, 8.56225752e-05,\n",
       "       3.59068989e-05, 9.88848138e-05, 5.92201674e-05, 6.15264576e-05,\n",
       "       5.84005069e-05, 5.80303591e-05, 5.85027290e-05, 5.82833381e-05,\n",
       "       3.45688645e-05, 1.79683096e-05, 6.14439260e-05, 2.01961391e-04,\n",
       "       9.99891123e-05, 2.00759347e-05, 5.83462104e-05, 3.44033702e-05,\n",
       "       1.99878945e-05, 5.08239146e-05, 8.96158322e-05, 1.69733090e-04,\n",
       "       6.57311775e-05, 1.68700881e-05, 1.04970993e-04, 1.05584170e-04,\n",
       "       6.00263495e-05, 5.84489396e-05, 2.73837159e-05, 2.83392904e-05,\n",
       "       4.56549885e-05, 3.93057547e-05, 5.73325197e-05, 5.77157580e-05,\n",
       "       5.16811449e-05, 3.69892822e-05, 6.37688953e-05, 9.85990087e-05,\n",
       "       5.78052604e-05, 4.69785677e-05, 5.28499415e-05, 3.72746713e-05,\n",
       "       2.87811293e-05, 1.12104923e-04, 7.40191221e-05, 1.04574162e-04,\n",
       "       5.09596737e-05, 1.11917654e-04, 5.72907898e-05, 2.23395888e-04,\n",
       "       4.61741537e-05, 1.86668593e-05, 5.85838950e-05, 3.82293424e-05,\n",
       "       6.86521311e-05, 4.44615618e-04, 5.64971146e-05, 1.15028042e-04])"
      ]
     },
     "execution_count": 463,
     "metadata": {},
     "output_type": "execute_result"
    }
   ],
   "source": [
    "ps_values_1.prod(axis = 1)"
   ]
  },
  {
   "cell_type": "code",
   "execution_count": 416,
   "id": "1ba88360-18f9-4ccb-bf7d-4e0d82310459",
   "metadata": {},
   "outputs": [],
   "source": [
    "# init miss_model in dataset\n",
    "miss_model = MissingnessModel(m_graph)\n",
    "dataset_new.miss_model = miss_model "
   ]
  },
  {
   "cell_type": "code",
   "execution_count": 417,
   "id": "a26f026d-9dc7-45b4-a30e-34384c3d624d",
   "metadata": {},
   "outputs": [],
   "source": [
    "# add to dataset\n",
    "dataset_new.miss_model.add_ps_values( ps_model_name , \n",
    "                                      R_samples = R_samples, \n",
    "                                      ps_values_1 = ps_values_1 )"
   ]
  },
  {
   "cell_type": "markdown",
   "id": "cf14cc65-7119-488b-b488-93347fd15871",
   "metadata": {},
   "source": [
    "## Save the new dataset"
   ]
  },
  {
   "cell_type": "code",
   "execution_count": 248,
   "id": "0446da14-a339-485f-8fda-888c36dde579",
   "metadata": {},
   "outputs": [],
   "source": [
    "dataset_new.save( data_dir = paths_miss['data_dir'], \n",
    "                  dataset_name = dataset_name + '_' + miss_scenario, \n",
    "                  save_folds = True) "
   ]
  },
  {
   "cell_type": "code",
   "execution_count": null,
   "id": "a2d85fe4-55d1-465e-9c51-36f7bdc6e123",
   "metadata": {},
   "outputs": [],
   "source": [
    "dataset_new.miss_model.save(paths_miss['data_dir'])"
   ]
  },
  {
   "cell_type": "markdown",
   "id": "febf5c68-87ab-42ab-9270-a1320ee59985",
   "metadata": {},
   "source": [
    "## Reporting: summarize the whole dataset (with missingness) \n",
    "Store information in reports folder in latex / markdown format."
   ]
  },
  {
   "cell_type": "code",
   "execution_count": null,
   "id": "786965fe-9b81-45e4-b6f1-7dd2eedce1cf",
   "metadata": {},
   "outputs": [],
   "source": [
    "# reporting\n",
    "explanation_file = paths_miss['data_dir'] + 'dataset_report'\n",
    "dataset_new.explain(file=  explanation_file + '.md', format = 'markdown')\n",
    "# dataset_new.explain(file=  explanation_file + '.tex', format = 'latex')"
   ]
  },
  {
   "cell_type": "code",
   "execution_count": null,
   "id": "3939a176-5151-4330-b2df-6753085e3b72",
   "metadata": {},
   "outputs": [],
   "source": []
  }
 ],
 "metadata": {
  "kernelspec": {
   "display_name": "afa_env",
   "language": "python",
   "name": "afa_env"
  },
  "language_info": {
   "codemirror_mode": {
    "name": "ipython",
    "version": 3
   },
   "file_extension": ".py",
   "mimetype": "text/x-python",
   "name": "python",
   "nbconvert_exporter": "python",
   "pygments_lexer": "ipython3",
   "version": "3.10.8"
  },
  "toc": {
   "base_numbering": 1,
   "nav_menu": {},
   "number_sections": true,
   "sideBar": true,
   "skip_h1_title": false,
   "title_cell": "Table of Contents",
   "title_sidebar": "Contents",
   "toc_cell": false,
   "toc_position": {
    "height": "calc(100% - 180px)",
    "left": "10px",
    "top": "150px",
    "width": "297px"
   },
   "toc_section_display": true,
   "toc_window_display": true
  },
  "varInspector": {
   "cols": {
    "lenName": 16,
    "lenType": 16,
    "lenVar": 40
   },
   "kernels_config": {
    "python": {
     "delete_cmd_postfix": "",
     "delete_cmd_prefix": "del ",
     "library": "var_list.py",
     "varRefreshCmd": "print(var_dic_list())"
    },
    "r": {
     "delete_cmd_postfix": ") ",
     "delete_cmd_prefix": "rm(",
     "library": "var_list.r",
     "varRefreshCmd": "cat(var_dic_list()) "
    }
   },
   "types_to_exclude": [
    "module",
    "function",
    "builtin_function_or_method",
    "instance",
    "_Feature"
   ],
   "window_display": false
  }
 },
 "nbformat": 4,
 "nbformat_minor": 5
}
