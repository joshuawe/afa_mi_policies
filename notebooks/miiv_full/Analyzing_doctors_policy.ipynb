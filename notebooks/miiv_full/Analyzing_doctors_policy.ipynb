{
 "cells": [
  {
   "cell_type": "markdown",
   "metadata": {},
   "source": [
    "# Analyzing Doctor's policy\n",
    "\n",
    "The doctor's policy is the one that created the dataset. Our retrospective dataset has been created by using the doctor's policy in real life in the ICU.  \n",
    "Let us analyze the policy in some ways."
   ]
  },
  {
   "cell_type": "code",
   "execution_count": null,
   "metadata": {},
   "outputs": [],
   "source": []
  }
 ],
 "metadata": {
  "language_info": {
   "name": "python"
  },
  "orig_nbformat": 4
 },
 "nbformat": 4,
 "nbformat_minor": 2
}
