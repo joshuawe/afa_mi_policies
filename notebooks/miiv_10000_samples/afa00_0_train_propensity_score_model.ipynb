{
 "cells": [
  {
   "cell_type": "markdown",
   "id": "c115955a-4824-4f80-8e54-7edbb8ccf86b",
   "metadata": {},
   "source": [
    "# (0.0) Train a propensity score (PS) model\n",
    "One option to resolve missingness for AFA is to use inverse probability weighting. \n",
    "This notebook trains PS models and saves the computed propensity scores for the dataset. "
   ]
  },
  {
   "cell_type": "code",
   "execution_count": 1,
   "id": "25e56fb6-07f1-46bf-b18b-de11562f0778",
   "metadata": {},
   "outputs": [],
   "source": [
    "%load_ext autoreload\n",
    "%autoreload 2"
   ]
  },
  {
   "cell_type": "code",
   "execution_count": 5,
   "id": "2da98cda",
   "metadata": {},
   "outputs": [
    {
     "name": "stdout",
     "output_type": "stream",
     "text": [
      "\u001b[34m\u001b[1mLoading libraries...\u001b[0m\n"
     ]
    }
   ],
   "source": [
    "import os\n",
    "os.system('')\n",
    "\n",
    "s_token, end_token =(\"\\033[34m\\033[1m\", \"\\033[0m\")\n",
    "\n",
    "def print(*args, **kwargs):\n",
    "    __builtins__.print(s_token, end=\"\")\n",
    "    __builtins__.print(*args, **kwargs, end=\"\")\n",
    "    __builtins__.print(end_token)\n",
    "print(\"Loading libraries...\")"
   ]
  },
  {
   "cell_type": "markdown",
   "id": "da5d73e7-40a9-43fa-a44f-5fbe48138655",
   "metadata": {},
   "source": [
    "## Define paths "
   ]
  },
  {
   "cell_type": "markdown",
   "id": "a1634a6d-d316-4ee5-a934-b04405987e55",
   "metadata": {},
   "source": [
    "Paths for data"
   ]
  },
  {
   "cell_type": "code",
   "execution_count": 4,
   "id": "136ad704-9673-4784-b6de-4470ce58ac0d",
   "metadata": {},
   "outputs": [],
   "source": [
    "from afa.configurations.utils_ts import specify_default_paths_ts\n",
    "# which dataset to work on \n",
    "dataset_name   = \"miiv_test\"\n",
    "\n",
    "# name for of missingness scenario \n",
    "miss_scenario  = 'MCAR_1'\n",
    "\n",
    "# automatically specify some path locations (change paths manually if needed) \n",
    "data_root = '/home2/joshua.wendland/Documents/afa_mi_policies/data/'\n",
    "paths = specify_default_paths_ts(dataset_name = dataset_name , miss_scenario = miss_scenario, data_root=data_root)\n",
    "\n",
    "\n",
    "# load additional propensity score models to compare\n",
    "ps_model_gt_name = 'ps_model_gt'  # to compare with \n",
    "ps_model_names = [ps_model_gt_name]\n",
    "ps_model_names = [] \n",
    "paths['miss_model_files']['ps_values_dirs'] = [paths['data_dir'] + 'ps_models/' + ps_model_name + '/' + 'ps_values/' for ps_model_name in ps_model_names]"
   ]
  },
  {
   "cell_type": "markdown",
   "id": "0a02b0ed-e05c-4e7f-893e-7c21a477874e",
   "metadata": {},
   "source": [
    "Paths for model"
   ]
  },
  {
   "cell_type": "code",
   "execution_count": 5,
   "id": "56effe9e-240b-49e2-8335-34394d817ffa",
   "metadata": {},
   "outputs": [],
   "source": [
    "# name for agent (and predictor) \n",
    "ps_model_name         = 'ps_lr'\n",
    "\n",
    "# new (where to save the model) \n",
    "ps_model_dir = paths['data_dir']  + 'ps_models' + '/' + ps_model_name + '/'"
   ]
  },
  {
   "cell_type": "markdown",
   "id": "de399c70-166d-4d9d-a891-43b01052b150",
   "metadata": {},
   "source": [
    "## Load dataset with missingness \n",
    "At first, we want to load the dataset \n",
    "\n",
    "Includes loading: \n",
    "- superfeature mapping\n",
    "- problem\n",
    "- afa_problem \n",
    "- missingness_model"
   ]
  },
  {
   "cell_type": "code",
   "execution_count": 6,
   "id": "9864eb83-a3f4-4d56-9caa-6ebf5c4fa529",
   "metadata": {},
   "outputs": [
    {
     "name": "stderr",
     "output_type": "stream",
     "text": [
      "2023-08-24 09:51:17.163248: I tensorflow/core/platform/cpu_feature_guard.cc:193] This TensorFlow binary is optimized with oneAPI Deep Neural Network Library (oneDNN) to use the following CPU instructions in performance-critical operations:  AVX2 FMA\n",
      "To enable them in other operations, rebuild TensorFlow with the appropriate compiler flags.\n",
      "2023-08-24 09:51:17.246599: W tensorflow/compiler/xla/stream_executor/platform/default/dso_loader.cc:64] Could not load dynamic library 'libcudart.so.11.0'; dlerror: libcudart.so.11.0: cannot open shared object file: No such file or directory\n",
      "2023-08-24 09:51:17.246615: I tensorflow/compiler/xla/stream_executor/cuda/cudart_stub.cc:29] Ignore above cudart dlerror if you do not have a GPU set up on your machine.\n",
      "2023-08-24 09:51:19.348459: W tensorflow/compiler/xla/stream_executor/platform/default/dso_loader.cc:64] Could not load dynamic library 'libnvinfer.so.7'; dlerror: libnvinfer.so.7: cannot open shared object file: No such file or directory\n",
      "2023-08-24 09:51:19.348534: W tensorflow/compiler/xla/stream_executor/platform/default/dso_loader.cc:64] Could not load dynamic library 'libnvinfer_plugin.so.7'; dlerror: libnvinfer_plugin.so.7: cannot open shared object file: No such file or directory\n",
      "2023-08-24 09:51:19.348543: W tensorflow/compiler/tf2tensorrt/utils/py_utils.cc:38] TF-TRT Warning: Cannot dlopen some TensorRT libraries. If you would like to use Nvidia GPU with TensorRT, please make sure the missing libraries mentioned above are installed properly.\n"
     ]
    }
   ],
   "source": [
    "from afa.data_modelling.datasets.data_loader.data_loader_ts import DataLoader_ts"
   ]
  },
  {
   "cell_type": "code",
   "execution_count": 7,
   "id": "812acbbc-2207-490b-9db5-64b24d334ee7",
   "metadata": {},
   "outputs": [
    {
     "name": "stderr",
     "output_type": "stream",
     "text": [
      "Padding sequences:   0%|          | 0/100 [00:00<?, ?it/s]"
     ]
    },
    {
     "name": "stderr",
     "output_type": "stream",
     "text": [
      "Padding sequences: 100%|██████████| 100/100 [00:00<00:00, 2256.51it/s]\n",
      "Padding sequences: 100%|██████████| 100/100 [00:00<00:00, 2571.05it/s]\n",
      "Padding sequences: 100%|██████████| 100/100 [00:00<00:00, 1682.15it/s]\n"
     ]
    }
   ],
   "source": [
    "data_loader = DataLoader_ts(     data_file                  = paths['data_file'],\n",
    "                                 temporal_data_file         = paths['temporal_data_file'],\n",
    "                                 superfeature_mapping_file  = paths['superfeature_mapping_file'],\n",
    "                                 problem_file               = paths['problem_file'],\n",
    "                                 afa_problem_files          = paths['afa_problem_files'], \n",
    "                                 miss_model_files           = paths['miss_model_files'], \n",
    "                                 folds_file                 = paths['folds_file'] )\n",
    "dataset = data_loader.load() "
   ]
  },
  {
   "cell_type": "markdown",
   "id": "682f0788-f552-457c-97cd-c82254f81302",
   "metadata": {},
   "source": [
    "## Define propensity score model"
   ]
  },
  {
   "cell_type": "code",
   "execution_count": 28,
   "id": "4cc6196d-0076-42fa-8c4b-6cbbdf446668",
   "metadata": {},
   "outputs": [],
   "source": [
    "ps_model_params = {\n",
    "    'name' : ps_model_name, \n",
    "    'directory' : ps_model_dir,\n",
    "    'base_model_params' : {  'base_model_type': 'stationary_constant',\n",
    "                              'units': 10 ,\n",
    "                              'layers': 1,\n",
    "                              'learning_rate': 0.01,\n",
    "                              'epochs': 100\n",
    "                          }\n",
    "    }"
   ]
  },
  {
   "cell_type": "code",
   "execution_count": 29,
   "id": "32f8ebde-44f5-46b5-bbad-df1e5b809460",
   "metadata": {},
   "outputs": [
    {
     "name": "stdout",
     "output_type": "stream",
     "text": [
      "Change base_model to stationary_constant\n",
      "Change base_model to stationary_constant\n"
     ]
    }
   ],
   "source": [
    "from afa.data_modelling.missingness.propensity_scores.propensity_score_model_ts import PropensityScoreModel_ts\n",
    "\n",
    "ps_model = PropensityScoreModel_ts(      name                         = ps_model_params['name'], \n",
    "                                         m_graph                      = dataset.miss_model.m_graph, \n",
    "                                         feature_name                 = dataset.feature_name,\n",
    "                                         superfeature_mapping         = dataset.superfeature_mapping,\n",
    "                                         target_superfeature_names    = dataset.afa_problem.target_superfeature_names,\n",
    "                                         model_params                 = ps_model_params,\n",
    "                                         directory                    = ps_model_params['directory']) "
   ]
  },
  {
   "cell_type": "markdown",
   "id": "f6ec89f1-1445-436b-8ad2-e6076737fdc7",
   "metadata": {},
   "source": [
    "## Fit propensity score model"
   ]
  },
  {
   "cell_type": "code",
   "execution_count": 30,
   "id": "13a9b0f5-609d-4a06-9097-ad01d2620849",
   "metadata": {},
   "outputs": [
    {
     "data": {
      "image/png": "[encoded data removed]",
      "text/plain": [
       "<Figure size 1600x500 with 2 Axes>"
      ]
     },
     "metadata": {},
     "output_type": "display_data"
    }
   ],
   "source": [
    "ps_model.fit(dataset, fold = 0, train_split = 'train', valid_split = 'val', fit_again = True)"
   ]
  },
  {
   "cell_type": "markdown",
   "id": "0452a065-749e-4fd0-b974-43490612e61c",
   "metadata": {},
   "source": [
    "## Compute the propensity score for the dataset"
   ]
  },
  {
   "cell_type": "markdown",
   "id": "d4db8f63-f88f-4128-935f-8b15957fab34",
   "metadata": {},
   "source": [
    "We add the computed propensity scores to the dataset."
   ]
  },
  {
   "cell_type": "code",
   "execution_count": 31,
   "id": "dee08784-3137-485d-a4bf-02cfd0d6150a",
   "metadata": {},
   "outputs": [],
   "source": [
    "# compute ps values\n",
    "R_samples, ps_values_1 = ps_model.predict(dataset)"
   ]
  },
  {
   "cell_type": "code",
   "execution_count": 52,
   "id": "40dfbcfb-42cd-4a11-a8c4-db3336579f21",
   "metadata": {},
   "outputs": [],
   "source": [
    "# add ps_values\n",
    "dataset.miss_model.add_ps_values( ps_model_name , \n",
    "                                  R_samples   = R_samples, \n",
    "                                  ps_values_1 = ps_values_1 )"
   ]
  },
  {
   "cell_type": "code",
   "execution_count": 54,
   "id": "01d899fb-91b9-4eab-803d-d43c96873441",
   "metadata": {},
   "outputs": [
    {
     "ename": "KeyError",
     "evalue": "'ps_model_gt'",
     "output_type": "error",
     "traceback": [
      "\u001b[0;31m---------------------------------------------------------------------------\u001b[0m",
      "\u001b[0;31mKeyError\u001b[0m                                  Traceback (most recent call last)",
      "Cell \u001b[0;32mIn[54], line 2\u001b[0m\n\u001b[1;32m      1\u001b[0m \u001b[39m# check consistency \u001b[39;00m\n\u001b[0;32m----> 2\u001b[0m ps_values_1_mean \u001b[39m=\u001b[39m dataset\u001b[39m.\u001b[39;49mmiss_model\u001b[39m.\u001b[39;49mps_models[\u001b[39m'\u001b[39;49m\u001b[39mps_model_gt\u001b[39;49m\u001b[39m'\u001b[39;49m][\u001b[39m'\u001b[39m\u001b[39mps_values_1\u001b[39m\u001b[39m'\u001b[39m]\u001b[39m.\u001b[39mprod(axis \u001b[39m=\u001b[39m \u001b[39m1\u001b[39m)\u001b[39m.\u001b[39mmean()\n\u001b[1;32m      3\u001b[0m \u001b[39mprint\u001b[39m(\u001b[39m\"\u001b[39m\u001b[39mMean of propensity score values: \u001b[39m\u001b[39m{}\u001b[39;00m\u001b[39m\"\u001b[39m\u001b[39m.\u001b[39mformat(ps_values_1_mean))\n\u001b[1;32m      4\u001b[0m R_samples_1_mean \u001b[39m=\u001b[39m dataset\u001b[39m.\u001b[39mmiss_model\u001b[39m.\u001b[39mps_models[\u001b[39m'\u001b[39m\u001b[39mps_model_gt\u001b[39m\u001b[39m'\u001b[39m][\u001b[39m'\u001b[39m\u001b[39mR_samples\u001b[39m\u001b[39m'\u001b[39m]\u001b[39m.\u001b[39mprod(axis\u001b[39m=\u001b[39m\u001b[39m1\u001b[39m)\u001b[39m.\u001b[39mprod(axis\u001b[39m=\u001b[39m\u001b[39m1\u001b[39m)\u001b[39m.\u001b[39mmean()\n",
      "\u001b[0;31mKeyError\u001b[0m: 'ps_model_gt'"
     ]
    }
   ],
   "source": [
    "# check consistency \n",
    "ps_values_1_mean = dataset.miss_model.ps_models['ps_model_gt']['ps_values_1'].prod(axis = 1).mean()\n",
    "print(\"Mean of propensity score values: {}\".format(ps_values_1_mean))\n",
    "R_samples_1_mean = dataset.miss_model.ps_models['ps_model_gt']['R_samples'].prod(axis=1).prod(axis=1).mean()\n",
    "print(\"Mean of R_samples = 1: {}\".format(R_samples_1_mean))"
   ]
  },
  {
   "cell_type": "markdown",
   "id": "6e5eecf5-9569-4b35-8c90-4eb1dbd636fb",
   "metadata": {},
   "source": [
    "## Compare all propensity scores in dataset"
   ]
  },
  {
   "cell_type": "markdown",
   "id": "c0f6c479-af61-4851-92ef-8edf485c0448",
   "metadata": {},
   "source": [
    "We might have computed multiple different propensity scores (e.g. also the ground truth propensity score) using different models and want to compare their predictions now. \n",
    "\n",
    "\n",
    "> Josh: We only have have one ps_model, which is why the error is thrown"
   ]
  },
  {
   "cell_type": "code",
   "execution_count": 55,
   "id": "a81a2427-436b-43c0-b07f-4b684aebcd92",
   "metadata": {},
   "outputs": [
    {
     "ename": "ValueError",
     "evalue": "Number of columns must be a positive integer, not 0",
     "output_type": "error",
     "traceback": [
      "\u001b[0;31m---------------------------------------------------------------------------\u001b[0m",
      "\u001b[0;31mValueError\u001b[0m                                Traceback (most recent call last)",
      "Cell \u001b[0;32mIn[55], line 2\u001b[0m\n\u001b[1;32m      1\u001b[0m \u001b[39m# compare values for p(R=1|X)\u001b[39;00m\n\u001b[0;32m----> 2\u001b[0m dataset\u001b[39m.\u001b[39;49mmiss_model\u001b[39m.\u001b[39;49mplot_ps_comparison( )\n",
      "File \u001b[0;32m~/Documents/afa_ts/afa/data_modelling/missingness/missingness_model.py:144\u001b[0m, in \u001b[0;36mMissingnessModel.plot_ps_comparison\u001b[0;34m(self)\u001b[0m\n\u001b[1;32m    142\u001b[0m \u001b[39m# plot each combination\u001b[39;00m\n\u001b[1;32m    143\u001b[0m n_plots \u001b[39m=\u001b[39m \u001b[39mint\u001b[39m((n_ps_models \u001b[39m*\u001b[39m\u001b[39m*\u001b[39m \u001b[39m2\u001b[39m \u001b[39m-\u001b[39m n_ps_models)\u001b[39m/\u001b[39m\u001b[39m2\u001b[39m)\n\u001b[0;32m--> 144\u001b[0m fig, axs \u001b[39m=\u001b[39m plt\u001b[39m.\u001b[39;49msubplots(\u001b[39m1\u001b[39;49m, n_plots,figsize\u001b[39m=\u001b[39;49m(\u001b[39m4\u001b[39;49m \u001b[39m*\u001b[39;49m n_plots,\u001b[39m5\u001b[39;49m))\n\u001b[1;32m    146\u001b[0m plot_count \u001b[39m=\u001b[39m \u001b[39m0\u001b[39m\n\u001b[1;32m    147\u001b[0m \u001b[39mfor\u001b[39;00m ps_model_i \u001b[39min\u001b[39;00m \u001b[39mrange\u001b[39m(n_ps_models): \n",
      "File \u001b[0;32m~/Documents/afa_ts/afa_env/lib/python3.8/site-packages/matplotlib/pyplot.py:1475\u001b[0m, in \u001b[0;36msubplots\u001b[0;34m(nrows, ncols, sharex, sharey, squeeze, width_ratios, height_ratios, subplot_kw, gridspec_kw, **fig_kw)\u001b[0m\n\u001b[1;32m   1331\u001b[0m \u001b[39m\u001b[39m\u001b[39m\"\"\"\u001b[39;00m\n\u001b[1;32m   1332\u001b[0m \u001b[39mCreate a figure and a set of subplots.\u001b[39;00m\n\u001b[1;32m   1333\u001b[0m \n\u001b[0;32m   (...)\u001b[0m\n\u001b[1;32m   1472\u001b[0m \n\u001b[1;32m   1473\u001b[0m \u001b[39m\"\"\"\u001b[39;00m\n\u001b[1;32m   1474\u001b[0m fig \u001b[39m=\u001b[39m figure(\u001b[39m*\u001b[39m\u001b[39m*\u001b[39mfig_kw)\n\u001b[0;32m-> 1475\u001b[0m axs \u001b[39m=\u001b[39m fig\u001b[39m.\u001b[39;49msubplots(nrows\u001b[39m=\u001b[39;49mnrows, ncols\u001b[39m=\u001b[39;49mncols, sharex\u001b[39m=\u001b[39;49msharex, sharey\u001b[39m=\u001b[39;49msharey,\n\u001b[1;32m   1476\u001b[0m                    squeeze\u001b[39m=\u001b[39;49msqueeze, subplot_kw\u001b[39m=\u001b[39;49msubplot_kw,\n\u001b[1;32m   1477\u001b[0m                    gridspec_kw\u001b[39m=\u001b[39;49mgridspec_kw, height_ratios\u001b[39m=\u001b[39;49mheight_ratios,\n\u001b[1;32m   1478\u001b[0m                    width_ratios\u001b[39m=\u001b[39;49mwidth_ratios)\n\u001b[1;32m   1479\u001b[0m \u001b[39mreturn\u001b[39;00m fig, axs\n",
      "File \u001b[0;32m~/Documents/afa_ts/afa_env/lib/python3.8/site-packages/matplotlib/figure.py:891\u001b[0m, in \u001b[0;36mFigureBase.subplots\u001b[0;34m(self, nrows, ncols, sharex, sharey, squeeze, width_ratios, height_ratios, subplot_kw, gridspec_kw)\u001b[0m\n\u001b[1;32m    887\u001b[0m         \u001b[39mraise\u001b[39;00m \u001b[39mValueError\u001b[39;00m(\u001b[39m\"\u001b[39m\u001b[39m'\u001b[39m\u001b[39mwidth_ratios\u001b[39m\u001b[39m'\u001b[39m\u001b[39m must not be defined both as \u001b[39m\u001b[39m\"\u001b[39m\n\u001b[1;32m    888\u001b[0m                          \u001b[39m\"\u001b[39m\u001b[39mparameter and as key in \u001b[39m\u001b[39m'\u001b[39m\u001b[39mgridspec_kw\u001b[39m\u001b[39m'\u001b[39m\u001b[39m\"\u001b[39m)\n\u001b[1;32m    889\u001b[0m     gridspec_kw[\u001b[39m'\u001b[39m\u001b[39mwidth_ratios\u001b[39m\u001b[39m'\u001b[39m] \u001b[39m=\u001b[39m width_ratios\n\u001b[0;32m--> 891\u001b[0m gs \u001b[39m=\u001b[39m \u001b[39mself\u001b[39;49m\u001b[39m.\u001b[39;49madd_gridspec(nrows, ncols, figure\u001b[39m=\u001b[39;49m\u001b[39mself\u001b[39;49m, \u001b[39m*\u001b[39;49m\u001b[39m*\u001b[39;49mgridspec_kw)\n\u001b[1;32m    892\u001b[0m axs \u001b[39m=\u001b[39m gs\u001b[39m.\u001b[39msubplots(sharex\u001b[39m=\u001b[39msharex, sharey\u001b[39m=\u001b[39msharey, squeeze\u001b[39m=\u001b[39msqueeze,\n\u001b[1;32m    893\u001b[0m                   subplot_kw\u001b[39m=\u001b[39msubplot_kw)\n\u001b[1;32m    894\u001b[0m \u001b[39mreturn\u001b[39;00m axs\n",
      "File \u001b[0;32m~/Documents/afa_ts/afa_env/lib/python3.8/site-packages/matplotlib/figure.py:1514\u001b[0m, in \u001b[0;36mFigureBase.add_gridspec\u001b[0;34m(self, nrows, ncols, **kwargs)\u001b[0m\n\u001b[1;32m   1475\u001b[0m \u001b[39m\u001b[39m\u001b[39m\"\"\"\u001b[39;00m\n\u001b[1;32m   1476\u001b[0m \u001b[39mReturn a `.GridSpec` that has this figure as a parent.  This allows\u001b[39;00m\n\u001b[1;32m   1477\u001b[0m \u001b[39mcomplex layout of Axes in the figure.\u001b[39;00m\n\u001b[0;32m   (...)\u001b[0m\n\u001b[1;32m   1510\u001b[0m \n\u001b[1;32m   1511\u001b[0m \u001b[39m\"\"\"\u001b[39;00m\n\u001b[1;32m   1513\u001b[0m _ \u001b[39m=\u001b[39m kwargs\u001b[39m.\u001b[39mpop(\u001b[39m'\u001b[39m\u001b[39mfigure\u001b[39m\u001b[39m'\u001b[39m, \u001b[39mNone\u001b[39;00m)  \u001b[39m# pop in case user has added this...\u001b[39;00m\n\u001b[0;32m-> 1514\u001b[0m gs \u001b[39m=\u001b[39m GridSpec(nrows\u001b[39m=\u001b[39;49mnrows, ncols\u001b[39m=\u001b[39;49mncols, figure\u001b[39m=\u001b[39;49m\u001b[39mself\u001b[39;49m, \u001b[39m*\u001b[39;49m\u001b[39m*\u001b[39;49mkwargs)\n\u001b[1;32m   1515\u001b[0m \u001b[39mreturn\u001b[39;00m gs\n",
      "File \u001b[0;32m~/Documents/afa_ts/afa_env/lib/python3.8/site-packages/matplotlib/gridspec.py:379\u001b[0m, in \u001b[0;36mGridSpec.__init__\u001b[0;34m(self, nrows, ncols, figure, left, bottom, right, top, wspace, hspace, width_ratios, height_ratios)\u001b[0m\n\u001b[1;32m    376\u001b[0m \u001b[39mself\u001b[39m\u001b[39m.\u001b[39mhspace \u001b[39m=\u001b[39m hspace\n\u001b[1;32m    377\u001b[0m \u001b[39mself\u001b[39m\u001b[39m.\u001b[39mfigure \u001b[39m=\u001b[39m figure\n\u001b[0;32m--> 379\u001b[0m \u001b[39msuper\u001b[39;49m()\u001b[39m.\u001b[39;49m\u001b[39m__init__\u001b[39;49m(nrows, ncols,\n\u001b[1;32m    380\u001b[0m                  width_ratios\u001b[39m=\u001b[39;49mwidth_ratios,\n\u001b[1;32m    381\u001b[0m                  height_ratios\u001b[39m=\u001b[39;49mheight_ratios)\n",
      "File \u001b[0;32m~/Documents/afa_ts/afa_env/lib/python3.8/site-packages/matplotlib/gridspec.py:52\u001b[0m, in \u001b[0;36mGridSpecBase.__init__\u001b[0;34m(self, nrows, ncols, height_ratios, width_ratios)\u001b[0m\n\u001b[1;32m     49\u001b[0m     \u001b[39mraise\u001b[39;00m \u001b[39mValueError\u001b[39;00m(\n\u001b[1;32m     50\u001b[0m         \u001b[39mf\u001b[39m\u001b[39m\"\u001b[39m\u001b[39mNumber of rows must be a positive integer, not \u001b[39m\u001b[39m{\u001b[39;00mnrows\u001b[39m!r}\u001b[39;00m\u001b[39m\"\u001b[39m)\n\u001b[1;32m     51\u001b[0m \u001b[39mif\u001b[39;00m \u001b[39mnot\u001b[39;00m \u001b[39misinstance\u001b[39m(ncols, Integral) \u001b[39mor\u001b[39;00m ncols \u001b[39m<\u001b[39m\u001b[39m=\u001b[39m \u001b[39m0\u001b[39m:\n\u001b[0;32m---> 52\u001b[0m     \u001b[39mraise\u001b[39;00m \u001b[39mValueError\u001b[39;00m(\n\u001b[1;32m     53\u001b[0m         \u001b[39mf\u001b[39m\u001b[39m\"\u001b[39m\u001b[39mNumber of columns must be a positive integer, not \u001b[39m\u001b[39m{\u001b[39;00mncols\u001b[39m!r}\u001b[39;00m\u001b[39m\"\u001b[39m)\n\u001b[1;32m     54\u001b[0m \u001b[39mself\u001b[39m\u001b[39m.\u001b[39m_nrows, \u001b[39mself\u001b[39m\u001b[39m.\u001b[39m_ncols \u001b[39m=\u001b[39m nrows, ncols\n\u001b[1;32m     55\u001b[0m \u001b[39mself\u001b[39m\u001b[39m.\u001b[39mset_height_ratios(height_ratios)\n",
      "\u001b[0;31mValueError\u001b[0m: Number of columns must be a positive integer, not 0"
     ]
    },
    {
     "data": {
      "text/plain": [
       "<Figure size 0x500 with 0 Axes>"
      ]
     },
     "metadata": {},
     "output_type": "display_data"
    }
   ],
   "source": [
    "# compare values for p(R=1|X)\n",
    "dataset.miss_model.plot_ps_comparison( )"
   ]
  },
  {
   "cell_type": "markdown",
   "id": "7447ac63-2388-4c5e-9f74-ad336310d2a6",
   "metadata": {},
   "source": [
    "## Save computed ps values"
   ]
  },
  {
   "cell_type": "code",
   "execution_count": 56,
   "id": "4c298377-0219-49c6-b8ba-551862fafea0",
   "metadata": {},
   "outputs": [],
   "source": [
    "dataset.miss_model.save( data_dir = paths['data_dir']) "
   ]
  },
  {
   "cell_type": "markdown",
   "id": "d2210643-531e-4afe-a715-065007dbfa69",
   "metadata": {},
   "source": [
    "## Reporting: summarize the propensity score model and its training performance\n",
    "Store information in reports folder in latex / markdown format."
   ]
  },
  {
   "cell_type": "code",
   "execution_count": 57,
   "id": "2380c51f-50da-437a-9422-8aee903b2942",
   "metadata": {},
   "outputs": [
    {
     "name": "stdout",
     "output_type": "stream",
     "text": [
      "[Errno 2] No such file or directory: 'pandoc'\n",
      "Error, but instead of markdown format, saving the latex format into the file \"/home2/joshua.wendland/Documents/afa_mi_policies/data/miiv_test/MCAR_1/ps_models/ps_lr/model_report.md\" . \n",
      "Content of file:\n",
      "\n",
      "\\usepackage{longtable}\\subsubsection{The Propensity Score Model : ps_lr}\n",
      "\\subparagraph{Identification}\n",
      "The PS model has the following identifying formula: \\subparagraph{Estimation}\n",
      "\\begin{figure}\\centering\\includegraphics[width=0.5 \\textwidth]{img/model_report_Propensity Score Model Training.png}\\caption{Goodness of fit for propensity score model}\\label{fig:img/model_report_Propensity Score Model Training.png}\\end{figure}\n"
     ]
    }
   ],
   "source": [
    "explanation_file = ps_model.directory + 'model_report.md'  # +  'reports/' + 'model_report' \n",
    "ps_model.explain(file= explanation_file, format = 'markdown')\n",
    "#ps_model.explain(file=  explanation_file + '.tex', format = 'latex')"
   ]
  },
  {
   "cell_type": "code",
   "execution_count": null,
   "id": "ca05d1bc-ee23-40e2-bc75-eb644b7c18a4",
   "metadata": {},
   "outputs": [],
   "source": []
  }
 ],
 "metadata": {
  "kernelspec": {
   "display_name": "afa_env",
   "language": "python",
   "name": "afa_env"
  },
  "language_info": {
   "codemirror_mode": {
    "name": "ipython",
    "version": 3
   },
   "file_extension": ".py",
   "mimetype": "text/x-python",
   "name": "python",
   "nbconvert_exporter": "python",
   "pygments_lexer": "ipython3",
   "version": "3.8.10"
  }
 },
 "nbformat": 4,
 "nbformat_minor": 5
}
